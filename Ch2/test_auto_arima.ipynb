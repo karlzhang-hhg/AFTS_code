{
 "cells": [
  {
   "cell_type": "markdown",
   "id": "cfaa6467",
   "metadata": {
    "toc": true
   },
   "source": [
    "<h1>Table of Contents<span class=\"tocSkip\"></span></h1>\n",
    "<div class=\"toc\"><ul class=\"toc-item\"><li><span><a href=\"#Test-auto.arima-on-simulated-data\" data-toc-modified-id=\"Test-auto.arima-on-simulated-data-1\"><span class=\"toc-item-num\">1&nbsp;&nbsp;</span>Test <code>auto.arima</code> on simulated data</a></span></li><li><span><a href=\"#Test-auto.arima-on-real-data\" data-toc-modified-id=\"Test-auto.arima-on-real-data-2\"><span class=\"toc-item-num\">2&nbsp;&nbsp;</span>Test <code>auto.arima</code> on real data</a></span><ul class=\"toc-item\"><li><span><a href=\"#A-subset-of-time-series\" data-toc-modified-id=\"A-subset-of-time-series-2.1\"><span class=\"toc-item-num\">2.1&nbsp;&nbsp;</span>A subset of time series</a></span></li><li><span><a href=\"#All-data\" data-toc-modified-id=\"All-data-2.2\"><span class=\"toc-item-num\">2.2&nbsp;&nbsp;</span>All data</a></span></li></ul></li></ul></div>"
   ]
  },
  {
   "cell_type": "code",
   "execution_count": 1,
   "id": "59b45747",
   "metadata": {
    "ExecuteTime": {
     "end_time": "2024-02-29T06:13:26.294755Z",
     "start_time": "2024-02-29T06:13:25.826Z"
    }
   },
   "outputs": [
    {
     "name": "stdout",
     "output_type": "stream",
     "text": [
      "               _                           \n",
      "platform       x86_64-pc-linux-gnu         \n",
      "arch           x86_64                      \n",
      "os             linux-gnu                   \n",
      "system         x86_64, linux-gnu           \n",
      "status                                     \n",
      "major          4                           \n",
      "minor          3.0                         \n",
      "year           2023                        \n",
      "month          04                          \n",
      "day            21                          \n",
      "svn rev        84292                       \n",
      "language       R                           \n",
      "version.string R version 4.3.0 (2023-04-21)\n",
      "nickname       Already Tomorrow            \n"
     ]
    },
    {
     "data": {
      "text/html": [
       "'/software/R/4.3.0/lib64/R/bin/R'"
      ],
      "text/latex": [
       "'/software/R/4.3.0/lib64/R/bin/R'"
      ],
      "text/markdown": [
       "'/software/R/4.3.0/lib64/R/bin/R'"
      ],
      "text/plain": [
       "[1] \"/software/R/4.3.0/lib64/R/bin/R\""
      ]
     },
     "metadata": {},
     "output_type": "display_data"
    }
   ],
   "source": [
    "print(R.version)\n",
    "file.path(R.home(\"bin\"), \"R\")"
   ]
  },
  {
   "cell_type": "code",
   "execution_count": 2,
   "id": "f1d288af",
   "metadata": {
    "ExecuteTime": {
     "end_time": "2024-02-29T06:13:29.609478Z",
     "start_time": "2024-02-29T06:13:29.465Z"
    }
   },
   "outputs": [
    {
     "data": {
      "text/html": [
       "<style>\n",
       ".list-inline {list-style: none; margin:0; padding: 0}\n",
       ".list-inline>li {display: inline-block}\n",
       ".list-inline>li:not(:last-child)::after {content: \"\\00b7\"; padding: 0 .5ex}\n",
       "</style>\n",
       "<ol class=list-inline><li>'/home/kzy816/R/x86_64-pc-linux-gnu-library/4.3'</li><li>'/hpc/software/R/4.3.0/lib64/R/library'</li></ol>\n"
      ],
      "text/latex": [
       "\\begin{enumerate*}\n",
       "\\item '/home/kzy816/R/x86\\_64-pc-linux-gnu-library/4.3'\n",
       "\\item '/hpc/software/R/4.3.0/lib64/R/library'\n",
       "\\end{enumerate*}\n"
      ],
      "text/markdown": [
       "1. '/home/kzy816/R/x86_64-pc-linux-gnu-library/4.3'\n",
       "2. '/hpc/software/R/4.3.0/lib64/R/library'\n",
       "\n",
       "\n"
      ],
      "text/plain": [
       "[1] \"/home/kzy816/R/x86_64-pc-linux-gnu-library/4.3\"\n",
       "[2] \"/hpc/software/R/4.3.0/lib64/R/library\"         "
      ]
     },
     "metadata": {},
     "output_type": "display_data"
    }
   ],
   "source": [
    ".libPaths()"
   ]
  },
  {
   "cell_type": "markdown",
   "id": "06a6e030",
   "metadata": {},
   "source": [
    "# Test `auto.arima` on simulated data"
   ]
  },
  {
   "cell_type": "code",
   "execution_count": 12,
   "id": "680d32d0",
   "metadata": {
    "ExecuteTime": {
     "end_time": "2024-02-29T06:22:45.220408Z",
     "start_time": "2024-02-29T06:22:43.294Z"
    }
   },
   "outputs": [
    {
     "data": {
      "image/png": "[encoded data removed]",
      "text/plain": [
       "Plot with title “Forecasts from Regression with ARIMA(0,0,0)(1,0,0)[12] errors”"
      ]
     },
     "metadata": {
      "image/png": {
       "height": 420,
       "width": 420
      }
     },
     "output_type": "display_data"
    }
   ],
   "source": [
    "# Assuming 'forecast' package is installed and loaded\n",
    "library(forecast)\n",
    "\n",
    "# Simulate some time series data\n",
    "set.seed(123)\n",
    "ts_data <- ts(rnorm(100), frequency = 12, start = c(2000, 1))\n",
    "\n",
    "# Simulate exogenous regressor data for model fitting\n",
    "xreg_train <- matrix(rnorm(200), ncol = 2) # Two exogenous regressors\n",
    "\n",
    "# Fit an ARIMA model with exogenous regressors\n",
    "# fit <- auto.arima(ts_data, xreg = xreg_train)\n",
    "fit <- auto.arima(ts_data, xreg = xreg_train)\n",
    "\n",
    "# Simulate future values of the exogenous regressors for forecasting\n",
    "xreg_future <- matrix(rnorm(24), ncol = 2) # Two exogenous regressors for 12 future periods\n",
    "\n",
    "# Forecast using the model and future values of exogenous regressors\n",
    "forecast_result <- forecast(fit, xreg = xreg_future)\n",
    "\n",
    "# Plot the forecast\n",
    "par(bg = 'white')\n",
    "plot(forecast_result)"
   ]
  },
  {
   "cell_type": "code",
   "execution_count": null,
   "id": "98a2de98",
   "metadata": {},
   "outputs": [],
   "source": []
  },
  {
   "cell_type": "markdown",
   "id": "5cb09236",
   "metadata": {},
   "source": [
    "# Test `auto.arima` on real data"
   ]
  },
  {
   "cell_type": "code",
   "execution_count": 3,
   "id": "336a13ab",
   "metadata": {
    "ExecuteTime": {
     "end_time": "2024-02-29T06:13:31.331900Z",
     "start_time": "2024-02-29T06:13:31.210Z"
    }
   },
   "outputs": [],
   "source": [
    "lib_dir = \"/home/kzy816/R/x86_64-pc-linux-gnu-library/4.3/\""
   ]
  },
  {
   "cell_type": "code",
   "execution_count": 4,
   "id": "110ee02c",
   "metadata": {
    "ExecuteTime": {
     "end_time": "2024-02-29T06:13:44.861614Z",
     "start_time": "2024-02-29T06:13:31.801Z"
    }
   },
   "outputs": [],
   "source": [
    "# install.packages(\"sandwich\", lib = lib_dir)"
   ]
  },
  {
   "cell_type": "code",
   "execution_count": 5,
   "id": "6af95ce7",
   "metadata": {
    "ExecuteTime": {
     "end_time": "2024-02-29T06:13:48.460007Z",
     "start_time": "2024-02-29T06:13:34.027Z"
    }
   },
   "outputs": [
    {
     "name": "stderr",
     "output_type": "stream",
     "text": [
      "Loading required package: xts\n",
      "\n",
      "Loading required package: zoo\n",
      "\n",
      "\n",
      "Attaching package: ‘zoo’\n",
      "\n",
      "\n",
      "The following objects are masked from ‘package:base’:\n",
      "\n",
      "    as.Date, as.Date.numeric\n",
      "\n",
      "\n",
      "Loading required package: sandwich\n",
      "\n",
      "Loading required package: lmtest\n",
      "\n",
      "Loading required package: forecast\n",
      "\n",
      "Registered S3 method overwritten by 'quantmod':\n",
      "  method            from\n",
      "  as.zoo.data.frame zoo \n",
      "\n"
     ]
    }
   ],
   "source": [
    "require(xts)\n",
    "require(sandwich)\n",
    "require(lmtest)\n",
    "require(forecast)"
   ]
  },
  {
   "cell_type": "code",
   "execution_count": 8,
   "id": "9fee69d9",
   "metadata": {
    "ExecuteTime": {
     "end_time": "2024-02-29T06:14:04.025829Z",
     "start_time": "2024-02-29T06:14:03.885Z"
    }
   },
   "outputs": [
    {
     "data": {
      "text/html": [
       "<table class=\"dataframe\">\n",
       "<caption>A data.frame: 5 × 12</caption>\n",
       "<thead>\n",
       "\t<tr><th></th><th scope=col>year</th><th scope=col>mom</th><th scope=col>day</th><th scope=col>ibm</th><th scope=col>vw</th><th scope=col>ew</th><th scope=col>sp</th><th scope=col>M</th><th scope=col>T</th><th scope=col>W</th><th scope=col>R</th><th scope=col>F</th></tr>\n",
       "\t<tr><th></th><th scope=col>&lt;int&gt;</th><th scope=col>&lt;int&gt;</th><th scope=col>&lt;int&gt;</th><th scope=col>&lt;dbl&gt;</th><th scope=col>&lt;dbl&gt;</th><th scope=col>&lt;dbl&gt;</th><th scope=col>&lt;dbl&gt;</th><th scope=col>&lt;int&gt;</th><th scope=col>&lt;int&gt;</th><th scope=col>&lt;int&gt;</th><th scope=col>&lt;int&gt;</th><th scope=col>&lt;int&gt;</th></tr>\n",
       "</thead>\n",
       "<tbody>\n",
       "\t<tr><th scope=row>1</th><td>1980</td><td>1</td><td>2</td><td>-0.029126</td><td>-0.020089</td><td>-0.011686</td><td>-0.020196</td><td>0</td><td>0</td><td>1</td><td>0</td><td>0</td></tr>\n",
       "\t<tr><th scope=row>2</th><td>1980</td><td>1</td><td>3</td><td> 0.016000</td><td>-0.006510</td><td>-0.011628</td><td>-0.005106</td><td>0</td><td>0</td><td>0</td><td>1</td><td>0</td></tr>\n",
       "\t<tr><th scope=row>3</th><td>1980</td><td>1</td><td>4</td><td>-0.001969</td><td> 0.013735</td><td> 0.015809</td><td> 0.012355</td><td>0</td><td>0</td><td>0</td><td>0</td><td>1</td></tr>\n",
       "\t<tr><th scope=row>4</th><td>1980</td><td>1</td><td>7</td><td>-0.003945</td><td> 0.004368</td><td> 0.007013</td><td> 0.002722</td><td>1</td><td>0</td><td>0</td><td>0</td><td>0</td></tr>\n",
       "\t<tr><th scope=row>5</th><td>1980</td><td>1</td><td>8</td><td> 0.067327</td><td> 0.019340</td><td> 0.014152</td><td> 0.020036</td><td>0</td><td>1</td><td>0</td><td>0</td><td>0</td></tr>\n",
       "</tbody>\n",
       "</table>\n"
      ],
      "text/latex": [
       "A data.frame: 5 × 12\n",
       "\\begin{tabular}{r|llllllllllll}\n",
       "  & year & mom & day & ibm & vw & ew & sp & M & T & W & R & F\\\\\n",
       "  & <int> & <int> & <int> & <dbl> & <dbl> & <dbl> & <dbl> & <int> & <int> & <int> & <int> & <int>\\\\\n",
       "\\hline\n",
       "\t1 & 1980 & 1 & 2 & -0.029126 & -0.020089 & -0.011686 & -0.020196 & 0 & 0 & 1 & 0 & 0\\\\\n",
       "\t2 & 1980 & 1 & 3 &  0.016000 & -0.006510 & -0.011628 & -0.005106 & 0 & 0 & 0 & 1 & 0\\\\\n",
       "\t3 & 1980 & 1 & 4 & -0.001969 &  0.013735 &  0.015809 &  0.012355 & 0 & 0 & 0 & 0 & 1\\\\\n",
       "\t4 & 1980 & 1 & 7 & -0.003945 &  0.004368 &  0.007013 &  0.002722 & 1 & 0 & 0 & 0 & 0\\\\\n",
       "\t5 & 1980 & 1 & 8 &  0.067327 &  0.019340 &  0.014152 &  0.020036 & 0 & 1 & 0 & 0 & 0\\\\\n",
       "\\end{tabular}\n"
      ],
      "text/markdown": [
       "\n",
       "A data.frame: 5 × 12\n",
       "\n",
       "| <!--/--> | year &lt;int&gt; | mom &lt;int&gt; | day &lt;int&gt; | ibm &lt;dbl&gt; | vw &lt;dbl&gt; | ew &lt;dbl&gt; | sp &lt;dbl&gt; | M &lt;int&gt; | T &lt;int&gt; | W &lt;int&gt; | R &lt;int&gt; | F &lt;int&gt; |\n",
       "|---|---|---|---|---|---|---|---|---|---|---|---|---|\n",
       "| 1 | 1980 | 1 | 2 | -0.029126 | -0.020089 | -0.011686 | -0.020196 | 0 | 0 | 1 | 0 | 0 |\n",
       "| 2 | 1980 | 1 | 3 |  0.016000 | -0.006510 | -0.011628 | -0.005106 | 0 | 0 | 0 | 1 | 0 |\n",
       "| 3 | 1980 | 1 | 4 | -0.001969 |  0.013735 |  0.015809 |  0.012355 | 0 | 0 | 0 | 0 | 1 |\n",
       "| 4 | 1980 | 1 | 7 | -0.003945 |  0.004368 |  0.007013 |  0.002722 | 1 | 0 | 0 | 0 | 0 |\n",
       "| 5 | 1980 | 1 | 8 |  0.067327 |  0.019340 |  0.014152 |  0.020036 | 0 | 1 | 0 | 0 | 0 |\n",
       "\n"
      ],
      "text/plain": [
       "  year mom day ibm       vw        ew        sp        M T W R F\n",
       "1 1980 1   2   -0.029126 -0.020089 -0.011686 -0.020196 0 0 1 0 0\n",
       "2 1980 1   3    0.016000 -0.006510 -0.011628 -0.005106 0 0 0 1 0\n",
       "3 1980 1   4   -0.001969  0.013735  0.015809  0.012355 0 0 0 0 1\n",
       "4 1980 1   7   -0.003945  0.004368  0.007013  0.002722 1 0 0 0 0\n",
       "5 1980 1   8    0.067327  0.019340  0.014152  0.020036 0 1 0 0 0"
      ]
     },
     "metadata": {},
     "output_type": "display_data"
    }
   ],
   "source": [
    "da = read.table(\"../AFTS_sol/data/d-ibm3dxwkdays8008.txt\", header = T)\n",
    "da[1:5,]"
   ]
  },
  {
   "cell_type": "code",
   "execution_count": 9,
   "id": "6be62042",
   "metadata": {
    "ExecuteTime": {
     "end_time": "2024-02-29T06:14:04.642359Z",
     "start_time": "2024-02-29T06:14:04.533Z"
    }
   },
   "outputs": [],
   "source": [
    "ew = da$ew * 100\n",
    "ew_ts = ts(ew, frequency = 252, start = c(1980, 1, 2))"
   ]
  },
  {
   "cell_type": "code",
   "execution_count": 10,
   "id": "3f2871fd",
   "metadata": {
    "ExecuteTime": {
     "end_time": "2024-02-29T06:14:06.567800Z",
     "start_time": "2024-02-29T06:14:05.917Z"
    }
   },
   "outputs": [],
   "source": [
    "help(auto.arima)"
   ]
  },
  {
   "cell_type": "markdown",
   "id": "c0ea8e78",
   "metadata": {},
   "source": [
    "## A subset of time series"
   ]
  },
  {
   "cell_type": "code",
   "execution_count": 16,
   "id": "32d4a1b2",
   "metadata": {
    "ExecuteTime": {
     "end_time": "2024-02-29T06:34:52.711197Z",
     "start_time": "2024-02-29T06:34:52.549Z"
    },
    "scrolled": true
   },
   "outputs": [
    {
     "data": {
      "text/html": [
       "<table class=\"dataframe\">\n",
       "<caption>A data.frame: 11 × 12</caption>\n",
       "<thead>\n",
       "\t<tr><th></th><th scope=col>year</th><th scope=col>mom</th><th scope=col>day</th><th scope=col>ibm</th><th scope=col>vw</th><th scope=col>ew</th><th scope=col>sp</th><th scope=col>M</th><th scope=col>T</th><th scope=col>W</th><th scope=col>R</th><th scope=col>F</th></tr>\n",
       "\t<tr><th></th><th scope=col>&lt;int&gt;</th><th scope=col>&lt;int&gt;</th><th scope=col>&lt;int&gt;</th><th scope=col>&lt;dbl&gt;</th><th scope=col>&lt;dbl&gt;</th><th scope=col>&lt;dbl&gt;</th><th scope=col>&lt;dbl&gt;</th><th scope=col>&lt;int&gt;</th><th scope=col>&lt;int&gt;</th><th scope=col>&lt;int&gt;</th><th scope=col>&lt;int&gt;</th><th scope=col>&lt;int&gt;</th></tr>\n",
       "</thead>\n",
       "<tbody>\n",
       "\t<tr><th scope=row>6560</th><td>2005</td><td>12</td><td>23</td><td> 0.003124</td><td> 0.000981</td><td> 0.003363</td><td> 0.000426</td><td>0</td><td>0</td><td>0</td><td>0</td><td>1</td></tr>\n",
       "\t<tr><th scope=row>6561</th><td>2005</td><td>12</td><td>27</td><td>-0.005870</td><td>-0.009806</td><td>-0.007569</td><td>-0.009553</td><td>0</td><td>1</td><td>0</td><td>0</td><td>0</td></tr>\n",
       "\t<tr><th scope=row>6562</th><td>2005</td><td>12</td><td>28</td><td> 0.000603</td><td> 0.002857</td><td> 0.003299</td><td> 0.001297</td><td>0</td><td>0</td><td>1</td><td>0</td><td>0</td></tr>\n",
       "\t<tr><th scope=row>6563</th><td>2005</td><td>12</td><td>29</td><td>-0.007707</td><td>-0.002343</td><td> 0.000072</td><td>-0.002981</td><td>0</td><td>0</td><td>0</td><td>1</td><td>0</td></tr>\n",
       "\t<tr><th scope=row>6564</th><td>2005</td><td>12</td><td>30</td><td>-0.002427</td><td>-0.004415</td><td> 0.000053</td><td>-0.004887</td><td>0</td><td>0</td><td>0</td><td>0</td><td>1</td></tr>\n",
       "\t<tr><th scope=row>6565</th><td>2006</td><td> 1</td><td> 3</td><td>-0.001703</td><td> 0.016428</td><td> 0.010981</td><td> 0.016430</td><td>0</td><td>1</td><td>0</td><td>0</td><td>0</td></tr>\n",
       "\t<tr><th scope=row>6566</th><td>2006</td><td> 1</td><td> 4</td><td>-0.001340</td><td> 0.005531</td><td> 0.007697</td><td> 0.003673</td><td>0</td><td>0</td><td>1</td><td>0</td><td>0</td></tr>\n",
       "\t<tr><th scope=row>6567</th><td>2006</td><td> 1</td><td> 5</td><td> 0.006711</td><td>-0.000332</td><td> 0.002920</td><td> 0.000016</td><td>0</td><td>0</td><td>0</td><td>1</td><td>0</td></tr>\n",
       "\t<tr><th scope=row>6568</th><td>2006</td><td> 1</td><td> 6</td><td> 0.029697</td><td> 0.009813</td><td> 0.009032</td><td> 0.009399</td><td>0</td><td>0</td><td>0</td><td>0</td><td>1</td></tr>\n",
       "\t<tr><th scope=row>6569</th><td>2006</td><td> 1</td><td> 9</td><td>-0.014361</td><td> 0.004303</td><td> 0.007009</td><td> 0.003656</td><td>1</td><td>0</td><td>0</td><td>0</td><td>0</td></tr>\n",
       "\t<tr><th scope=row>6570</th><td>2006</td><td> 1</td><td>10</td><td> 0.004061</td><td> 0.000978</td><td> 0.004278</td><td>-0.000357</td><td>0</td><td>1</td><td>0</td><td>0</td><td>0</td></tr>\n",
       "</tbody>\n",
       "</table>\n"
      ],
      "text/latex": [
       "A data.frame: 11 × 12\n",
       "\\begin{tabular}{r|llllllllllll}\n",
       "  & year & mom & day & ibm & vw & ew & sp & M & T & W & R & F\\\\\n",
       "  & <int> & <int> & <int> & <dbl> & <dbl> & <dbl> & <dbl> & <int> & <int> & <int> & <int> & <int>\\\\\n",
       "\\hline\n",
       "\t6560 & 2005 & 12 & 23 &  0.003124 &  0.000981 &  0.003363 &  0.000426 & 0 & 0 & 0 & 0 & 1\\\\\n",
       "\t6561 & 2005 & 12 & 27 & -0.005870 & -0.009806 & -0.007569 & -0.009553 & 0 & 1 & 0 & 0 & 0\\\\\n",
       "\t6562 & 2005 & 12 & 28 &  0.000603 &  0.002857 &  0.003299 &  0.001297 & 0 & 0 & 1 & 0 & 0\\\\\n",
       "\t6563 & 2005 & 12 & 29 & -0.007707 & -0.002343 &  0.000072 & -0.002981 & 0 & 0 & 0 & 1 & 0\\\\\n",
       "\t6564 & 2005 & 12 & 30 & -0.002427 & -0.004415 &  0.000053 & -0.004887 & 0 & 0 & 0 & 0 & 1\\\\\n",
       "\t6565 & 2006 &  1 &  3 & -0.001703 &  0.016428 &  0.010981 &  0.016430 & 0 & 1 & 0 & 0 & 0\\\\\n",
       "\t6566 & 2006 &  1 &  4 & -0.001340 &  0.005531 &  0.007697 &  0.003673 & 0 & 0 & 1 & 0 & 0\\\\\n",
       "\t6567 & 2006 &  1 &  5 &  0.006711 & -0.000332 &  0.002920 &  0.000016 & 0 & 0 & 0 & 1 & 0\\\\\n",
       "\t6568 & 2006 &  1 &  6 &  0.029697 &  0.009813 &  0.009032 &  0.009399 & 0 & 0 & 0 & 0 & 1\\\\\n",
       "\t6569 & 2006 &  1 &  9 & -0.014361 &  0.004303 &  0.007009 &  0.003656 & 1 & 0 & 0 & 0 & 0\\\\\n",
       "\t6570 & 2006 &  1 & 10 &  0.004061 &  0.000978 &  0.004278 & -0.000357 & 0 & 1 & 0 & 0 & 0\\\\\n",
       "\\end{tabular}\n"
      ],
      "text/markdown": [
       "\n",
       "A data.frame: 11 × 12\n",
       "\n",
       "| <!--/--> | year &lt;int&gt; | mom &lt;int&gt; | day &lt;int&gt; | ibm &lt;dbl&gt; | vw &lt;dbl&gt; | ew &lt;dbl&gt; | sp &lt;dbl&gt; | M &lt;int&gt; | T &lt;int&gt; | W &lt;int&gt; | R &lt;int&gt; | F &lt;int&gt; |\n",
       "|---|---|---|---|---|---|---|---|---|---|---|---|---|\n",
       "| 6560 | 2005 | 12 | 23 |  0.003124 |  0.000981 |  0.003363 |  0.000426 | 0 | 0 | 0 | 0 | 1 |\n",
       "| 6561 | 2005 | 12 | 27 | -0.005870 | -0.009806 | -0.007569 | -0.009553 | 0 | 1 | 0 | 0 | 0 |\n",
       "| 6562 | 2005 | 12 | 28 |  0.000603 |  0.002857 |  0.003299 |  0.001297 | 0 | 0 | 1 | 0 | 0 |\n",
       "| 6563 | 2005 | 12 | 29 | -0.007707 | -0.002343 |  0.000072 | -0.002981 | 0 | 0 | 0 | 1 | 0 |\n",
       "| 6564 | 2005 | 12 | 30 | -0.002427 | -0.004415 |  0.000053 | -0.004887 | 0 | 0 | 0 | 0 | 1 |\n",
       "| 6565 | 2006 |  1 |  3 | -0.001703 |  0.016428 |  0.010981 |  0.016430 | 0 | 1 | 0 | 0 | 0 |\n",
       "| 6566 | 2006 |  1 |  4 | -0.001340 |  0.005531 |  0.007697 |  0.003673 | 0 | 0 | 1 | 0 | 0 |\n",
       "| 6567 | 2006 |  1 |  5 |  0.006711 | -0.000332 |  0.002920 |  0.000016 | 0 | 0 | 0 | 1 | 0 |\n",
       "| 6568 | 2006 |  1 |  6 |  0.029697 |  0.009813 |  0.009032 |  0.009399 | 0 | 0 | 0 | 0 | 1 |\n",
       "| 6569 | 2006 |  1 |  9 | -0.014361 |  0.004303 |  0.007009 |  0.003656 | 1 | 0 | 0 | 0 | 0 |\n",
       "| 6570 | 2006 |  1 | 10 |  0.004061 |  0.000978 |  0.004278 | -0.000357 | 0 | 1 | 0 | 0 | 0 |\n",
       "\n"
      ],
      "text/plain": [
       "     year mom day ibm       vw        ew        sp        M T W R F\n",
       "6560 2005 12  23   0.003124  0.000981  0.003363  0.000426 0 0 0 0 1\n",
       "6561 2005 12  27  -0.005870 -0.009806 -0.007569 -0.009553 0 1 0 0 0\n",
       "6562 2005 12  28   0.000603  0.002857  0.003299  0.001297 0 0 1 0 0\n",
       "6563 2005 12  29  -0.007707 -0.002343  0.000072 -0.002981 0 0 0 1 0\n",
       "6564 2005 12  30  -0.002427 -0.004415  0.000053 -0.004887 0 0 0 0 1\n",
       "6565 2006  1   3  -0.001703  0.016428  0.010981  0.016430 0 1 0 0 0\n",
       "6566 2006  1   4  -0.001340  0.005531  0.007697  0.003673 0 0 1 0 0\n",
       "6567 2006  1   5   0.006711 -0.000332  0.002920  0.000016 0 0 0 1 0\n",
       "6568 2006  1   6   0.029697  0.009813  0.009032  0.009399 0 0 0 0 1\n",
       "6569 2006  1   9  -0.014361  0.004303  0.007009  0.003656 1 0 0 0 0\n",
       "6570 2006  1  10   0.004061  0.000978  0.004278 -0.000357 0 1 0 0 0"
      ]
     },
     "metadata": {},
     "output_type": "display_data"
    },
    {
     "data": {
      "text/html": [
       "<table class=\"dataframe\">\n",
       "<caption>A data.frame: 11 × 12</caption>\n",
       "<thead>\n",
       "\t<tr><th></th><th scope=col>year</th><th scope=col>mom</th><th scope=col>day</th><th scope=col>ibm</th><th scope=col>vw</th><th scope=col>ew</th><th scope=col>sp</th><th scope=col>M</th><th scope=col>T</th><th scope=col>W</th><th scope=col>R</th><th scope=col>F</th></tr>\n",
       "\t<tr><th></th><th scope=col>&lt;int&gt;</th><th scope=col>&lt;int&gt;</th><th scope=col>&lt;int&gt;</th><th scope=col>&lt;dbl&gt;</th><th scope=col>&lt;dbl&gt;</th><th scope=col>&lt;dbl&gt;</th><th scope=col>&lt;dbl&gt;</th><th scope=col>&lt;int&gt;</th><th scope=col>&lt;int&gt;</th><th scope=col>&lt;int&gt;</th><th scope=col>&lt;int&gt;</th><th scope=col>&lt;int&gt;</th></tr>\n",
       "</thead>\n",
       "<tbody>\n",
       "\t<tr><th scope=row>6812</th><td>2006</td><td>12</td><td>26</td><td> 0.004305</td><td> 0.004329</td><td> 0.004140</td><td> 0.004352</td><td>0</td><td>1</td><td>0</td><td>0</td><td>0</td></tr>\n",
       "\t<tr><th scope=row>6813</th><td>2006</td><td>12</td><td>27</td><td> 0.016099</td><td> 0.007789</td><td> 0.008718</td><td> 0.007015</td><td>0</td><td>0</td><td>1</td><td>0</td><td>0</td></tr>\n",
       "\t<tr><th scope=row>6814</th><td>2006</td><td>12</td><td>28</td><td>-0.002366</td><td>-0.001034</td><td>-0.000479</td><td>-0.001479</td><td>0</td><td>0</td><td>0</td><td>1</td><td>0</td></tr>\n",
       "\t<tr><th scope=row>6815</th><td>2006</td><td>12</td><td>29</td><td> 0.001856</td><td>-0.004519</td><td>-0.001187</td><td>-0.004513</td><td>0</td><td>0</td><td>0</td><td>0</td><td>1</td></tr>\n",
       "\t<tr><th scope=row>6816</th><td>2007</td><td> 1</td><td> 3</td><td> 0.001235</td><td>-0.001349</td><td>-0.000143</td><td>-0.001199</td><td>0</td><td>0</td><td>1</td><td>0</td><td>0</td></tr>\n",
       "\t<tr><th scope=row>6817</th><td>2007</td><td> 1</td><td> 4</td><td> 0.010692</td><td> 0.000605</td><td> 0.000588</td><td> 0.001228</td><td>0</td><td>0</td><td>0</td><td>1</td><td>0</td></tr>\n",
       "\t<tr><th scope=row>6818</th><td>2007</td><td> 1</td><td> 5</td><td>-0.009053</td><td>-0.007231</td><td>-0.009794</td><td>-0.006085</td><td>0</td><td>0</td><td>0</td><td>0</td><td>1</td></tr>\n",
       "\t<tr><th scope=row>6819</th><td>2007</td><td> 1</td><td> 8</td><td> 0.015192</td><td> 0.002559</td><td> 0.001731</td><td> 0.002220</td><td>1</td><td>0</td><td>0</td><td>0</td><td>0</td></tr>\n",
       "\t<tr><th scope=row>6820</th><td>2007</td><td> 1</td><td> 9</td><td> 0.011830</td><td>-0.000023</td><td> 0.000276</td><td>-0.000517</td><td>0</td><td>1</td><td>0</td><td>0</td><td>0</td></tr>\n",
       "\t<tr><th scope=row>6821</th><td>2007</td><td> 1</td><td>10</td><td>-0.011792</td><td> 0.002087</td><td> 0.001356</td><td> 0.001940</td><td>0</td><td>0</td><td>1</td><td>0</td><td>0</td></tr>\n",
       "\t<tr><th scope=row>6822</th><td>2007</td><td> 1</td><td>11</td><td>-0.002427</td><td> 0.007300</td><td> 0.007750</td><td> 0.006340</td><td>0</td><td>0</td><td>0</td><td>1</td><td>0</td></tr>\n",
       "</tbody>\n",
       "</table>\n"
      ],
      "text/latex": [
       "A data.frame: 11 × 12\n",
       "\\begin{tabular}{r|llllllllllll}\n",
       "  & year & mom & day & ibm & vw & ew & sp & M & T & W & R & F\\\\\n",
       "  & <int> & <int> & <int> & <dbl> & <dbl> & <dbl> & <dbl> & <int> & <int> & <int> & <int> & <int>\\\\\n",
       "\\hline\n",
       "\t6812 & 2006 & 12 & 26 &  0.004305 &  0.004329 &  0.004140 &  0.004352 & 0 & 1 & 0 & 0 & 0\\\\\n",
       "\t6813 & 2006 & 12 & 27 &  0.016099 &  0.007789 &  0.008718 &  0.007015 & 0 & 0 & 1 & 0 & 0\\\\\n",
       "\t6814 & 2006 & 12 & 28 & -0.002366 & -0.001034 & -0.000479 & -0.001479 & 0 & 0 & 0 & 1 & 0\\\\\n",
       "\t6815 & 2006 & 12 & 29 &  0.001856 & -0.004519 & -0.001187 & -0.004513 & 0 & 0 & 0 & 0 & 1\\\\\n",
       "\t6816 & 2007 &  1 &  3 &  0.001235 & -0.001349 & -0.000143 & -0.001199 & 0 & 0 & 1 & 0 & 0\\\\\n",
       "\t6817 & 2007 &  1 &  4 &  0.010692 &  0.000605 &  0.000588 &  0.001228 & 0 & 0 & 0 & 1 & 0\\\\\n",
       "\t6818 & 2007 &  1 &  5 & -0.009053 & -0.007231 & -0.009794 & -0.006085 & 0 & 0 & 0 & 0 & 1\\\\\n",
       "\t6819 & 2007 &  1 &  8 &  0.015192 &  0.002559 &  0.001731 &  0.002220 & 1 & 0 & 0 & 0 & 0\\\\\n",
       "\t6820 & 2007 &  1 &  9 &  0.011830 & -0.000023 &  0.000276 & -0.000517 & 0 & 1 & 0 & 0 & 0\\\\\n",
       "\t6821 & 2007 &  1 & 10 & -0.011792 &  0.002087 &  0.001356 &  0.001940 & 0 & 0 & 1 & 0 & 0\\\\\n",
       "\t6822 & 2007 &  1 & 11 & -0.002427 &  0.007300 &  0.007750 &  0.006340 & 0 & 0 & 0 & 1 & 0\\\\\n",
       "\\end{tabular}\n"
      ],
      "text/markdown": [
       "\n",
       "A data.frame: 11 × 12\n",
       "\n",
       "| <!--/--> | year &lt;int&gt; | mom &lt;int&gt; | day &lt;int&gt; | ibm &lt;dbl&gt; | vw &lt;dbl&gt; | ew &lt;dbl&gt; | sp &lt;dbl&gt; | M &lt;int&gt; | T &lt;int&gt; | W &lt;int&gt; | R &lt;int&gt; | F &lt;int&gt; |\n",
       "|---|---|---|---|---|---|---|---|---|---|---|---|---|\n",
       "| 6812 | 2006 | 12 | 26 |  0.004305 |  0.004329 |  0.004140 |  0.004352 | 0 | 1 | 0 | 0 | 0 |\n",
       "| 6813 | 2006 | 12 | 27 |  0.016099 |  0.007789 |  0.008718 |  0.007015 | 0 | 0 | 1 | 0 | 0 |\n",
       "| 6814 | 2006 | 12 | 28 | -0.002366 | -0.001034 | -0.000479 | -0.001479 | 0 | 0 | 0 | 1 | 0 |\n",
       "| 6815 | 2006 | 12 | 29 |  0.001856 | -0.004519 | -0.001187 | -0.004513 | 0 | 0 | 0 | 0 | 1 |\n",
       "| 6816 | 2007 |  1 |  3 |  0.001235 | -0.001349 | -0.000143 | -0.001199 | 0 | 0 | 1 | 0 | 0 |\n",
       "| 6817 | 2007 |  1 |  4 |  0.010692 |  0.000605 |  0.000588 |  0.001228 | 0 | 0 | 0 | 1 | 0 |\n",
       "| 6818 | 2007 |  1 |  5 | -0.009053 | -0.007231 | -0.009794 | -0.006085 | 0 | 0 | 0 | 0 | 1 |\n",
       "| 6819 | 2007 |  1 |  8 |  0.015192 |  0.002559 |  0.001731 |  0.002220 | 1 | 0 | 0 | 0 | 0 |\n",
       "| 6820 | 2007 |  1 |  9 |  0.011830 | -0.000023 |  0.000276 | -0.000517 | 0 | 1 | 0 | 0 | 0 |\n",
       "| 6821 | 2007 |  1 | 10 | -0.011792 |  0.002087 |  0.001356 |  0.001940 | 0 | 0 | 1 | 0 | 0 |\n",
       "| 6822 | 2007 |  1 | 11 | -0.002427 |  0.007300 |  0.007750 |  0.006340 | 0 | 0 | 0 | 1 | 0 |\n",
       "\n"
      ],
      "text/plain": [
       "     year mom day ibm       vw        ew        sp        M T W R F\n",
       "6812 2006 12  26   0.004305  0.004329  0.004140  0.004352 0 1 0 0 0\n",
       "6813 2006 12  27   0.016099  0.007789  0.008718  0.007015 0 0 1 0 0\n",
       "6814 2006 12  28  -0.002366 -0.001034 -0.000479 -0.001479 0 0 0 1 0\n",
       "6815 2006 12  29   0.001856 -0.004519 -0.001187 -0.004513 0 0 0 0 1\n",
       "6816 2007  1   3   0.001235 -0.001349 -0.000143 -0.001199 0 0 1 0 0\n",
       "6817 2007  1   4   0.010692  0.000605  0.000588  0.001228 0 0 0 1 0\n",
       "6818 2007  1   5  -0.009053 -0.007231 -0.009794 -0.006085 0 0 0 0 1\n",
       "6819 2007  1   8   0.015192  0.002559  0.001731  0.002220 1 0 0 0 0\n",
       "6820 2007  1   9   0.011830 -0.000023  0.000276 -0.000517 0 1 0 0 0\n",
       "6821 2007  1  10  -0.011792  0.002087  0.001356  0.001940 0 0 1 0 0\n",
       "6822 2007  1  11  -0.002427  0.007300  0.007750  0.006340 0 0 0 1 0"
      ]
     },
     "metadata": {},
     "output_type": "display_data"
    }
   ],
   "source": [
    "da[6560:6570,]; da[6812:6822,]"
   ]
  },
  {
   "cell_type": "code",
   "execution_count": 21,
   "id": "f1e277bc",
   "metadata": {
    "ExecuteTime": {
     "end_time": "2024-02-29T06:37:00.329279Z",
     "start_time": "2024-02-29T06:37:00.106Z"
    }
   },
   "outputs": [
    {
     "data": {
      "text/html": [
       "755"
      ],
      "text/latex": [
       "755"
      ],
      "text/markdown": [
       "755"
      ],
      "text/plain": [
       "[1] 755"
      ]
     },
     "metadata": {},
     "output_type": "display_data"
    }
   ],
   "source": [
    "sub_ew_ts = ts(ew[6565:length(ew)], frequency = 252, start = c(2006, 1, 3))\n",
    "sub_da = da[6565:length(ew),]\n",
    "length(sub_ew_ts)"
   ]
  },
  {
   "cell_type": "code",
   "execution_count": 22,
   "id": "8432df18",
   "metadata": {
    "ExecuteTime": {
     "end_time": "2024-02-29T06:37:07.248630Z",
     "start_time": "2024-02-29T06:37:05.585Z"
    }
   },
   "outputs": [
    {
     "data": {
      "text/plain": [
       "Series: sub_ew_ts \n",
       "Regression with ARIMA(2,0,2) errors \n",
       "\n",
       "Coefficients:\n",
       "          ar1      ar2     ma1     ma2        M       T        W       R\n",
       "      -0.9976  -0.6214  1.0519  0.5740  -0.2183  0.0709  -0.0023  -0.060\n",
       "s.e.   0.2445   0.2018  0.2520  0.2289   0.1147  0.1108   0.1099   0.111\n",
       "\n",
       "sigma^2 = 2.013:  log likelihood = -1331.43\n",
       "AIC=2680.87   AICc=2681.11   BIC=2722.51"
      ]
     },
     "metadata": {},
     "output_type": "display_data"
    }
   ],
   "source": [
    "sub_ts_fm <- auto.arima(\n",
    "    sub_ew_ts,\n",
    "    d = 0,\n",
    "    D = 0,\n",
    "    max.p = 2,\n",
    "    max.q = 2,\n",
    "    max.P = 1,\n",
    "    max.Q = 0,\n",
    "    max.order = 5,\n",
    "    seasonal = TRUE,\n",
    "    method = \"ML\",\n",
    "    allowmean = TRUE,\n",
    "    xreg = as.matrix(sub_da[, 8:11]),\n",
    "    stepwise = FALSE,\n",
    "    parallel = TRUE,\n",
    "    num.cores = 6\n",
    ")\n",
    "sub_ts_fm"
   ]
  },
  {
   "cell_type": "markdown",
   "id": "409ebcf1",
   "metadata": {},
   "source": [
    "## All data"
   ]
  },
  {
   "cell_type": "code",
   "execution_count": null,
   "id": "c6552c06",
   "metadata": {
    "ExecuteTime": {
     "start_time": "2024-02-29T06:38:43.208Z"
    }
   },
   "outputs": [],
   "source": [
    "ts_fm <- auto.arima(\n",
    "    ew_ts,\n",
    "    d = 0,\n",
    "    D = 0,\n",
    "    max.p = 2,\n",
    "    max.q = 2,\n",
    "    max.P = 1,\n",
    "    max.Q = 0,\n",
    "    max.order = 5,\n",
    "    seasonal = TRUE,\n",
    "    method = \"ML\",\n",
    "    allowmean = TRUE,\n",
    "    xreg = as.matrix(da[, 8:11]),\n",
    "    stepwise = FALSE,\n",
    "    parallel = TRUE,\n",
    "    num.cores = 12\n",
    ")\n",
    "ts_fm"
   ]
  },
  {
   "cell_type": "code",
   "execution_count": null,
   "id": "112782e8",
   "metadata": {},
   "outputs": [],
   "source": []
  },
  {
   "cell_type": "code",
   "execution_count": null,
   "id": "f13d1204",
   "metadata": {},
   "outputs": [],
   "source": []
  },
  {
   "cell_type": "code",
   "execution_count": null,
   "id": "e2ec71d8",
   "metadata": {},
   "outputs": [],
   "source": []
  },
  {
   "cell_type": "code",
   "execution_count": null,
   "id": "12e3b059",
   "metadata": {},
   "outputs": [],
   "source": []
  },
  {
   "cell_type": "code",
   "execution_count": null,
   "id": "8eec4bb8",
   "metadata": {},
   "outputs": [],
   "source": []
  }
 ],
 "metadata": {
  "kernelspec": {
   "display_name": "R",
   "language": "R",
   "name": "ir"
  },
  "language_info": {
   "codemirror_mode": "r",
   "file_extension": ".r",
   "mimetype": "text/x-r-source",
   "name": "R",
   "pygments_lexer": "r",
   "version": "4.3.0"
  },
  "toc": {
   "base_numbering": 1,
   "nav_menu": {},
   "number_sections": true,
   "sideBar": true,
   "skip_h1_title": false,
   "title_cell": "Table of Contents",
   "title_sidebar": "Contents",
   "toc_cell": true,
   "toc_position": {},
   "toc_section_display": true,
   "toc_window_display": true
  }
 },
 "nbformat": 4,
 "nbformat_minor": 5
}
