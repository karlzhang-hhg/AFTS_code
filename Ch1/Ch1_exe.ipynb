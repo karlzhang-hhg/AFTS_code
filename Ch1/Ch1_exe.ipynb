{
 "cells": [
  {
   "cell_type": "markdown",
   "id": "1557dfd2",
   "metadata": {
    "toc": true
   },
   "source": [
    "<h1>Table of Contents<span class=\"tocSkip\"></span></h1>\n",
    "<div class=\"toc\"><ul class=\"toc-item\"><li><span><a href=\"#1-1\" data-toc-modified-id=\"1-1-1\"><span class=\"toc-item-num\">1&nbsp;&nbsp;</span>1-1</a></span><ul class=\"toc-item\"><li><span><a href=\"#(a)\" data-toc-modified-id=\"(a)-1.1\"><span class=\"toc-item-num\">1.1&nbsp;&nbsp;</span>(a)</a></span></li><li><span><a href=\"#(b)\" data-toc-modified-id=\"(b)-1.2\"><span class=\"toc-item-num\">1.2&nbsp;&nbsp;</span>(b)</a></span></li><li><span><a href=\"#(c)\" data-toc-modified-id=\"(c)-1.3\"><span class=\"toc-item-num\">1.3&nbsp;&nbsp;</span>(c)</a></span></li><li><span><a href=\"#(d)\" data-toc-modified-id=\"(d)-1.4\"><span class=\"toc-item-num\">1.4&nbsp;&nbsp;</span>(d)</a></span></li></ul></li><li><span><a href=\"#1-2\" data-toc-modified-id=\"1-2-2\"><span class=\"toc-item-num\">2&nbsp;&nbsp;</span>1-2</a></span><ul class=\"toc-item\"><li><span><a href=\"#(a)\" data-toc-modified-id=\"(a)-2.1\"><span class=\"toc-item-num\">2.1&nbsp;&nbsp;</span>(a)</a></span></li><li><span><a href=\"#(b)\" data-toc-modified-id=\"(b)-2.2\"><span class=\"toc-item-num\">2.2&nbsp;&nbsp;</span>(b)</a></span></li><li><span><a href=\"#(c)\" data-toc-modified-id=\"(c)-2.3\"><span class=\"toc-item-num\">2.3&nbsp;&nbsp;</span>(c)</a></span></li><li><span><a href=\"#(d)\" data-toc-modified-id=\"(d)-2.4\"><span class=\"toc-item-num\">2.4&nbsp;&nbsp;</span>(d)</a></span></li></ul></li><li><span><a href=\"#1-3\" data-toc-modified-id=\"1-3-3\"><span class=\"toc-item-num\">3&nbsp;&nbsp;</span>1-3</a></span><ul class=\"toc-item\"><li><span><a href=\"#(a)\" data-toc-modified-id=\"(a)-3.1\"><span class=\"toc-item-num\">3.1&nbsp;&nbsp;</span>(a)</a></span></li><li><span><a href=\"#(b)\" data-toc-modified-id=\"(b)-3.2\"><span class=\"toc-item-num\">3.2&nbsp;&nbsp;</span>(b)</a></span></li></ul></li><li><span><a href=\"#1-4\" data-toc-modified-id=\"1-4-4\"><span class=\"toc-item-num\">4&nbsp;&nbsp;</span>1-4</a></span><ul class=\"toc-item\"><li><span><a href=\"#(a)\" data-toc-modified-id=\"(a)-4.1\"><span class=\"toc-item-num\">4.1&nbsp;&nbsp;</span>(a)</a></span></li><li><span><a href=\"#(b)\" data-toc-modified-id=\"(b)-4.2\"><span class=\"toc-item-num\">4.2&nbsp;&nbsp;</span>(b)</a></span></li></ul></li><li><span><a href=\"#1-5\" data-toc-modified-id=\"1-5-5\"><span class=\"toc-item-num\">5&nbsp;&nbsp;</span>1-5</a></span><ul class=\"toc-item\"><li><span><a href=\"#(a)\" data-toc-modified-id=\"(a)-5.1\"><span class=\"toc-item-num\">5.1&nbsp;&nbsp;</span>(a)</a></span></li><li><span><a href=\"#(b)\" data-toc-modified-id=\"(b)-5.2\"><span class=\"toc-item-num\">5.2&nbsp;&nbsp;</span>(b)</a></span></li><li><span><a href=\"#(c)\" data-toc-modified-id=\"(c)-5.3\"><span class=\"toc-item-num\">5.3&nbsp;&nbsp;</span>(c)</a></span></li><li><span><a href=\"#(d)\" data-toc-modified-id=\"(d)-5.4\"><span class=\"toc-item-num\">5.4&nbsp;&nbsp;</span>(d)</a></span></li></ul></li></ul></div>"
   ]
  },
  {
   "cell_type": "code",
   "execution_count": 1,
   "id": "e0998304",
   "metadata": {
    "ExecuteTime": {
     "end_time": "2024-02-14T07:56:08.459671Z",
     "start_time": "2024-02-14T07:56:08.383Z"
    }
   },
   "outputs": [
    {
     "name": "stdout",
     "output_type": "stream",
     "text": [
      "               _                           \n",
      "platform       x86_64-apple-darwin13.4.0   \n",
      "arch           x86_64                      \n",
      "os             darwin13.4.0                \n",
      "system         x86_64, darwin13.4.0        \n",
      "status                                     \n",
      "major          4                           \n",
      "minor          3.1                         \n",
      "year           2023                        \n",
      "month          06                          \n",
      "day            16                          \n",
      "svn rev        84548                       \n",
      "language       R                           \n",
      "version.string R version 4.3.1 (2023-06-16)\n",
      "nickname       Beagle Scouts               \n"
     ]
    }
   ],
   "source": [
    "print(R.version)"
   ]
  },
  {
   "cell_type": "markdown",
   "id": "e807e069",
   "metadata": {},
   "source": [
    "# 1-1"
   ]
  },
  {
   "cell_type": "code",
   "execution_count": 2,
   "id": "562460bd",
   "metadata": {
    "ExecuteTime": {
     "end_time": "2024-02-14T07:57:09.715076Z",
     "start_time": "2024-02-14T07:56:09.525Z"
    }
   },
   "outputs": [
    {
     "name": "stderr",
     "output_type": "stream",
     "text": [
      "Updating HTML index of packages in '.Library'\n",
      "\n",
      "Making 'packages.html' ...\n",
      " done\n",
      "\n"
     ]
    }
   ],
   "source": [
    "install.packages(\"fBasics\")"
   ]
  },
  {
   "cell_type": "code",
   "execution_count": 1,
   "id": "db6fe2fb",
   "metadata": {
    "ExecuteTime": {
     "end_time": "2024-02-13T07:22:50.988500Z",
     "start_time": "2024-02-13T07:22:50.465Z"
    }
   },
   "outputs": [
    {
     "name": "stderr",
     "output_type": "stream",
     "text": [
      "Loading required package: fBasics\n",
      "\n"
     ]
    }
   ],
   "source": [
    "require(fBasics)"
   ]
  },
  {
   "cell_type": "code",
   "execution_count": 11,
   "id": "cf7fc0b6",
   "metadata": {
    "ExecuteTime": {
     "end_time": "2024-02-13T06:17:17.059447Z",
     "start_time": "2024-02-13T06:17:17.043Z"
    }
   },
   "outputs": [
    {
     "name": "stdout",
     "output_type": "stream",
     "text": [
      "[1] \"/Users/karlzhang/OneDrive/Other/Live_Courses/BitTiger/Alg_Practice/QR/AFTS_code/Ch1\"\n"
     ]
    }
   ],
   "source": [
    "print(getwd())"
   ]
  },
  {
   "cell_type": "code",
   "execution_count": 3,
   "id": "c7849af9",
   "metadata": {
    "ExecuteTime": {
     "end_time": "2024-02-14T07:57:09.765892Z",
     "start_time": "2024-02-14T07:56:31.303Z"
    },
    "scrolled": true
   },
   "outputs": [
    {
     "data": {
      "text/html": [
       "<table class=\"dataframe\">\n",
       "<caption>A data.frame: 5 × 4</caption>\n",
       "<thead>\n",
       "\t<tr><th></th><th scope=col>date</th><th scope=col>axp</th><th scope=col>cat</th><th scope=col>sbux</th></tr>\n",
       "\t<tr><th></th><th scope=col>&lt;int&gt;</th><th scope=col>&lt;dbl&gt;</th><th scope=col>&lt;dbl&gt;</th><th scope=col>&lt;dbl&gt;</th></tr>\n",
       "</thead>\n",
       "<tbody>\n",
       "\t<tr><th scope=row>1</th><td>19990104</td><td>-0.009756</td><td> 0.029891</td><td>-0.040089</td></tr>\n",
       "\t<tr><th scope=row>2</th><td>19990105</td><td>-0.019089</td><td>-0.002639</td><td>-0.034803</td></tr>\n",
       "\t<tr><th scope=row>3</th><td>19990106</td><td> 0.043063</td><td> 0.026455</td><td>-0.008413</td></tr>\n",
       "\t<tr><th scope=row>4</th><td>19990107</td><td> 0.012063</td><td> 0.009021</td><td> 0.003636</td></tr>\n",
       "\t<tr><th scope=row>5</th><td>19990108</td><td> 0.030393</td><td> 0.042146</td><td> 0.021739</td></tr>\n",
       "</tbody>\n",
       "</table>\n"
      ],
      "text/latex": [
       "A data.frame: 5 × 4\n",
       "\\begin{tabular}{r|llll}\n",
       "  & date & axp & cat & sbux\\\\\n",
       "  & <int> & <dbl> & <dbl> & <dbl>\\\\\n",
       "\\hline\n",
       "\t1 & 19990104 & -0.009756 &  0.029891 & -0.040089\\\\\n",
       "\t2 & 19990105 & -0.019089 & -0.002639 & -0.034803\\\\\n",
       "\t3 & 19990106 &  0.043063 &  0.026455 & -0.008413\\\\\n",
       "\t4 & 19990107 &  0.012063 &  0.009021 &  0.003636\\\\\n",
       "\t5 & 19990108 &  0.030393 &  0.042146 &  0.021739\\\\\n",
       "\\end{tabular}\n"
      ],
      "text/markdown": [
       "\n",
       "A data.frame: 5 × 4\n",
       "\n",
       "| <!--/--> | date &lt;int&gt; | axp &lt;dbl&gt; | cat &lt;dbl&gt; | sbux &lt;dbl&gt; |\n",
       "|---|---|---|---|---|\n",
       "| 1 | 19990104 | -0.009756 |  0.029891 | -0.040089 |\n",
       "| 2 | 19990105 | -0.019089 | -0.002639 | -0.034803 |\n",
       "| 3 | 19990106 |  0.043063 |  0.026455 | -0.008413 |\n",
       "| 4 | 19990107 |  0.012063 |  0.009021 |  0.003636 |\n",
       "| 5 | 19990108 |  0.030393 |  0.042146 |  0.021739 |\n",
       "\n"
      ],
      "text/plain": [
       "  date     axp       cat       sbux     \n",
       "1 19990104 -0.009756  0.029891 -0.040089\n",
       "2 19990105 -0.019089 -0.002639 -0.034803\n",
       "3 19990106  0.043063  0.026455 -0.008413\n",
       "4 19990107  0.012063  0.009021  0.003636\n",
       "5 19990108  0.030393  0.042146  0.021739"
      ]
     },
     "metadata": {},
     "output_type": "display_data"
    }
   ],
   "source": [
    "da = read.table(\"../AFTS_sol/data/d-3stocks9908.txt\", header = T)\n",
    "da[1:5,]"
   ]
  },
  {
   "cell_type": "code",
   "execution_count": 4,
   "id": "9d01a79b",
   "metadata": {
    "ExecuteTime": {
     "end_time": "2024-02-14T07:57:09.787081Z",
     "start_time": "2024-02-14T07:57:09.255Z"
    }
   },
   "outputs": [],
   "source": [
    "rtn = da[, 2:4]"
   ]
  },
  {
   "cell_type": "markdown",
   "id": "700a82e3",
   "metadata": {},
   "source": [
    "## (a)"
   ]
  },
  {
   "cell_type": "code",
   "execution_count": 17,
   "id": "bfcc21e5",
   "metadata": {
    "ExecuteTime": {
     "end_time": "2024-02-13T06:46:04.673501Z",
     "start_time": "2024-02-13T06:46:04.615Z"
    },
    "scrolled": true
   },
   "outputs": [
    {
     "data": {
      "text/html": [
       "<pre class=language-r><code>function (x, ci = 0.95) \n",
       "{\n",
       "<span style=white-space:pre-wrap>    y = as.matrix(x)</span>\n",
       "<span style=white-space:pre-wrap>    if (is.null(colnames(y))) {</span>\n",
       "<span style=white-space:pre-wrap>        Dim = dim(y)[2]</span>\n",
       "<span style=white-space:pre-wrap>        if (Dim == 1) {</span>\n",
       "<span style=white-space:pre-wrap>            colnames(y) = paste(substitute(x), collapse = \".\")</span>\n",
       "<span style=white-space:pre-wrap>        }</span>\n",
       "<span style=white-space:pre-wrap>        else if (Dim &gt; 1) {</span>\n",
       "<span style=white-space:pre-wrap>            colnames(y) = paste(paste(substitute(x), collapse = \"\"), </span>\n",
       "<span style=white-space:pre-wrap>                1:Dim, sep = \"\")</span>\n",
       "<span style=white-space:pre-wrap>        }</span>\n",
       "<span style=white-space:pre-wrap>    }</span>\n",
       "<span style=white-space:pre-wrap>    cl.vals = function(x, ci) {</span>\n",
       "<span style=white-space:pre-wrap>        x = x[!is.na(x)]</span>\n",
       "<span style=white-space:pre-wrap>        n = length(x)</span>\n",
       "<span style=white-space:pre-wrap>        if (n &lt;= 1) </span>\n",
       "<span style=white-space:pre-wrap>            return(c(NA, NA))</span>\n",
       "<span style=white-space:pre-wrap>        se.mean = sqrt(var(x)/n)</span>\n",
       "<span style=white-space:pre-wrap>        t.val = qt((1 - ci)/2, n - 1)</span>\n",
       "<span style=white-space:pre-wrap>        mn = mean(x)</span>\n",
       "<span style=white-space:pre-wrap>        lcl = mn + se.mean * t.val</span>\n",
       "<span style=white-space:pre-wrap>        ucl = mn - se.mean * t.val</span>\n",
       "<span style=white-space:pre-wrap>        c(lcl, ucl)</span>\n",
       "<span style=white-space:pre-wrap>    }</span>\n",
       "<span style=white-space:pre-wrap>    nColumns = dim(y)[2]</span>\n",
       "<span style=white-space:pre-wrap>    ans = NULL</span>\n",
       "<span style=white-space:pre-wrap>    for (i in 1:nColumns) {</span>\n",
       "<span style=white-space:pre-wrap>        X = y[, i]</span>\n",
       "<span style=white-space:pre-wrap>        X.length = length(X)</span>\n",
       "<span style=white-space:pre-wrap>        X = X[!is.na(X)]</span>\n",
       "<span style=white-space:pre-wrap>        X.na = X.length - length(X)</span>\n",
       "<span style=white-space:pre-wrap>        z = c(X.length, X.na, min(X), max(X), as.numeric(quantile(X, </span>\n",
       "<span style=white-space:pre-wrap>            prob = 0.25, na.rm = TRUE)), as.numeric(quantile(X, </span>\n",
       "<span style=white-space:pre-wrap>            prob = 0.75, na.rm = TRUE)), mean(X), median(X), </span>\n",
       "<span style=white-space:pre-wrap>            sum(X), sqrt(var(X)/length(X)), cl.vals(X, ci)[1], </span>\n",
       "<span style=white-space:pre-wrap>            cl.vals(X, ci)[2], var(X), sqrt(var(X)), skewness(X), </span>\n",
       "<span style=white-space:pre-wrap>            kurtosis(X))</span>\n",
       "<span style=white-space:pre-wrap>        znames = c(\"nobs\", \"NAs\", \"Minimum\", \"Maximum\", \"1. Quartile\", </span>\n",
       "<span style=white-space:pre-wrap>            \"3. Quartile\", \"Mean\", \"Median\", \"Sum\", \"SE Mean\", </span>\n",
       "<span style=white-space:pre-wrap>            \"LCL Mean\", \"UCL Mean\", \"Variance\", \"Stdev\", \"Skewness\", </span>\n",
       "<span style=white-space:pre-wrap>            \"Kurtosis\")</span>\n",
       "<span style=white-space:pre-wrap>        result = matrix(z, ncol = 1)</span>\n",
       "<span style=white-space:pre-wrap>        row.names(result) = znames</span>\n",
       "<span style=white-space:pre-wrap>        ans = cbind(ans, result)</span>\n",
       "<span style=white-space:pre-wrap>    }</span>\n",
       "<span style=white-space:pre-wrap>    colnames(ans) = colnames(y)</span>\n",
       "<span style=white-space:pre-wrap>    data.frame(round(ans, digits = 6))</span>\n",
       "}</code></pre>"
      ],
      "text/latex": [
       "\\begin{minted}{r}\n",
       "function (x, ci = 0.95) \n",
       "\\{\n",
       "    y = as.matrix(x)\n",
       "    if (is.null(colnames(y))) \\{\n",
       "        Dim = dim(y){[}2{]}\n",
       "        if (Dim == 1) \\{\n",
       "            colnames(y) = paste(substitute(x), collapse = \".\")\n",
       "        \\}\n",
       "        else if (Dim > 1) \\{\n",
       "            colnames(y) = paste(paste(substitute(x), collapse = \"\"), \n",
       "                1:Dim, sep = \"\")\n",
       "        \\}\n",
       "    \\}\n",
       "    cl.vals = function(x, ci) \\{\n",
       "        x = x{[}!is.na(x){]}\n",
       "        n = length(x)\n",
       "        if (n <= 1) \n",
       "            return(c(NA, NA))\n",
       "        se.mean = sqrt(var(x)/n)\n",
       "        t.val = qt((1 - ci)/2, n - 1)\n",
       "        mn = mean(x)\n",
       "        lcl = mn + se.mean * t.val\n",
       "        ucl = mn - se.mean * t.val\n",
       "        c(lcl, ucl)\n",
       "    \\}\n",
       "    nColumns = dim(y){[}2{]}\n",
       "    ans = NULL\n",
       "    for (i in 1:nColumns) \\{\n",
       "        X = y{[}, i{]}\n",
       "        X.length = length(X)\n",
       "        X = X{[}!is.na(X){]}\n",
       "        X.na = X.length - length(X)\n",
       "        z = c(X.length, X.na, min(X), max(X), as.numeric(quantile(X, \n",
       "            prob = 0.25, na.rm = TRUE)), as.numeric(quantile(X, \n",
       "            prob = 0.75, na.rm = TRUE)), mean(X), median(X), \n",
       "            sum(X), sqrt(var(X)/length(X)), cl.vals(X, ci){[}1{]}, \n",
       "            cl.vals(X, ci){[}2{]}, var(X), sqrt(var(X)), skewness(X), \n",
       "            kurtosis(X))\n",
       "        znames = c(\"nobs\", \"NAs\", \"Minimum\", \"Maximum\", \"1. Quartile\", \n",
       "            \"3. Quartile\", \"Mean\", \"Median\", \"Sum\", \"SE Mean\", \n",
       "            \"LCL Mean\", \"UCL Mean\", \"Variance\", \"Stdev\", \"Skewness\", \n",
       "            \"Kurtosis\")\n",
       "        result = matrix(z, ncol = 1)\n",
       "        row.names(result) = znames\n",
       "        ans = cbind(ans, result)\n",
       "    \\}\n",
       "    colnames(ans) = colnames(y)\n",
       "    data.frame(round(ans, digits = 6))\n",
       "\\}\n",
       "\\end{minted}"
      ],
      "text/markdown": [
       "```r\n",
       "function (x, ci = 0.95) \n",
       "{\n",
       "    y = as.matrix(x)\n",
       "    if (is.null(colnames(y))) {\n",
       "        Dim = dim(y)[2]\n",
       "        if (Dim == 1) {\n",
       "            colnames(y) = paste(substitute(x), collapse = \".\")\n",
       "        }\n",
       "        else if (Dim > 1) {\n",
       "            colnames(y) = paste(paste(substitute(x), collapse = \"\"), \n",
       "                1:Dim, sep = \"\")\n",
       "        }\n",
       "    }\n",
       "    cl.vals = function(x, ci) {\n",
       "        x = x[!is.na(x)]\n",
       "        n = length(x)\n",
       "        if (n <= 1) \n",
       "            return(c(NA, NA))\n",
       "        se.mean = sqrt(var(x)/n)\n",
       "        t.val = qt((1 - ci)/2, n - 1)\n",
       "        mn = mean(x)\n",
       "        lcl = mn + se.mean * t.val\n",
       "        ucl = mn - se.mean * t.val\n",
       "        c(lcl, ucl)\n",
       "    }\n",
       "    nColumns = dim(y)[2]\n",
       "    ans = NULL\n",
       "    for (i in 1:nColumns) {\n",
       "        X = y[, i]\n",
       "        X.length = length(X)\n",
       "        X = X[!is.na(X)]\n",
       "        X.na = X.length - length(X)\n",
       "        z = c(X.length, X.na, min(X), max(X), as.numeric(quantile(X, \n",
       "            prob = 0.25, na.rm = TRUE)), as.numeric(quantile(X, \n",
       "            prob = 0.75, na.rm = TRUE)), mean(X), median(X), \n",
       "            sum(X), sqrt(var(X)/length(X)), cl.vals(X, ci)[1], \n",
       "            cl.vals(X, ci)[2], var(X), sqrt(var(X)), skewness(X), \n",
       "            kurtosis(X))\n",
       "        znames = c(\"nobs\", \"NAs\", \"Minimum\", \"Maximum\", \"1. Quartile\", \n",
       "            \"3. Quartile\", \"Mean\", \"Median\", \"Sum\", \"SE Mean\", \n",
       "            \"LCL Mean\", \"UCL Mean\", \"Variance\", \"Stdev\", \"Skewness\", \n",
       "            \"Kurtosis\")\n",
       "        result = matrix(z, ncol = 1)\n",
       "        row.names(result) = znames\n",
       "        ans = cbind(ans, result)\n",
       "    }\n",
       "    colnames(ans) = colnames(y)\n",
       "    data.frame(round(ans, digits = 6))\n",
       "}\n",
       "```"
      ],
      "text/plain": [
       "function (x, ci = 0.95) \n",
       "{\n",
       "    y = as.matrix(x)\n",
       "    if (is.null(colnames(y))) {\n",
       "        Dim = dim(y)[2]\n",
       "        if (Dim == 1) {\n",
       "            colnames(y) = paste(substitute(x), collapse = \".\")\n",
       "        }\n",
       "        else if (Dim > 1) {\n",
       "            colnames(y) = paste(paste(substitute(x), collapse = \"\"), \n",
       "                1:Dim, sep = \"\")\n",
       "        }\n",
       "    }\n",
       "    cl.vals = function(x, ci) {\n",
       "        x = x[!is.na(x)]\n",
       "        n = length(x)\n",
       "        if (n <= 1) \n",
       "            return(c(NA, NA))\n",
       "        se.mean = sqrt(var(x)/n)\n",
       "        t.val = qt((1 - ci)/2, n - 1)\n",
       "        mn = mean(x)\n",
       "        lcl = mn + se.mean * t.val\n",
       "        ucl = mn - se.mean * t.val\n",
       "        c(lcl, ucl)\n",
       "    }\n",
       "    nColumns = dim(y)[2]\n",
       "    ans = NULL\n",
       "    for (i in 1:nColumns) {\n",
       "        X = y[, i]\n",
       "        X.length = length(X)\n",
       "        X = X[!is.na(X)]\n",
       "        X.na = X.length - length(X)\n",
       "        z = c(X.length, X.na, min(X), max(X), as.numeric(quantile(X, \n",
       "            prob = 0.25, na.rm = TRUE)), as.numeric(quantile(X, \n",
       "            prob = 0.75, na.rm = TRUE)), mean(X), median(X), \n",
       "            sum(X), sqrt(var(X)/length(X)), cl.vals(X, ci)[1], \n",
       "            cl.vals(X, ci)[2], var(X), sqrt(var(X)), skewness(X), \n",
       "            kurtosis(X))\n",
       "        znames = c(\"nobs\", \"NAs\", \"Minimum\", \"Maximum\", \"1. Quartile\", \n",
       "            \"3. Quartile\", \"Mean\", \"Median\", \"Sum\", \"SE Mean\", \n",
       "            \"LCL Mean\", \"UCL Mean\", \"Variance\", \"Stdev\", \"Skewness\", \n",
       "            \"Kurtosis\")\n",
       "        result = matrix(z, ncol = 1)\n",
       "        row.names(result) = znames\n",
       "        ans = cbind(ans, result)\n",
       "    }\n",
       "    colnames(ans) = colnames(y)\n",
       "    data.frame(round(ans, digits = 6))\n",
       "}\n",
       "<bytecode: 0x7f9f557559c8>\n",
       "<environment: namespace:fBasics>"
      ]
     },
     "metadata": {},
     "output_type": "display_data"
    },
    {
     "data": {
      "text/html": [
       "'package:fBasics'"
      ],
      "text/latex": [
       "'package:fBasics'"
      ],
      "text/markdown": [
       "'package:fBasics'"
      ],
      "text/plain": [
       "[1] \"package:fBasics\""
      ]
     },
     "metadata": {},
     "output_type": "display_data"
    }
   ],
   "source": [
    "basicStats; find(\"basicStats\")"
   ]
  },
  {
   "cell_type": "code",
   "execution_count": 14,
   "id": "21d7067b",
   "metadata": {
    "ExecuteTime": {
     "end_time": "2024-02-13T06:19:52.569739Z",
     "start_time": "2024-02-13T06:19:52.469Z"
    },
    "scrolled": true
   },
   "outputs": [
    {
     "data": {
      "text/html": [
       "<dl>\n",
       "\t<dt>$axp</dt>\n",
       "\t\t<dd><table class=\"dataframe\">\n",
       "<caption>A data.frame: 16 × 1</caption>\n",
       "<thead>\n",
       "\t<tr><th></th><th scope=col>X..newX..i</th></tr>\n",
       "\t<tr><th></th><th scope=col>&lt;dbl&gt;</th></tr>\n",
       "</thead>\n",
       "<tbody>\n",
       "\t<tr><th scope=row>nobs</th><td>2515.000000</td></tr>\n",
       "\t<tr><th scope=row>NAs</th><td>   0.000000</td></tr>\n",
       "\t<tr><th scope=row>Minimum</th><td> -17.594900</td></tr>\n",
       "\t<tr><th scope=row>Maximum</th><td>  17.926600</td></tr>\n",
       "\t<tr><th scope=row>1. Quartile</th><td>  -1.111050</td></tr>\n",
       "\t<tr><th scope=row>3. Quartile</th><td>   1.092900</td></tr>\n",
       "\t<tr><th scope=row>Mean</th><td>   0.014565</td></tr>\n",
       "\t<tr><th scope=row>Median</th><td>  -0.018200</td></tr>\n",
       "\t<tr><th scope=row>Sum</th><td>  36.631900</td></tr>\n",
       "\t<tr><th scope=row>SE Mean</th><td>   0.048778</td></tr>\n",
       "\t<tr><th scope=row>LCL Mean</th><td>  -0.081084</td></tr>\n",
       "\t<tr><th scope=row>UCL Mean</th><td>   0.110215</td></tr>\n",
       "\t<tr><th scope=row>Variance</th><td>   5.983984</td></tr>\n",
       "\t<tr><th scope=row>Stdev</th><td>   2.446218</td></tr>\n",
       "\t<tr><th scope=row>Skewness</th><td>  -0.034606</td></tr>\n",
       "\t<tr><th scope=row>Kurtosis</th><td>   6.048051</td></tr>\n",
       "</tbody>\n",
       "</table>\n",
       "</dd>\n",
       "\t<dt>$cat</dt>\n",
       "\t\t<dd><table class=\"dataframe\">\n",
       "<caption>A data.frame: 16 × 1</caption>\n",
       "<thead>\n",
       "\t<tr><th></th><th scope=col>X..newX..i</th></tr>\n",
       "\t<tr><th></th><th scope=col>&lt;dbl&gt;</th></tr>\n",
       "</thead>\n",
       "<tbody>\n",
       "\t<tr><th scope=row>nobs</th><td>2515.000000</td></tr>\n",
       "\t<tr><th scope=row>NAs</th><td>   0.000000</td></tr>\n",
       "\t<tr><th scope=row>Minimum</th><td> -14.517500</td></tr>\n",
       "\t<tr><th scope=row>Maximum</th><td>  14.722900</td></tr>\n",
       "\t<tr><th scope=row>1. Quartile</th><td>  -1.144150</td></tr>\n",
       "\t<tr><th scope=row>3. Quartile</th><td>   1.206100</td></tr>\n",
       "\t<tr><th scope=row>Mean</th><td>   0.059504</td></tr>\n",
       "\t<tr><th scope=row>Median</th><td>   0.048900</td></tr>\n",
       "\t<tr><th scope=row>Sum</th><td> 149.651700</td></tr>\n",
       "\t<tr><th scope=row>SE Mean</th><td>   0.043263</td></tr>\n",
       "\t<tr><th scope=row>LCL Mean</th><td>  -0.025332</td></tr>\n",
       "\t<tr><th scope=row>UCL Mean</th><td>   0.144339</td></tr>\n",
       "\t<tr><th scope=row>Variance</th><td>   4.707373</td></tr>\n",
       "\t<tr><th scope=row>Stdev</th><td>   2.169648</td></tr>\n",
       "\t<tr><th scope=row>Skewness</th><td>   0.011671</td></tr>\n",
       "\t<tr><th scope=row>Kurtosis</th><td>   4.453264</td></tr>\n",
       "</tbody>\n",
       "</table>\n",
       "</dd>\n",
       "\t<dt>$sbux</dt>\n",
       "\t\t<dd><table class=\"dataframe\">\n",
       "<caption>A data.frame: 16 × 1</caption>\n",
       "<thead>\n",
       "\t<tr><th></th><th scope=col>X..newX..i</th></tr>\n",
       "\t<tr><th></th><th scope=col>&lt;dbl&gt;</th></tr>\n",
       "</thead>\n",
       "<tbody>\n",
       "\t<tr><th scope=row>nobs</th><td>2515.000000</td></tr>\n",
       "\t<tr><th scope=row>NAs</th><td>   0.000000</td></tr>\n",
       "\t<tr><th scope=row>Minimum</th><td> -28.286200</td></tr>\n",
       "\t<tr><th scope=row>Maximum</th><td>  14.635400</td></tr>\n",
       "\t<tr><th scope=row>1. Quartile</th><td>  -1.247450</td></tr>\n",
       "\t<tr><th scope=row>3. Quartile</th><td>   1.248750</td></tr>\n",
       "\t<tr><th scope=row>Mean</th><td>   0.048054</td></tr>\n",
       "\t<tr><th scope=row>Median</th><td>  -0.051200</td></tr>\n",
       "\t<tr><th scope=row>Sum</th><td> 120.855000</td></tr>\n",
       "\t<tr><th scope=row>SE Mean</th><td>   0.053492</td></tr>\n",
       "\t<tr><th scope=row>LCL Mean</th><td>  -0.056840</td></tr>\n",
       "\t<tr><th scope=row>UCL Mean</th><td>   0.152947</td></tr>\n",
       "\t<tr><th scope=row>Variance</th><td>   7.196460</td></tr>\n",
       "\t<tr><th scope=row>Stdev</th><td>   2.682622</td></tr>\n",
       "\t<tr><th scope=row>Skewness</th><td>  -0.082427</td></tr>\n",
       "\t<tr><th scope=row>Kurtosis</th><td>   8.745578</td></tr>\n",
       "</tbody>\n",
       "</table>\n",
       "</dd>\n",
       "</dl>\n"
      ],
      "text/latex": [
       "\\begin{description}\n",
       "\\item[\\$axp] A data.frame: 16 × 1\n",
       "\\begin{tabular}{r|l}\n",
       "  & X..newX..i\\\\\n",
       "  & <dbl>\\\\\n",
       "\\hline\n",
       "\tnobs & 2515.000000\\\\\n",
       "\tNAs &    0.000000\\\\\n",
       "\tMinimum &  -17.594900\\\\\n",
       "\tMaximum &   17.926600\\\\\n",
       "\t1. Quartile &   -1.111050\\\\\n",
       "\t3. Quartile &    1.092900\\\\\n",
       "\tMean &    0.014565\\\\\n",
       "\tMedian &   -0.018200\\\\\n",
       "\tSum &   36.631900\\\\\n",
       "\tSE Mean &    0.048778\\\\\n",
       "\tLCL Mean &   -0.081084\\\\\n",
       "\tUCL Mean &    0.110215\\\\\n",
       "\tVariance &    5.983984\\\\\n",
       "\tStdev &    2.446218\\\\\n",
       "\tSkewness &   -0.034606\\\\\n",
       "\tKurtosis &    6.048051\\\\\n",
       "\\end{tabular}\n",
       "\n",
       "\\item[\\$cat] A data.frame: 16 × 1\n",
       "\\begin{tabular}{r|l}\n",
       "  & X..newX..i\\\\\n",
       "  & <dbl>\\\\\n",
       "\\hline\n",
       "\tnobs & 2515.000000\\\\\n",
       "\tNAs &    0.000000\\\\\n",
       "\tMinimum &  -14.517500\\\\\n",
       "\tMaximum &   14.722900\\\\\n",
       "\t1. Quartile &   -1.144150\\\\\n",
       "\t3. Quartile &    1.206100\\\\\n",
       "\tMean &    0.059504\\\\\n",
       "\tMedian &    0.048900\\\\\n",
       "\tSum &  149.651700\\\\\n",
       "\tSE Mean &    0.043263\\\\\n",
       "\tLCL Mean &   -0.025332\\\\\n",
       "\tUCL Mean &    0.144339\\\\\n",
       "\tVariance &    4.707373\\\\\n",
       "\tStdev &    2.169648\\\\\n",
       "\tSkewness &    0.011671\\\\\n",
       "\tKurtosis &    4.453264\\\\\n",
       "\\end{tabular}\n",
       "\n",
       "\\item[\\$sbux] A data.frame: 16 × 1\n",
       "\\begin{tabular}{r|l}\n",
       "  & X..newX..i\\\\\n",
       "  & <dbl>\\\\\n",
       "\\hline\n",
       "\tnobs & 2515.000000\\\\\n",
       "\tNAs &    0.000000\\\\\n",
       "\tMinimum &  -28.286200\\\\\n",
       "\tMaximum &   14.635400\\\\\n",
       "\t1. Quartile &   -1.247450\\\\\n",
       "\t3. Quartile &    1.248750\\\\\n",
       "\tMean &    0.048054\\\\\n",
       "\tMedian &   -0.051200\\\\\n",
       "\tSum &  120.855000\\\\\n",
       "\tSE Mean &    0.053492\\\\\n",
       "\tLCL Mean &   -0.056840\\\\\n",
       "\tUCL Mean &    0.152947\\\\\n",
       "\tVariance &    7.196460\\\\\n",
       "\tStdev &    2.682622\\\\\n",
       "\tSkewness &   -0.082427\\\\\n",
       "\tKurtosis &    8.745578\\\\\n",
       "\\end{tabular}\n",
       "\n",
       "\\end{description}\n"
      ],
      "text/markdown": [
       "$axp\n",
       ":   \n",
       "A data.frame: 16 × 1\n",
       "\n",
       "| <!--/--> | X..newX..i &lt;dbl&gt; |\n",
       "|---|---|\n",
       "| nobs | 2515.000000 |\n",
       "| NAs |    0.000000 |\n",
       "| Minimum |  -17.594900 |\n",
       "| Maximum |   17.926600 |\n",
       "| 1. Quartile |   -1.111050 |\n",
       "| 3. Quartile |    1.092900 |\n",
       "| Mean |    0.014565 |\n",
       "| Median |   -0.018200 |\n",
       "| Sum |   36.631900 |\n",
       "| SE Mean |    0.048778 |\n",
       "| LCL Mean |   -0.081084 |\n",
       "| UCL Mean |    0.110215 |\n",
       "| Variance |    5.983984 |\n",
       "| Stdev |    2.446218 |\n",
       "| Skewness |   -0.034606 |\n",
       "| Kurtosis |    6.048051 |\n",
       "\n",
       "\n",
       "$cat\n",
       ":   \n",
       "A data.frame: 16 × 1\n",
       "\n",
       "| <!--/--> | X..newX..i &lt;dbl&gt; |\n",
       "|---|---|\n",
       "| nobs | 2515.000000 |\n",
       "| NAs |    0.000000 |\n",
       "| Minimum |  -14.517500 |\n",
       "| Maximum |   14.722900 |\n",
       "| 1. Quartile |   -1.144150 |\n",
       "| 3. Quartile |    1.206100 |\n",
       "| Mean |    0.059504 |\n",
       "| Median |    0.048900 |\n",
       "| Sum |  149.651700 |\n",
       "| SE Mean |    0.043263 |\n",
       "| LCL Mean |   -0.025332 |\n",
       "| UCL Mean |    0.144339 |\n",
       "| Variance |    4.707373 |\n",
       "| Stdev |    2.169648 |\n",
       "| Skewness |    0.011671 |\n",
       "| Kurtosis |    4.453264 |\n",
       "\n",
       "\n",
       "$sbux\n",
       ":   \n",
       "A data.frame: 16 × 1\n",
       "\n",
       "| <!--/--> | X..newX..i &lt;dbl&gt; |\n",
       "|---|---|\n",
       "| nobs | 2515.000000 |\n",
       "| NAs |    0.000000 |\n",
       "| Minimum |  -28.286200 |\n",
       "| Maximum |   14.635400 |\n",
       "| 1. Quartile |   -1.247450 |\n",
       "| 3. Quartile |    1.248750 |\n",
       "| Mean |    0.048054 |\n",
       "| Median |   -0.051200 |\n",
       "| Sum |  120.855000 |\n",
       "| SE Mean |    0.053492 |\n",
       "| LCL Mean |   -0.056840 |\n",
       "| UCL Mean |    0.152947 |\n",
       "| Variance |    7.196460 |\n",
       "| Stdev |    2.682622 |\n",
       "| Skewness |   -0.082427 |\n",
       "| Kurtosis |    8.745578 |\n",
       "\n",
       "\n",
       "\n",
       "\n"
      ],
      "text/plain": [
       "$axp\n",
       "             X..newX..i\n",
       "nobs        2515.000000\n",
       "NAs            0.000000\n",
       "Minimum      -17.594900\n",
       "Maximum       17.926600\n",
       "1. Quartile   -1.111050\n",
       "3. Quartile    1.092900\n",
       "Mean           0.014565\n",
       "Median        -0.018200\n",
       "Sum           36.631900\n",
       "SE Mean        0.048778\n",
       "LCL Mean      -0.081084\n",
       "UCL Mean       0.110215\n",
       "Variance       5.983984\n",
       "Stdev          2.446218\n",
       "Skewness      -0.034606\n",
       "Kurtosis       6.048051\n",
       "\n",
       "$cat\n",
       "             X..newX..i\n",
       "nobs        2515.000000\n",
       "NAs            0.000000\n",
       "Minimum      -14.517500\n",
       "Maximum       14.722900\n",
       "1. Quartile   -1.144150\n",
       "3. Quartile    1.206100\n",
       "Mean           0.059504\n",
       "Median         0.048900\n",
       "Sum          149.651700\n",
       "SE Mean        0.043263\n",
       "LCL Mean      -0.025332\n",
       "UCL Mean       0.144339\n",
       "Variance       4.707373\n",
       "Stdev          2.169648\n",
       "Skewness       0.011671\n",
       "Kurtosis       4.453264\n",
       "\n",
       "$sbux\n",
       "             X..newX..i\n",
       "nobs        2515.000000\n",
       "NAs            0.000000\n",
       "Minimum      -28.286200\n",
       "Maximum       14.635400\n",
       "1. Quartile   -1.247450\n",
       "3. Quartile    1.248750\n",
       "Mean           0.048054\n",
       "Median        -0.051200\n",
       "Sum          120.855000\n",
       "SE Mean        0.053492\n",
       "LCL Mean      -0.056840\n",
       "UCL Mean       0.152947\n",
       "Variance       7.196460\n",
       "Stdev          2.682622\n",
       "Skewness      -0.082427\n",
       "Kurtosis       8.745578\n"
      ]
     },
     "metadata": {},
     "output_type": "display_data"
    }
   ],
   "source": [
    "apply(rtn*100, 2, basicStats)"
   ]
  },
  {
   "cell_type": "markdown",
   "id": "6b81aedc",
   "metadata": {},
   "source": [
    "## (b)"
   ]
  },
  {
   "cell_type": "code",
   "execution_count": 5,
   "id": "8fa02a4a",
   "metadata": {
    "ExecuteTime": {
     "end_time": "2024-02-14T07:57:24.209765Z",
     "start_time": "2024-02-14T07:57:24.184Z"
    },
    "scrolled": true
   },
   "outputs": [
    {
     "data": {
      "text/html": [
       "<table class=\"dataframe\">\n",
       "<caption>A data.frame: 5 × 3</caption>\n",
       "<thead>\n",
       "\t<tr><th></th><th scope=col>axp</th><th scope=col>cat</th><th scope=col>sbux</th></tr>\n",
       "\t<tr><th></th><th scope=col>&lt;dbl&gt;</th><th scope=col>&lt;dbl&gt;</th><th scope=col>&lt;dbl&gt;</th></tr>\n",
       "</thead>\n",
       "<tbody>\n",
       "\t<tr><th scope=row>1</th><td>-0.009803902</td><td> 0.029452971</td><td>-0.040914707</td></tr>\n",
       "\t<tr><th scope=row>2</th><td>-0.019273547</td><td>-0.002642488</td><td>-0.035423053</td></tr>\n",
       "\t<tr><th scope=row>3</th><td> 0.042161577</td><td> 0.026111118</td><td>-0.008448589</td></tr>\n",
       "\t<tr><th scope=row>4</th><td> 0.011990822</td><td> 0.008980554</td><td> 0.003629406</td></tr>\n",
       "\t<tr><th scope=row>5</th><td> 0.029940283</td><td> 0.041282049</td><td> 0.021506078</td></tr>\n",
       "</tbody>\n",
       "</table>\n"
      ],
      "text/latex": [
       "A data.frame: 5 × 3\n",
       "\\begin{tabular}{r|lll}\n",
       "  & axp & cat & sbux\\\\\n",
       "  & <dbl> & <dbl> & <dbl>\\\\\n",
       "\\hline\n",
       "\t1 & -0.009803902 &  0.029452971 & -0.040914707\\\\\n",
       "\t2 & -0.019273547 & -0.002642488 & -0.035423053\\\\\n",
       "\t3 &  0.042161577 &  0.026111118 & -0.008448589\\\\\n",
       "\t4 &  0.011990822 &  0.008980554 &  0.003629406\\\\\n",
       "\t5 &  0.029940283 &  0.041282049 &  0.021506078\\\\\n",
       "\\end{tabular}\n"
      ],
      "text/markdown": [
       "\n",
       "A data.frame: 5 × 3\n",
       "\n",
       "| <!--/--> | axp &lt;dbl&gt; | cat &lt;dbl&gt; | sbux &lt;dbl&gt; |\n",
       "|---|---|---|---|\n",
       "| 1 | -0.009803902 |  0.029452971 | -0.040914707 |\n",
       "| 2 | -0.019273547 | -0.002642488 | -0.035423053 |\n",
       "| 3 |  0.042161577 |  0.026111118 | -0.008448589 |\n",
       "| 4 |  0.011990822 |  0.008980554 |  0.003629406 |\n",
       "| 5 |  0.029940283 |  0.041282049 |  0.021506078 |\n",
       "\n"
      ],
      "text/plain": [
       "  axp          cat          sbux        \n",
       "1 -0.009803902  0.029452971 -0.040914707\n",
       "2 -0.019273547 -0.002642488 -0.035423053\n",
       "3  0.042161577  0.026111118 -0.008448589\n",
       "4  0.011990822  0.008980554  0.003629406\n",
       "5  0.029940283  0.041282049  0.021506078"
      ]
     },
     "metadata": {},
     "output_type": "display_data"
    }
   ],
   "source": [
    "lrtn = log(1+rtn)\n",
    "lrtn[1:5,]"
   ]
  },
  {
   "cell_type": "markdown",
   "id": "c0279897",
   "metadata": {},
   "source": [
    "## (c)"
   ]
  },
  {
   "cell_type": "code",
   "execution_count": 20,
   "id": "766c19f7",
   "metadata": {
    "ExecuteTime": {
     "end_time": "2024-02-13T06:48:06.610248Z",
     "start_time": "2024-02-13T06:48:06.542Z"
    },
    "scrolled": true
   },
   "outputs": [
    {
     "data": {
      "text/html": [
       "<dl>\n",
       "\t<dt>$axp</dt>\n",
       "\t\t<dd><table class=\"dataframe\">\n",
       "<caption>A data.frame: 16 × 1</caption>\n",
       "<thead>\n",
       "\t<tr><th></th><th scope=col>X..newX..i</th></tr>\n",
       "\t<tr><th></th><th scope=col>&lt;dbl&gt;</th></tr>\n",
       "</thead>\n",
       "<tbody>\n",
       "\t<tr><th scope=row>nobs</th><td>2515.000000</td></tr>\n",
       "\t<tr><th scope=row>NAs</th><td>   0.000000</td></tr>\n",
       "\t<tr><th scope=row>Minimum</th><td> -19.352286</td></tr>\n",
       "\t<tr><th scope=row>Maximum</th><td>  16.489221</td></tr>\n",
       "\t<tr><th scope=row>1. Quartile</th><td>  -1.117268</td></tr>\n",
       "\t<tr><th scope=row>3. Quartile</th><td>   1.086971</td></tr>\n",
       "\t<tr><th scope=row>Mean</th><td>  -0.015434</td></tr>\n",
       "\t<tr><th scope=row>Median</th><td>  -0.018202</td></tr>\n",
       "\t<tr><th scope=row>Sum</th><td> -38.817035</td></tr>\n",
       "\t<tr><th scope=row>SE Mean</th><td>   0.048911</td></tr>\n",
       "\t<tr><th scope=row>LCL Mean</th><td>  -0.111345</td></tr>\n",
       "\t<tr><th scope=row>UCL Mean</th><td>   0.080477</td></tr>\n",
       "\t<tr><th scope=row>Variance</th><td>   6.016709</td></tr>\n",
       "\t<tr><th scope=row>Stdev</th><td>   2.452898</td></tr>\n",
       "\t<tr><th scope=row>Skewness</th><td>  -0.336435</td></tr>\n",
       "\t<tr><th scope=row>Kurtosis</th><td>   6.486498</td></tr>\n",
       "</tbody>\n",
       "</table>\n",
       "</dd>\n",
       "\t<dt>$cat</dt>\n",
       "\t\t<dd><table class=\"dataframe\">\n",
       "<caption>A data.frame: 16 × 1</caption>\n",
       "<thead>\n",
       "\t<tr><th></th><th scope=col>X..newX..i</th></tr>\n",
       "\t<tr><th></th><th scope=col>&lt;dbl&gt;</th></tr>\n",
       "</thead>\n",
       "<tbody>\n",
       "\t<tr><th scope=row>nobs</th><td>2515.000000</td></tr>\n",
       "\t<tr><th scope=row>NAs</th><td>   0.000000</td></tr>\n",
       "\t<tr><th scope=row>Minimum</th><td> -15.685851</td></tr>\n",
       "\t<tr><th scope=row>Maximum</th><td>  13.734947</td></tr>\n",
       "\t<tr><th scope=row>1. Quartile</th><td>  -1.150746</td></tr>\n",
       "\t<tr><th scope=row>3. Quartile</th><td>   1.198885</td></tr>\n",
       "\t<tr><th scope=row>Mean</th><td>   0.035949</td></tr>\n",
       "\t<tr><th scope=row>Median</th><td>   0.048888</td></tr>\n",
       "\t<tr><th scope=row>Sum</th><td>  90.411139</td></tr>\n",
       "\t<tr><th scope=row>SE Mean</th><td>   0.043300</td></tr>\n",
       "\t<tr><th scope=row>LCL Mean</th><td>  -0.048958</td></tr>\n",
       "\t<tr><th scope=row>UCL Mean</th><td>   0.120856</td></tr>\n",
       "\t<tr><th scope=row>Variance</th><td>   4.715337</td></tr>\n",
       "\t<tr><th scope=row>Stdev</th><td>   2.171483</td></tr>\n",
       "\t<tr><th scope=row>Skewness</th><td>  -0.201745</td></tr>\n",
       "\t<tr><th scope=row>Kurtosis</th><td>   4.694747</td></tr>\n",
       "</tbody>\n",
       "</table>\n",
       "</dd>\n",
       "\t<dt>$sbux</dt>\n",
       "\t\t<dd><table class=\"dataframe\">\n",
       "<caption>A data.frame: 16 × 1</caption>\n",
       "<thead>\n",
       "\t<tr><th></th><th scope=col>X..newX..i</th></tr>\n",
       "\t<tr><th></th><th scope=col>&lt;dbl&gt;</th></tr>\n",
       "</thead>\n",
       "<tbody>\n",
       "\t<tr><th scope=row>nobs</th><td>2515.000000</td></tr>\n",
       "\t<tr><th scope=row>NAs</th><td>   0.000000</td></tr>\n",
       "\t<tr><th scope=row>Minimum</th><td> -33.248699</td></tr>\n",
       "\t<tr><th scope=row>Maximum</th><td>  13.658647</td></tr>\n",
       "\t<tr><th scope=row>1. Quartile</th><td>  -1.255296</td></tr>\n",
       "\t<tr><th scope=row>3. Quartile</th><td>   1.241017</td></tr>\n",
       "\t<tr><th scope=row>Mean</th><td>   0.011885</td></tr>\n",
       "\t<tr><th scope=row>Median</th><td>  -0.051213</td></tr>\n",
       "\t<tr><th scope=row>Sum</th><td>  29.891717</td></tr>\n",
       "\t<tr><th scope=row>SE Mean</th><td>   0.053757</td></tr>\n",
       "\t<tr><th scope=row>LCL Mean</th><td>  -0.093527</td></tr>\n",
       "\t<tr><th scope=row>UCL Mean</th><td>   0.117297</td></tr>\n",
       "\t<tr><th scope=row>Variance</th><td>   7.267811</td></tr>\n",
       "\t<tr><th scope=row>Stdev</th><td>   2.695888</td></tr>\n",
       "\t<tr><th scope=row>Skewness</th><td>  -0.597068</td></tr>\n",
       "\t<tr><th scope=row>Kurtosis</th><td>  12.895473</td></tr>\n",
       "</tbody>\n",
       "</table>\n",
       "</dd>\n",
       "</dl>\n"
      ],
      "text/latex": [
       "\\begin{description}\n",
       "\\item[\\$axp] A data.frame: 16 × 1\n",
       "\\begin{tabular}{r|l}\n",
       "  & X..newX..i\\\\\n",
       "  & <dbl>\\\\\n",
       "\\hline\n",
       "\tnobs & 2515.000000\\\\\n",
       "\tNAs &    0.000000\\\\\n",
       "\tMinimum &  -19.352286\\\\\n",
       "\tMaximum &   16.489221\\\\\n",
       "\t1. Quartile &   -1.117268\\\\\n",
       "\t3. Quartile &    1.086971\\\\\n",
       "\tMean &   -0.015434\\\\\n",
       "\tMedian &   -0.018202\\\\\n",
       "\tSum &  -38.817035\\\\\n",
       "\tSE Mean &    0.048911\\\\\n",
       "\tLCL Mean &   -0.111345\\\\\n",
       "\tUCL Mean &    0.080477\\\\\n",
       "\tVariance &    6.016709\\\\\n",
       "\tStdev &    2.452898\\\\\n",
       "\tSkewness &   -0.336435\\\\\n",
       "\tKurtosis &    6.486498\\\\\n",
       "\\end{tabular}\n",
       "\n",
       "\\item[\\$cat] A data.frame: 16 × 1\n",
       "\\begin{tabular}{r|l}\n",
       "  & X..newX..i\\\\\n",
       "  & <dbl>\\\\\n",
       "\\hline\n",
       "\tnobs & 2515.000000\\\\\n",
       "\tNAs &    0.000000\\\\\n",
       "\tMinimum &  -15.685851\\\\\n",
       "\tMaximum &   13.734947\\\\\n",
       "\t1. Quartile &   -1.150746\\\\\n",
       "\t3. Quartile &    1.198885\\\\\n",
       "\tMean &    0.035949\\\\\n",
       "\tMedian &    0.048888\\\\\n",
       "\tSum &   90.411139\\\\\n",
       "\tSE Mean &    0.043300\\\\\n",
       "\tLCL Mean &   -0.048958\\\\\n",
       "\tUCL Mean &    0.120856\\\\\n",
       "\tVariance &    4.715337\\\\\n",
       "\tStdev &    2.171483\\\\\n",
       "\tSkewness &   -0.201745\\\\\n",
       "\tKurtosis &    4.694747\\\\\n",
       "\\end{tabular}\n",
       "\n",
       "\\item[\\$sbux] A data.frame: 16 × 1\n",
       "\\begin{tabular}{r|l}\n",
       "  & X..newX..i\\\\\n",
       "  & <dbl>\\\\\n",
       "\\hline\n",
       "\tnobs & 2515.000000\\\\\n",
       "\tNAs &    0.000000\\\\\n",
       "\tMinimum &  -33.248699\\\\\n",
       "\tMaximum &   13.658647\\\\\n",
       "\t1. Quartile &   -1.255296\\\\\n",
       "\t3. Quartile &    1.241017\\\\\n",
       "\tMean &    0.011885\\\\\n",
       "\tMedian &   -0.051213\\\\\n",
       "\tSum &   29.891717\\\\\n",
       "\tSE Mean &    0.053757\\\\\n",
       "\tLCL Mean &   -0.093527\\\\\n",
       "\tUCL Mean &    0.117297\\\\\n",
       "\tVariance &    7.267811\\\\\n",
       "\tStdev &    2.695888\\\\\n",
       "\tSkewness &   -0.597068\\\\\n",
       "\tKurtosis &   12.895473\\\\\n",
       "\\end{tabular}\n",
       "\n",
       "\\end{description}\n"
      ],
      "text/markdown": [
       "$axp\n",
       ":   \n",
       "A data.frame: 16 × 1\n",
       "\n",
       "| <!--/--> | X..newX..i &lt;dbl&gt; |\n",
       "|---|---|\n",
       "| nobs | 2515.000000 |\n",
       "| NAs |    0.000000 |\n",
       "| Minimum |  -19.352286 |\n",
       "| Maximum |   16.489221 |\n",
       "| 1. Quartile |   -1.117268 |\n",
       "| 3. Quartile |    1.086971 |\n",
       "| Mean |   -0.015434 |\n",
       "| Median |   -0.018202 |\n",
       "| Sum |  -38.817035 |\n",
       "| SE Mean |    0.048911 |\n",
       "| LCL Mean |   -0.111345 |\n",
       "| UCL Mean |    0.080477 |\n",
       "| Variance |    6.016709 |\n",
       "| Stdev |    2.452898 |\n",
       "| Skewness |   -0.336435 |\n",
       "| Kurtosis |    6.486498 |\n",
       "\n",
       "\n",
       "$cat\n",
       ":   \n",
       "A data.frame: 16 × 1\n",
       "\n",
       "| <!--/--> | X..newX..i &lt;dbl&gt; |\n",
       "|---|---|\n",
       "| nobs | 2515.000000 |\n",
       "| NAs |    0.000000 |\n",
       "| Minimum |  -15.685851 |\n",
       "| Maximum |   13.734947 |\n",
       "| 1. Quartile |   -1.150746 |\n",
       "| 3. Quartile |    1.198885 |\n",
       "| Mean |    0.035949 |\n",
       "| Median |    0.048888 |\n",
       "| Sum |   90.411139 |\n",
       "| SE Mean |    0.043300 |\n",
       "| LCL Mean |   -0.048958 |\n",
       "| UCL Mean |    0.120856 |\n",
       "| Variance |    4.715337 |\n",
       "| Stdev |    2.171483 |\n",
       "| Skewness |   -0.201745 |\n",
       "| Kurtosis |    4.694747 |\n",
       "\n",
       "\n",
       "$sbux\n",
       ":   \n",
       "A data.frame: 16 × 1\n",
       "\n",
       "| <!--/--> | X..newX..i &lt;dbl&gt; |\n",
       "|---|---|\n",
       "| nobs | 2515.000000 |\n",
       "| NAs |    0.000000 |\n",
       "| Minimum |  -33.248699 |\n",
       "| Maximum |   13.658647 |\n",
       "| 1. Quartile |   -1.255296 |\n",
       "| 3. Quartile |    1.241017 |\n",
       "| Mean |    0.011885 |\n",
       "| Median |   -0.051213 |\n",
       "| Sum |   29.891717 |\n",
       "| SE Mean |    0.053757 |\n",
       "| LCL Mean |   -0.093527 |\n",
       "| UCL Mean |    0.117297 |\n",
       "| Variance |    7.267811 |\n",
       "| Stdev |    2.695888 |\n",
       "| Skewness |   -0.597068 |\n",
       "| Kurtosis |   12.895473 |\n",
       "\n",
       "\n",
       "\n",
       "\n"
      ],
      "text/plain": [
       "$axp\n",
       "             X..newX..i\n",
       "nobs        2515.000000\n",
       "NAs            0.000000\n",
       "Minimum      -19.352286\n",
       "Maximum       16.489221\n",
       "1. Quartile   -1.117268\n",
       "3. Quartile    1.086971\n",
       "Mean          -0.015434\n",
       "Median        -0.018202\n",
       "Sum          -38.817035\n",
       "SE Mean        0.048911\n",
       "LCL Mean      -0.111345\n",
       "UCL Mean       0.080477\n",
       "Variance       6.016709\n",
       "Stdev          2.452898\n",
       "Skewness      -0.336435\n",
       "Kurtosis       6.486498\n",
       "\n",
       "$cat\n",
       "             X..newX..i\n",
       "nobs        2515.000000\n",
       "NAs            0.000000\n",
       "Minimum      -15.685851\n",
       "Maximum       13.734947\n",
       "1. Quartile   -1.150746\n",
       "3. Quartile    1.198885\n",
       "Mean           0.035949\n",
       "Median         0.048888\n",
       "Sum           90.411139\n",
       "SE Mean        0.043300\n",
       "LCL Mean      -0.048958\n",
       "UCL Mean       0.120856\n",
       "Variance       4.715337\n",
       "Stdev          2.171483\n",
       "Skewness      -0.201745\n",
       "Kurtosis       4.694747\n",
       "\n",
       "$sbux\n",
       "             X..newX..i\n",
       "nobs        2515.000000\n",
       "NAs            0.000000\n",
       "Minimum      -33.248699\n",
       "Maximum       13.658647\n",
       "1. Quartile   -1.255296\n",
       "3. Quartile    1.241017\n",
       "Mean           0.011885\n",
       "Median        -0.051213\n",
       "Sum           29.891717\n",
       "SE Mean        0.053757\n",
       "LCL Mean      -0.093527\n",
       "UCL Mean       0.117297\n",
       "Variance       7.267811\n",
       "Stdev          2.695888\n",
       "Skewness      -0.597068\n",
       "Kurtosis      12.895473\n"
      ]
     },
     "metadata": {},
     "output_type": "display_data"
    }
   ],
   "source": [
    "apply(lrtn*100, 2, basicStats)"
   ]
  },
  {
   "cell_type": "markdown",
   "id": "7f0411e8",
   "metadata": {},
   "source": [
    "## (d)\n",
    "$$\\frac{\\sqrt{T}\\hat{\\mu}_x}{\\hat{\\sigma}_x}$$"
   ]
  },
  {
   "cell_type": "code",
   "execution_count": 22,
   "id": "79c2efcd",
   "metadata": {
    "ExecuteTime": {
     "end_time": "2024-02-13T06:52:47.442806Z",
     "start_time": "2024-02-13T06:52:47.265Z"
    }
   },
   "outputs": [],
   "source": [
    "help(apply)"
   ]
  },
  {
   "cell_type": "code",
   "execution_count": 24,
   "id": "59fb8505",
   "metadata": {
    "ExecuteTime": {
     "end_time": "2024-02-13T06:53:05.458693Z",
     "start_time": "2024-02-13T06:53:05.437Z"
    }
   },
   "outputs": [
    {
     "data": {
      "text/html": [
       "'package:stats'"
      ],
      "text/latex": [
       "'package:stats'"
      ],
      "text/markdown": [
       "'package:stats'"
      ],
      "text/plain": [
       "[1] \"package:stats\""
      ]
     },
     "metadata": {},
     "output_type": "display_data"
    }
   ],
   "source": [
    "find(\"t.test\")"
   ]
  },
  {
   "cell_type": "code",
   "execution_count": 25,
   "id": "2fbc48a8",
   "metadata": {
    "ExecuteTime": {
     "end_time": "2024-02-13T06:53:09.273977Z",
     "start_time": "2024-02-13T06:53:09.246Z"
    }
   },
   "outputs": [
    {
     "data": {
      "text/plain": [
       "$axp\n",
       "\n",
       "\tOne Sample t-test\n",
       "\n",
       "data:  newX[, i]\n",
       "t = -0.31555, df = 2514, p-value = 0.7524\n",
       "alternative hypothesis: true mean is not equal to 0\n",
       "95 percent confidence interval:\n",
       " -0.0011134506  0.0008047664\n",
       "sample estimates:\n",
       "    mean of x \n",
       "-0.0001543421 \n",
       "\n",
       "\n",
       "$cat\n",
       "\n",
       "\tOne Sample t-test\n",
       "\n",
       "data:  newX[, i]\n",
       "t = 0.83023, df = 2514, p-value = 0.4065\n",
       "alternative hypothesis: true mean is not equal to 0\n",
       "95 percent confidence interval:\n",
       " -0.0004895845  0.0012085598\n",
       "sample estimates:\n",
       "   mean of x \n",
       "0.0003594876 \n",
       "\n",
       "\n",
       "$sbux\n",
       "\n",
       "\tOne Sample t-test\n",
       "\n",
       "data:  newX[, i]\n",
       "t = 0.2211, df = 2514, p-value = 0.825\n",
       "alternative hypothesis: true mean is not equal to 0\n",
       "95 percent confidence interval:\n",
       " -0.0009352662  0.0011729737\n",
       "sample estimates:\n",
       "   mean of x \n",
       "0.0001188537 \n",
       "\n"
      ]
     },
     "metadata": {},
     "output_type": "display_data"
    }
   ],
   "source": [
    "apply(lrtn, 2, t.test)"
   ]
  },
  {
   "cell_type": "markdown",
   "id": "3186d15a",
   "metadata": {},
   "source": [
    "# 1-2"
   ]
  },
  {
   "cell_type": "code",
   "execution_count": 6,
   "id": "9340130b",
   "metadata": {
    "ExecuteTime": {
     "end_time": "2024-02-14T07:57:41.073242Z",
     "start_time": "2024-02-14T07:57:41.033Z"
    },
    "scrolled": true
   },
   "outputs": [
    {
     "data": {
      "text/html": [
       "<table class=\"dataframe\">\n",
       "<caption>A data.frame: 5 × 5</caption>\n",
       "<thead>\n",
       "\t<tr><th></th><th scope=col>date</th><th scope=col>gm</th><th scope=col>vw</th><th scope=col>ew</th><th scope=col>sp</th></tr>\n",
       "\t<tr><th></th><th scope=col>&lt;int&gt;</th><th scope=col>&lt;dbl&gt;</th><th scope=col>&lt;dbl&gt;</th><th scope=col>&lt;dbl&gt;</th><th scope=col>&lt;dbl&gt;</th></tr>\n",
       "</thead>\n",
       "<tbody>\n",
       "\t<tr><th scope=row>1</th><td>19750131</td><td>0.252033</td><td>0.141600</td><td>0.299260</td><td>0.122812</td></tr>\n",
       "\t<tr><th scope=row>2</th><td>19750228</td><td>0.028571</td><td>0.058411</td><td>0.053918</td><td>0.059886</td></tr>\n",
       "\t<tr><th scope=row>3</th><td>19750331</td><td>0.054487</td><td>0.030191</td><td>0.081497</td><td>0.021694</td></tr>\n",
       "\t<tr><th scope=row>4</th><td>19750430</td><td>0.045593</td><td>0.046497</td><td>0.031093</td><td>0.047265</td></tr>\n",
       "\t<tr><th scope=row>5</th><td>19750530</td><td>0.037209</td><td>0.055140</td><td>0.072876</td><td>0.044101</td></tr>\n",
       "</tbody>\n",
       "</table>\n"
      ],
      "text/latex": [
       "A data.frame: 5 × 5\n",
       "\\begin{tabular}{r|lllll}\n",
       "  & date & gm & vw & ew & sp\\\\\n",
       "  & <int> & <dbl> & <dbl> & <dbl> & <dbl>\\\\\n",
       "\\hline\n",
       "\t1 & 19750131 & 0.252033 & 0.141600 & 0.299260 & 0.122812\\\\\n",
       "\t2 & 19750228 & 0.028571 & 0.058411 & 0.053918 & 0.059886\\\\\n",
       "\t3 & 19750331 & 0.054487 & 0.030191 & 0.081497 & 0.021694\\\\\n",
       "\t4 & 19750430 & 0.045593 & 0.046497 & 0.031093 & 0.047265\\\\\n",
       "\t5 & 19750530 & 0.037209 & 0.055140 & 0.072876 & 0.044101\\\\\n",
       "\\end{tabular}\n"
      ],
      "text/markdown": [
       "\n",
       "A data.frame: 5 × 5\n",
       "\n",
       "| <!--/--> | date &lt;int&gt; | gm &lt;dbl&gt; | vw &lt;dbl&gt; | ew &lt;dbl&gt; | sp &lt;dbl&gt; |\n",
       "|---|---|---|---|---|---|\n",
       "| 1 | 19750131 | 0.252033 | 0.141600 | 0.299260 | 0.122812 |\n",
       "| 2 | 19750228 | 0.028571 | 0.058411 | 0.053918 | 0.059886 |\n",
       "| 3 | 19750331 | 0.054487 | 0.030191 | 0.081497 | 0.021694 |\n",
       "| 4 | 19750430 | 0.045593 | 0.046497 | 0.031093 | 0.047265 |\n",
       "| 5 | 19750530 | 0.037209 | 0.055140 | 0.072876 | 0.044101 |\n",
       "\n"
      ],
      "text/plain": [
       "  date     gm       vw       ew       sp      \n",
       "1 19750131 0.252033 0.141600 0.299260 0.122812\n",
       "2 19750228 0.028571 0.058411 0.053918 0.059886\n",
       "3 19750331 0.054487 0.030191 0.081497 0.021694\n",
       "4 19750430 0.045593 0.046497 0.031093 0.047265\n",
       "5 19750530 0.037209 0.055140 0.072876 0.044101"
      ]
     },
     "metadata": {},
     "output_type": "display_data"
    }
   ],
   "source": [
    "da = read.table(\"../AFTS_sol/data/m-gm3dx7508.txt\", header = T)\n",
    "da[1:5,]"
   ]
  },
  {
   "cell_type": "code",
   "execution_count": 32,
   "id": "34908324",
   "metadata": {
    "ExecuteTime": {
     "end_time": "2024-02-13T06:59:52.032612Z",
     "start_time": "2024-02-13T06:59:52.021Z"
    },
    "scrolled": true
   },
   "outputs": [],
   "source": [
    "rtn = da[, 2:5]"
   ]
  },
  {
   "cell_type": "markdown",
   "id": "e0a49ae5",
   "metadata": {},
   "source": [
    "## (a)"
   ]
  },
  {
   "cell_type": "code",
   "execution_count": 27,
   "id": "4a778a3f",
   "metadata": {
    "ExecuteTime": {
     "end_time": "2024-02-13T06:56:22.085607Z",
     "start_time": "2024-02-13T06:56:22.011Z"
    }
   },
   "outputs": [
    {
     "data": {
      "text/html": [
       "<dl>\n",
       "\t<dt>$gm</dt>\n",
       "\t\t<dd><table class=\"dataframe\">\n",
       "<caption>A data.frame: 16 × 1</caption>\n",
       "<thead>\n",
       "\t<tr><th></th><th scope=col>X..newX..i</th></tr>\n",
       "\t<tr><th></th><th scope=col>&lt;dbl&gt;</th></tr>\n",
       "</thead>\n",
       "<tbody>\n",
       "\t<tr><th scope=row>nobs</th><td>408.000000</td></tr>\n",
       "\t<tr><th scope=row>NAs</th><td>  0.000000</td></tr>\n",
       "\t<tr><th scope=row>Minimum</th><td>-38.931300</td></tr>\n",
       "\t<tr><th scope=row>Maximum</th><td> 27.661900</td></tr>\n",
       "\t<tr><th scope=row>1. Quartile</th><td> -4.348825</td></tr>\n",
       "\t<tr><th scope=row>3. Quartile</th><td>  5.450150</td></tr>\n",
       "\t<tr><th scope=row>Mean</th><td>  0.556755</td></tr>\n",
       "\t<tr><th scope=row>Median</th><td>  0.678100</td></tr>\n",
       "\t<tr><th scope=row>Sum</th><td>227.156000</td></tr>\n",
       "\t<tr><th scope=row>SE Mean</th><td>  0.459067</td></tr>\n",
       "\t<tr><th scope=row>LCL Mean</th><td> -0.345684</td></tr>\n",
       "\t<tr><th scope=row>UCL Mean</th><td>  1.459194</td></tr>\n",
       "\t<tr><th scope=row>Variance</th><td> 85.983038</td></tr>\n",
       "\t<tr><th scope=row>Stdev</th><td>  9.272704</td></tr>\n",
       "\t<tr><th scope=row>Skewness</th><td> -0.383475</td></tr>\n",
       "\t<tr><th scope=row>Kurtosis</th><td>  2.048076</td></tr>\n",
       "</tbody>\n",
       "</table>\n",
       "</dd>\n",
       "\t<dt>$vw</dt>\n",
       "\t\t<dd><table class=\"dataframe\">\n",
       "<caption>A data.frame: 16 × 1</caption>\n",
       "<thead>\n",
       "\t<tr><th></th><th scope=col>X..newX..i</th></tr>\n",
       "\t<tr><th></th><th scope=col>&lt;dbl&gt;</th></tr>\n",
       "</thead>\n",
       "<tbody>\n",
       "\t<tr><th scope=row>nobs</th><td>408.000000</td></tr>\n",
       "\t<tr><th scope=row>NAs</th><td>  0.000000</td></tr>\n",
       "\t<tr><th scope=row>Minimum</th><td>-22.536300</td></tr>\n",
       "\t<tr><th scope=row>Maximum</th><td> 14.160000</td></tr>\n",
       "\t<tr><th scope=row>1. Quartile</th><td> -1.583500</td></tr>\n",
       "\t<tr><th scope=row>3. Quartile</th><td>  3.995300</td></tr>\n",
       "\t<tr><th scope=row>Mean</th><td>  1.011799</td></tr>\n",
       "\t<tr><th scope=row>Median</th><td>  1.387950</td></tr>\n",
       "\t<tr><th scope=row>Sum</th><td>412.813800</td></tr>\n",
       "\t<tr><th scope=row>SE Mean</th><td>  0.223153</td></tr>\n",
       "\t<tr><th scope=row>LCL Mean</th><td>  0.573122</td></tr>\n",
       "\t<tr><th scope=row>UCL Mean</th><td>  1.450475</td></tr>\n",
       "\t<tr><th scope=row>Variance</th><td> 20.317313</td></tr>\n",
       "\t<tr><th scope=row>Stdev</th><td>  4.507473</td></tr>\n",
       "\t<tr><th scope=row>Skewness</th><td> -0.742662</td></tr>\n",
       "\t<tr><th scope=row>Kurtosis</th><td>  2.666032</td></tr>\n",
       "</tbody>\n",
       "</table>\n",
       "</dd>\n",
       "\t<dt>$ew</dt>\n",
       "\t\t<dd><table class=\"dataframe\">\n",
       "<caption>A data.frame: 16 × 1</caption>\n",
       "<thead>\n",
       "\t<tr><th></th><th scope=col>X..newX..i</th></tr>\n",
       "\t<tr><th></th><th scope=col>&lt;dbl&gt;</th></tr>\n",
       "</thead>\n",
       "<tbody>\n",
       "\t<tr><th scope=row>nobs</th><td>408.000000</td></tr>\n",
       "\t<tr><th scope=row>NAs</th><td>  0.000000</td></tr>\n",
       "\t<tr><th scope=row>Minimum</th><td>-27.224800</td></tr>\n",
       "\t<tr><th scope=row>Maximum</th><td> 29.926000</td></tr>\n",
       "\t<tr><th scope=row>1. Quartile</th><td> -1.684150</td></tr>\n",
       "\t<tr><th scope=row>3. Quartile</th><td>  4.564425</td></tr>\n",
       "\t<tr><th scope=row>Mean</th><td>  1.331385</td></tr>\n",
       "\t<tr><th scope=row>Median</th><td>  1.617200</td></tr>\n",
       "\t<tr><th scope=row>Sum</th><td>543.204900</td></tr>\n",
       "\t<tr><th scope=row>SE Mean</th><td>  0.277038</td></tr>\n",
       "\t<tr><th scope=row>LCL Mean</th><td>  0.786780</td></tr>\n",
       "\t<tr><th scope=row>UCL Mean</th><td>  1.875989</td></tr>\n",
       "\t<tr><th scope=row>Variance</th><td> 31.314081</td></tr>\n",
       "\t<tr><th scope=row>Stdev</th><td>  5.595899</td></tr>\n",
       "\t<tr><th scope=row>Skewness</th><td> -0.300123</td></tr>\n",
       "\t<tr><th scope=row>Kurtosis</th><td>  4.333664</td></tr>\n",
       "</tbody>\n",
       "</table>\n",
       "</dd>\n",
       "\t<dt>$sp</dt>\n",
       "\t\t<dd><table class=\"dataframe\">\n",
       "<caption>A data.frame: 16 × 1</caption>\n",
       "<thead>\n",
       "\t<tr><th></th><th scope=col>X..newX..i</th></tr>\n",
       "\t<tr><th></th><th scope=col>&lt;dbl&gt;</th></tr>\n",
       "</thead>\n",
       "<tbody>\n",
       "\t<tr><th scope=row>nobs</th><td>408.000000</td></tr>\n",
       "\t<tr><th scope=row>NAs</th><td>  0.000000</td></tr>\n",
       "\t<tr><th scope=row>Minimum</th><td>-21.763000</td></tr>\n",
       "\t<tr><th scope=row>Maximum</th><td> 13.176700</td></tr>\n",
       "\t<tr><th scope=row>1. Quartile</th><td> -1.762400</td></tr>\n",
       "\t<tr><th scope=row>3. Quartile</th><td>  3.598425</td></tr>\n",
       "\t<tr><th scope=row>Mean</th><td>  0.730084</td></tr>\n",
       "\t<tr><th scope=row>Median</th><td>  1.003550</td></tr>\n",
       "\t<tr><th scope=row>Sum</th><td>297.874400</td></tr>\n",
       "\t<tr><th scope=row>SE Mean</th><td>  0.215849</td></tr>\n",
       "\t<tr><th scope=row>LCL Mean</th><td>  0.305767</td></tr>\n",
       "\t<tr><th scope=row>UCL Mean</th><td>  1.154402</td></tr>\n",
       "\t<tr><th scope=row>Variance</th><td> 19.008981</td></tr>\n",
       "\t<tr><th scope=row>Stdev</th><td>  4.359929</td></tr>\n",
       "\t<tr><th scope=row>Skewness</th><td> -0.570545</td></tr>\n",
       "\t<tr><th scope=row>Kurtosis</th><td>  2.268600</td></tr>\n",
       "</tbody>\n",
       "</table>\n",
       "</dd>\n",
       "</dl>\n"
      ],
      "text/latex": [
       "\\begin{description}\n",
       "\\item[\\$gm] A data.frame: 16 × 1\n",
       "\\begin{tabular}{r|l}\n",
       "  & X..newX..i\\\\\n",
       "  & <dbl>\\\\\n",
       "\\hline\n",
       "\tnobs & 408.000000\\\\\n",
       "\tNAs &   0.000000\\\\\n",
       "\tMinimum & -38.931300\\\\\n",
       "\tMaximum &  27.661900\\\\\n",
       "\t1. Quartile &  -4.348825\\\\\n",
       "\t3. Quartile &   5.450150\\\\\n",
       "\tMean &   0.556755\\\\\n",
       "\tMedian &   0.678100\\\\\n",
       "\tSum & 227.156000\\\\\n",
       "\tSE Mean &   0.459067\\\\\n",
       "\tLCL Mean &  -0.345684\\\\\n",
       "\tUCL Mean &   1.459194\\\\\n",
       "\tVariance &  85.983038\\\\\n",
       "\tStdev &   9.272704\\\\\n",
       "\tSkewness &  -0.383475\\\\\n",
       "\tKurtosis &   2.048076\\\\\n",
       "\\end{tabular}\n",
       "\n",
       "\\item[\\$vw] A data.frame: 16 × 1\n",
       "\\begin{tabular}{r|l}\n",
       "  & X..newX..i\\\\\n",
       "  & <dbl>\\\\\n",
       "\\hline\n",
       "\tnobs & 408.000000\\\\\n",
       "\tNAs &   0.000000\\\\\n",
       "\tMinimum & -22.536300\\\\\n",
       "\tMaximum &  14.160000\\\\\n",
       "\t1. Quartile &  -1.583500\\\\\n",
       "\t3. Quartile &   3.995300\\\\\n",
       "\tMean &   1.011799\\\\\n",
       "\tMedian &   1.387950\\\\\n",
       "\tSum & 412.813800\\\\\n",
       "\tSE Mean &   0.223153\\\\\n",
       "\tLCL Mean &   0.573122\\\\\n",
       "\tUCL Mean &   1.450475\\\\\n",
       "\tVariance &  20.317313\\\\\n",
       "\tStdev &   4.507473\\\\\n",
       "\tSkewness &  -0.742662\\\\\n",
       "\tKurtosis &   2.666032\\\\\n",
       "\\end{tabular}\n",
       "\n",
       "\\item[\\$ew] A data.frame: 16 × 1\n",
       "\\begin{tabular}{r|l}\n",
       "  & X..newX..i\\\\\n",
       "  & <dbl>\\\\\n",
       "\\hline\n",
       "\tnobs & 408.000000\\\\\n",
       "\tNAs &   0.000000\\\\\n",
       "\tMinimum & -27.224800\\\\\n",
       "\tMaximum &  29.926000\\\\\n",
       "\t1. Quartile &  -1.684150\\\\\n",
       "\t3. Quartile &   4.564425\\\\\n",
       "\tMean &   1.331385\\\\\n",
       "\tMedian &   1.617200\\\\\n",
       "\tSum & 543.204900\\\\\n",
       "\tSE Mean &   0.277038\\\\\n",
       "\tLCL Mean &   0.786780\\\\\n",
       "\tUCL Mean &   1.875989\\\\\n",
       "\tVariance &  31.314081\\\\\n",
       "\tStdev &   5.595899\\\\\n",
       "\tSkewness &  -0.300123\\\\\n",
       "\tKurtosis &   4.333664\\\\\n",
       "\\end{tabular}\n",
       "\n",
       "\\item[\\$sp] A data.frame: 16 × 1\n",
       "\\begin{tabular}{r|l}\n",
       "  & X..newX..i\\\\\n",
       "  & <dbl>\\\\\n",
       "\\hline\n",
       "\tnobs & 408.000000\\\\\n",
       "\tNAs &   0.000000\\\\\n",
       "\tMinimum & -21.763000\\\\\n",
       "\tMaximum &  13.176700\\\\\n",
       "\t1. Quartile &  -1.762400\\\\\n",
       "\t3. Quartile &   3.598425\\\\\n",
       "\tMean &   0.730084\\\\\n",
       "\tMedian &   1.003550\\\\\n",
       "\tSum & 297.874400\\\\\n",
       "\tSE Mean &   0.215849\\\\\n",
       "\tLCL Mean &   0.305767\\\\\n",
       "\tUCL Mean &   1.154402\\\\\n",
       "\tVariance &  19.008981\\\\\n",
       "\tStdev &   4.359929\\\\\n",
       "\tSkewness &  -0.570545\\\\\n",
       "\tKurtosis &   2.268600\\\\\n",
       "\\end{tabular}\n",
       "\n",
       "\\end{description}\n"
      ],
      "text/markdown": [
       "$gm\n",
       ":   \n",
       "A data.frame: 16 × 1\n",
       "\n",
       "| <!--/--> | X..newX..i &lt;dbl&gt; |\n",
       "|---|---|\n",
       "| nobs | 408.000000 |\n",
       "| NAs |   0.000000 |\n",
       "| Minimum | -38.931300 |\n",
       "| Maximum |  27.661900 |\n",
       "| 1. Quartile |  -4.348825 |\n",
       "| 3. Quartile |   5.450150 |\n",
       "| Mean |   0.556755 |\n",
       "| Median |   0.678100 |\n",
       "| Sum | 227.156000 |\n",
       "| SE Mean |   0.459067 |\n",
       "| LCL Mean |  -0.345684 |\n",
       "| UCL Mean |   1.459194 |\n",
       "| Variance |  85.983038 |\n",
       "| Stdev |   9.272704 |\n",
       "| Skewness |  -0.383475 |\n",
       "| Kurtosis |   2.048076 |\n",
       "\n",
       "\n",
       "$vw\n",
       ":   \n",
       "A data.frame: 16 × 1\n",
       "\n",
       "| <!--/--> | X..newX..i &lt;dbl&gt; |\n",
       "|---|---|\n",
       "| nobs | 408.000000 |\n",
       "| NAs |   0.000000 |\n",
       "| Minimum | -22.536300 |\n",
       "| Maximum |  14.160000 |\n",
       "| 1. Quartile |  -1.583500 |\n",
       "| 3. Quartile |   3.995300 |\n",
       "| Mean |   1.011799 |\n",
       "| Median |   1.387950 |\n",
       "| Sum | 412.813800 |\n",
       "| SE Mean |   0.223153 |\n",
       "| LCL Mean |   0.573122 |\n",
       "| UCL Mean |   1.450475 |\n",
       "| Variance |  20.317313 |\n",
       "| Stdev |   4.507473 |\n",
       "| Skewness |  -0.742662 |\n",
       "| Kurtosis |   2.666032 |\n",
       "\n",
       "\n",
       "$ew\n",
       ":   \n",
       "A data.frame: 16 × 1\n",
       "\n",
       "| <!--/--> | X..newX..i &lt;dbl&gt; |\n",
       "|---|---|\n",
       "| nobs | 408.000000 |\n",
       "| NAs |   0.000000 |\n",
       "| Minimum | -27.224800 |\n",
       "| Maximum |  29.926000 |\n",
       "| 1. Quartile |  -1.684150 |\n",
       "| 3. Quartile |   4.564425 |\n",
       "| Mean |   1.331385 |\n",
       "| Median |   1.617200 |\n",
       "| Sum | 543.204900 |\n",
       "| SE Mean |   0.277038 |\n",
       "| LCL Mean |   0.786780 |\n",
       "| UCL Mean |   1.875989 |\n",
       "| Variance |  31.314081 |\n",
       "| Stdev |   5.595899 |\n",
       "| Skewness |  -0.300123 |\n",
       "| Kurtosis |   4.333664 |\n",
       "\n",
       "\n",
       "$sp\n",
       ":   \n",
       "A data.frame: 16 × 1\n",
       "\n",
       "| <!--/--> | X..newX..i &lt;dbl&gt; |\n",
       "|---|---|\n",
       "| nobs | 408.000000 |\n",
       "| NAs |   0.000000 |\n",
       "| Minimum | -21.763000 |\n",
       "| Maximum |  13.176700 |\n",
       "| 1. Quartile |  -1.762400 |\n",
       "| 3. Quartile |   3.598425 |\n",
       "| Mean |   0.730084 |\n",
       "| Median |   1.003550 |\n",
       "| Sum | 297.874400 |\n",
       "| SE Mean |   0.215849 |\n",
       "| LCL Mean |   0.305767 |\n",
       "| UCL Mean |   1.154402 |\n",
       "| Variance |  19.008981 |\n",
       "| Stdev |   4.359929 |\n",
       "| Skewness |  -0.570545 |\n",
       "| Kurtosis |   2.268600 |\n",
       "\n",
       "\n",
       "\n",
       "\n"
      ],
      "text/plain": [
       "$gm\n",
       "            X..newX..i\n",
       "nobs        408.000000\n",
       "NAs           0.000000\n",
       "Minimum     -38.931300\n",
       "Maximum      27.661900\n",
       "1. Quartile  -4.348825\n",
       "3. Quartile   5.450150\n",
       "Mean          0.556755\n",
       "Median        0.678100\n",
       "Sum         227.156000\n",
       "SE Mean       0.459067\n",
       "LCL Mean     -0.345684\n",
       "UCL Mean      1.459194\n",
       "Variance     85.983038\n",
       "Stdev         9.272704\n",
       "Skewness     -0.383475\n",
       "Kurtosis      2.048076\n",
       "\n",
       "$vw\n",
       "            X..newX..i\n",
       "nobs        408.000000\n",
       "NAs           0.000000\n",
       "Minimum     -22.536300\n",
       "Maximum      14.160000\n",
       "1. Quartile  -1.583500\n",
       "3. Quartile   3.995300\n",
       "Mean          1.011799\n",
       "Median        1.387950\n",
       "Sum         412.813800\n",
       "SE Mean       0.223153\n",
       "LCL Mean      0.573122\n",
       "UCL Mean      1.450475\n",
       "Variance     20.317313\n",
       "Stdev         4.507473\n",
       "Skewness     -0.742662\n",
       "Kurtosis      2.666032\n",
       "\n",
       "$ew\n",
       "            X..newX..i\n",
       "nobs        408.000000\n",
       "NAs           0.000000\n",
       "Minimum     -27.224800\n",
       "Maximum      29.926000\n",
       "1. Quartile  -1.684150\n",
       "3. Quartile   4.564425\n",
       "Mean          1.331385\n",
       "Median        1.617200\n",
       "Sum         543.204900\n",
       "SE Mean       0.277038\n",
       "LCL Mean      0.786780\n",
       "UCL Mean      1.875989\n",
       "Variance     31.314081\n",
       "Stdev         5.595899\n",
       "Skewness     -0.300123\n",
       "Kurtosis      4.333664\n",
       "\n",
       "$sp\n",
       "            X..newX..i\n",
       "nobs        408.000000\n",
       "NAs           0.000000\n",
       "Minimum     -21.763000\n",
       "Maximum      13.176700\n",
       "1. Quartile  -1.762400\n",
       "3. Quartile   3.598425\n",
       "Mean          0.730084\n",
       "Median        1.003550\n",
       "Sum         297.874400\n",
       "SE Mean       0.215849\n",
       "LCL Mean      0.305767\n",
       "UCL Mean      1.154402\n",
       "Variance     19.008981\n",
       "Stdev         4.359929\n",
       "Skewness     -0.570545\n",
       "Kurtosis      2.268600\n"
      ]
     },
     "metadata": {},
     "output_type": "display_data"
    }
   ],
   "source": [
    "apply(rtn*100, 2, basicStats)"
   ]
  },
  {
   "cell_type": "markdown",
   "id": "05269ac2",
   "metadata": {},
   "source": [
    "## (b)"
   ]
  },
  {
   "cell_type": "code",
   "execution_count": 28,
   "id": "b35cc87d",
   "metadata": {
    "ExecuteTime": {
     "end_time": "2024-02-13T06:57:54.525873Z",
     "start_time": "2024-02-13T06:57:54.512Z"
    }
   },
   "outputs": [],
   "source": [
    "lrtn = log(1+rtn)"
   ]
  },
  {
   "cell_type": "markdown",
   "id": "854c350b",
   "metadata": {},
   "source": [
    "## (c)"
   ]
  },
  {
   "cell_type": "code",
   "execution_count": 29,
   "id": "05f4080f",
   "metadata": {
    "ExecuteTime": {
     "end_time": "2024-02-13T06:58:10.740438Z",
     "start_time": "2024-02-13T06:58:10.663Z"
    }
   },
   "outputs": [
    {
     "data": {
      "text/html": [
       "<dl>\n",
       "\t<dt>$gm</dt>\n",
       "\t\t<dd><table class=\"dataframe\">\n",
       "<caption>A data.frame: 16 × 1</caption>\n",
       "<thead>\n",
       "\t<tr><th></th><th scope=col>X..newX..i</th></tr>\n",
       "\t<tr><th></th><th scope=col>&lt;dbl&gt;</th></tr>\n",
       "</thead>\n",
       "<tbody>\n",
       "\t<tr><th scope=row>nobs</th><td>408.000000</td></tr>\n",
       "\t<tr><th scope=row>NAs</th><td>  0.000000</td></tr>\n",
       "\t<tr><th scope=row>Minimum</th><td>-49.317073</td></tr>\n",
       "\t<tr><th scope=row>Maximum</th><td> 24.421518</td></tr>\n",
       "\t<tr><th scope=row>1. Quartile</th><td> -4.446221</td></tr>\n",
       "\t<tr><th scope=row>3. Quartile</th><td>  5.306814</td></tr>\n",
       "\t<tr><th scope=row>Mean</th><td>  0.110182</td></tr>\n",
       "\t<tr><th scope=row>Median</th><td>  0.675811</td></tr>\n",
       "\t<tr><th scope=row>Sum</th><td> 44.954256</td></tr>\n",
       "\t<tr><th scope=row>SE Mean</th><td>  0.474789</td></tr>\n",
       "\t<tr><th scope=row>LCL Mean</th><td> -0.823164</td></tr>\n",
       "\t<tr><th scope=row>UCL Mean</th><td>  1.043528</td></tr>\n",
       "\t<tr><th scope=row>Variance</th><td> 91.973391</td></tr>\n",
       "\t<tr><th scope=row>Stdev</th><td>  9.590276</td></tr>\n",
       "\t<tr><th scope=row>Skewness</th><td> -1.023664</td></tr>\n",
       "\t<tr><th scope=row>Kurtosis</th><td>  4.020752</td></tr>\n",
       "</tbody>\n",
       "</table>\n",
       "</dd>\n",
       "\t<dt>$vw</dt>\n",
       "\t\t<dd><table class=\"dataframe\">\n",
       "<caption>A data.frame: 16 × 1</caption>\n",
       "<thead>\n",
       "\t<tr><th></th><th scope=col>X..newX..i</th></tr>\n",
       "\t<tr><th></th><th scope=col>&lt;dbl&gt;</th></tr>\n",
       "</thead>\n",
       "<tbody>\n",
       "\t<tr><th scope=row>nobs</th><td>408.000000</td></tr>\n",
       "\t<tr><th scope=row>NAs</th><td>  0.000000</td></tr>\n",
       "\t<tr><th scope=row>Minimum</th><td>-25.536075</td></tr>\n",
       "\t<tr><th scope=row>Maximum</th><td> 13.243079</td></tr>\n",
       "\t<tr><th scope=row>1. Quartile</th><td> -1.596172</td></tr>\n",
       "\t<tr><th scope=row>3. Quartile</th><td>  3.917552</td></tr>\n",
       "\t<tr><th scope=row>Mean</th><td>  0.904567</td></tr>\n",
       "\t<tr><th scope=row>Median</th><td>  1.378403</td></tr>\n",
       "\t<tr><th scope=row>Sum</th><td>369.063338</td></tr>\n",
       "\t<tr><th scope=row>SE Mean</th><td>  0.225783</td></tr>\n",
       "\t<tr><th scope=row>LCL Mean</th><td>  0.460721</td></tr>\n",
       "\t<tr><th scope=row>UCL Mean</th><td>  1.348413</td></tr>\n",
       "\t<tr><th scope=row>Variance</th><td> 20.798939</td></tr>\n",
       "\t<tr><th scope=row>Stdev</th><td>  4.560585</td></tr>\n",
       "\t<tr><th scope=row>Skewness</th><td> -1.051001</td></tr>\n",
       "\t<tr><th scope=row>Kurtosis</th><td>  3.937548</td></tr>\n",
       "</tbody>\n",
       "</table>\n",
       "</dd>\n",
       "\t<dt>$ew</dt>\n",
       "\t\t<dd><table class=\"dataframe\">\n",
       "<caption>A data.frame: 16 × 1</caption>\n",
       "<thead>\n",
       "\t<tr><th></th><th scope=col>X..newX..i</th></tr>\n",
       "\t<tr><th></th><th scope=col>&lt;dbl&gt;</th></tr>\n",
       "</thead>\n",
       "<tbody>\n",
       "\t<tr><th scope=row>nobs</th><td>408.000000</td></tr>\n",
       "\t<tr><th scope=row>NAs</th><td>  0.000000</td></tr>\n",
       "\t<tr><th scope=row>Minimum</th><td>-31.779495</td></tr>\n",
       "\t<tr><th scope=row>Maximum</th><td> 26.179487</td></tr>\n",
       "\t<tr><th scope=row>1. Quartile</th><td> -1.698497</td></tr>\n",
       "\t<tr><th scope=row>3. Quartile</th><td>  4.463320</td></tr>\n",
       "\t<tr><th scope=row>Mean</th><td>  1.166997</td></tr>\n",
       "\t<tr><th scope=row>Median</th><td>  1.604263</td></tr>\n",
       "\t<tr><th scope=row>Sum</th><td>476.134773</td></tr>\n",
       "\t<tr><th scope=row>SE Mean</th><td>  0.278528</td></tr>\n",
       "\t<tr><th scope=row>LCL Mean</th><td>  0.619465</td></tr>\n",
       "\t<tr><th scope=row>UCL Mean</th><td>  1.714529</td></tr>\n",
       "\t<tr><th scope=row>Variance</th><td> 31.651673</td></tr>\n",
       "\t<tr><th scope=row>Stdev</th><td>  5.625982</td></tr>\n",
       "\t<tr><th scope=row>Skewness</th><td> -0.836133</td></tr>\n",
       "\t<tr><th scope=row>Kurtosis</th><td>  5.242452</td></tr>\n",
       "</tbody>\n",
       "</table>\n",
       "</dd>\n",
       "\t<dt>$sp</dt>\n",
       "\t\t<dd><table class=\"dataframe\">\n",
       "<caption>A data.frame: 16 × 1</caption>\n",
       "<thead>\n",
       "\t<tr><th></th><th scope=col>X..newX..i</th></tr>\n",
       "\t<tr><th></th><th scope=col>&lt;dbl&gt;</th></tr>\n",
       "</thead>\n",
       "<tbody>\n",
       "\t<tr><th scope=row>nobs</th><td>408.000000</td></tr>\n",
       "\t<tr><th scope=row>NAs</th><td>  0.000000</td></tr>\n",
       "\t<tr><th scope=row>Minimum</th><td>-24.542750</td></tr>\n",
       "\t<tr><th scope=row>Maximum</th><td> 12.378013</td></tr>\n",
       "\t<tr><th scope=row>1. Quartile</th><td> -1.778115</td></tr>\n",
       "\t<tr><th scope=row>3. Quartile</th><td>  3.535194</td></tr>\n",
       "\t<tr><th scope=row>Mean</th><td>  0.631937</td></tr>\n",
       "\t<tr><th scope=row>Median</th><td>  0.998548</td></tr>\n",
       "\t<tr><th scope=row>Sum</th><td>257.830396</td></tr>\n",
       "\t<tr><th scope=row>SE Mean</th><td>  0.217942</td></tr>\n",
       "\t<tr><th scope=row>LCL Mean</th><td>  0.203505</td></tr>\n",
       "\t<tr><th scope=row>UCL Mean</th><td>  1.060369</td></tr>\n",
       "\t<tr><th scope=row>Variance</th><td> 19.379422</td></tr>\n",
       "\t<tr><th scope=row>Stdev</th><td>  4.402206</td></tr>\n",
       "\t<tr><th scope=row>Skewness</th><td> -0.854843</td></tr>\n",
       "\t<tr><th scope=row>Kurtosis</th><td>  3.334693</td></tr>\n",
       "</tbody>\n",
       "</table>\n",
       "</dd>\n",
       "</dl>\n"
      ],
      "text/latex": [
       "\\begin{description}\n",
       "\\item[\\$gm] A data.frame: 16 × 1\n",
       "\\begin{tabular}{r|l}\n",
       "  & X..newX..i\\\\\n",
       "  & <dbl>\\\\\n",
       "\\hline\n",
       "\tnobs & 408.000000\\\\\n",
       "\tNAs &   0.000000\\\\\n",
       "\tMinimum & -49.317073\\\\\n",
       "\tMaximum &  24.421518\\\\\n",
       "\t1. Quartile &  -4.446221\\\\\n",
       "\t3. Quartile &   5.306814\\\\\n",
       "\tMean &   0.110182\\\\\n",
       "\tMedian &   0.675811\\\\\n",
       "\tSum &  44.954256\\\\\n",
       "\tSE Mean &   0.474789\\\\\n",
       "\tLCL Mean &  -0.823164\\\\\n",
       "\tUCL Mean &   1.043528\\\\\n",
       "\tVariance &  91.973391\\\\\n",
       "\tStdev &   9.590276\\\\\n",
       "\tSkewness &  -1.023664\\\\\n",
       "\tKurtosis &   4.020752\\\\\n",
       "\\end{tabular}\n",
       "\n",
       "\\item[\\$vw] A data.frame: 16 × 1\n",
       "\\begin{tabular}{r|l}\n",
       "  & X..newX..i\\\\\n",
       "  & <dbl>\\\\\n",
       "\\hline\n",
       "\tnobs & 408.000000\\\\\n",
       "\tNAs &   0.000000\\\\\n",
       "\tMinimum & -25.536075\\\\\n",
       "\tMaximum &  13.243079\\\\\n",
       "\t1. Quartile &  -1.596172\\\\\n",
       "\t3. Quartile &   3.917552\\\\\n",
       "\tMean &   0.904567\\\\\n",
       "\tMedian &   1.378403\\\\\n",
       "\tSum & 369.063338\\\\\n",
       "\tSE Mean &   0.225783\\\\\n",
       "\tLCL Mean &   0.460721\\\\\n",
       "\tUCL Mean &   1.348413\\\\\n",
       "\tVariance &  20.798939\\\\\n",
       "\tStdev &   4.560585\\\\\n",
       "\tSkewness &  -1.051001\\\\\n",
       "\tKurtosis &   3.937548\\\\\n",
       "\\end{tabular}\n",
       "\n",
       "\\item[\\$ew] A data.frame: 16 × 1\n",
       "\\begin{tabular}{r|l}\n",
       "  & X..newX..i\\\\\n",
       "  & <dbl>\\\\\n",
       "\\hline\n",
       "\tnobs & 408.000000\\\\\n",
       "\tNAs &   0.000000\\\\\n",
       "\tMinimum & -31.779495\\\\\n",
       "\tMaximum &  26.179487\\\\\n",
       "\t1. Quartile &  -1.698497\\\\\n",
       "\t3. Quartile &   4.463320\\\\\n",
       "\tMean &   1.166997\\\\\n",
       "\tMedian &   1.604263\\\\\n",
       "\tSum & 476.134773\\\\\n",
       "\tSE Mean &   0.278528\\\\\n",
       "\tLCL Mean &   0.619465\\\\\n",
       "\tUCL Mean &   1.714529\\\\\n",
       "\tVariance &  31.651673\\\\\n",
       "\tStdev &   5.625982\\\\\n",
       "\tSkewness &  -0.836133\\\\\n",
       "\tKurtosis &   5.242452\\\\\n",
       "\\end{tabular}\n",
       "\n",
       "\\item[\\$sp] A data.frame: 16 × 1\n",
       "\\begin{tabular}{r|l}\n",
       "  & X..newX..i\\\\\n",
       "  & <dbl>\\\\\n",
       "\\hline\n",
       "\tnobs & 408.000000\\\\\n",
       "\tNAs &   0.000000\\\\\n",
       "\tMinimum & -24.542750\\\\\n",
       "\tMaximum &  12.378013\\\\\n",
       "\t1. Quartile &  -1.778115\\\\\n",
       "\t3. Quartile &   3.535194\\\\\n",
       "\tMean &   0.631937\\\\\n",
       "\tMedian &   0.998548\\\\\n",
       "\tSum & 257.830396\\\\\n",
       "\tSE Mean &   0.217942\\\\\n",
       "\tLCL Mean &   0.203505\\\\\n",
       "\tUCL Mean &   1.060369\\\\\n",
       "\tVariance &  19.379422\\\\\n",
       "\tStdev &   4.402206\\\\\n",
       "\tSkewness &  -0.854843\\\\\n",
       "\tKurtosis &   3.334693\\\\\n",
       "\\end{tabular}\n",
       "\n",
       "\\end{description}\n"
      ],
      "text/markdown": [
       "$gm\n",
       ":   \n",
       "A data.frame: 16 × 1\n",
       "\n",
       "| <!--/--> | X..newX..i &lt;dbl&gt; |\n",
       "|---|---|\n",
       "| nobs | 408.000000 |\n",
       "| NAs |   0.000000 |\n",
       "| Minimum | -49.317073 |\n",
       "| Maximum |  24.421518 |\n",
       "| 1. Quartile |  -4.446221 |\n",
       "| 3. Quartile |   5.306814 |\n",
       "| Mean |   0.110182 |\n",
       "| Median |   0.675811 |\n",
       "| Sum |  44.954256 |\n",
       "| SE Mean |   0.474789 |\n",
       "| LCL Mean |  -0.823164 |\n",
       "| UCL Mean |   1.043528 |\n",
       "| Variance |  91.973391 |\n",
       "| Stdev |   9.590276 |\n",
       "| Skewness |  -1.023664 |\n",
       "| Kurtosis |   4.020752 |\n",
       "\n",
       "\n",
       "$vw\n",
       ":   \n",
       "A data.frame: 16 × 1\n",
       "\n",
       "| <!--/--> | X..newX..i &lt;dbl&gt; |\n",
       "|---|---|\n",
       "| nobs | 408.000000 |\n",
       "| NAs |   0.000000 |\n",
       "| Minimum | -25.536075 |\n",
       "| Maximum |  13.243079 |\n",
       "| 1. Quartile |  -1.596172 |\n",
       "| 3. Quartile |   3.917552 |\n",
       "| Mean |   0.904567 |\n",
       "| Median |   1.378403 |\n",
       "| Sum | 369.063338 |\n",
       "| SE Mean |   0.225783 |\n",
       "| LCL Mean |   0.460721 |\n",
       "| UCL Mean |   1.348413 |\n",
       "| Variance |  20.798939 |\n",
       "| Stdev |   4.560585 |\n",
       "| Skewness |  -1.051001 |\n",
       "| Kurtosis |   3.937548 |\n",
       "\n",
       "\n",
       "$ew\n",
       ":   \n",
       "A data.frame: 16 × 1\n",
       "\n",
       "| <!--/--> | X..newX..i &lt;dbl&gt; |\n",
       "|---|---|\n",
       "| nobs | 408.000000 |\n",
       "| NAs |   0.000000 |\n",
       "| Minimum | -31.779495 |\n",
       "| Maximum |  26.179487 |\n",
       "| 1. Quartile |  -1.698497 |\n",
       "| 3. Quartile |   4.463320 |\n",
       "| Mean |   1.166997 |\n",
       "| Median |   1.604263 |\n",
       "| Sum | 476.134773 |\n",
       "| SE Mean |   0.278528 |\n",
       "| LCL Mean |   0.619465 |\n",
       "| UCL Mean |   1.714529 |\n",
       "| Variance |  31.651673 |\n",
       "| Stdev |   5.625982 |\n",
       "| Skewness |  -0.836133 |\n",
       "| Kurtosis |   5.242452 |\n",
       "\n",
       "\n",
       "$sp\n",
       ":   \n",
       "A data.frame: 16 × 1\n",
       "\n",
       "| <!--/--> | X..newX..i &lt;dbl&gt; |\n",
       "|---|---|\n",
       "| nobs | 408.000000 |\n",
       "| NAs |   0.000000 |\n",
       "| Minimum | -24.542750 |\n",
       "| Maximum |  12.378013 |\n",
       "| 1. Quartile |  -1.778115 |\n",
       "| 3. Quartile |   3.535194 |\n",
       "| Mean |   0.631937 |\n",
       "| Median |   0.998548 |\n",
       "| Sum | 257.830396 |\n",
       "| SE Mean |   0.217942 |\n",
       "| LCL Mean |   0.203505 |\n",
       "| UCL Mean |   1.060369 |\n",
       "| Variance |  19.379422 |\n",
       "| Stdev |   4.402206 |\n",
       "| Skewness |  -0.854843 |\n",
       "| Kurtosis |   3.334693 |\n",
       "\n",
       "\n",
       "\n",
       "\n"
      ],
      "text/plain": [
       "$gm\n",
       "            X..newX..i\n",
       "nobs        408.000000\n",
       "NAs           0.000000\n",
       "Minimum     -49.317073\n",
       "Maximum      24.421518\n",
       "1. Quartile  -4.446221\n",
       "3. Quartile   5.306814\n",
       "Mean          0.110182\n",
       "Median        0.675811\n",
       "Sum          44.954256\n",
       "SE Mean       0.474789\n",
       "LCL Mean     -0.823164\n",
       "UCL Mean      1.043528\n",
       "Variance     91.973391\n",
       "Stdev         9.590276\n",
       "Skewness     -1.023664\n",
       "Kurtosis      4.020752\n",
       "\n",
       "$vw\n",
       "            X..newX..i\n",
       "nobs        408.000000\n",
       "NAs           0.000000\n",
       "Minimum     -25.536075\n",
       "Maximum      13.243079\n",
       "1. Quartile  -1.596172\n",
       "3. Quartile   3.917552\n",
       "Mean          0.904567\n",
       "Median        1.378403\n",
       "Sum         369.063338\n",
       "SE Mean       0.225783\n",
       "LCL Mean      0.460721\n",
       "UCL Mean      1.348413\n",
       "Variance     20.798939\n",
       "Stdev         4.560585\n",
       "Skewness     -1.051001\n",
       "Kurtosis      3.937548\n",
       "\n",
       "$ew\n",
       "            X..newX..i\n",
       "nobs        408.000000\n",
       "NAs           0.000000\n",
       "Minimum     -31.779495\n",
       "Maximum      26.179487\n",
       "1. Quartile  -1.698497\n",
       "3. Quartile   4.463320\n",
       "Mean          1.166997\n",
       "Median        1.604263\n",
       "Sum         476.134773\n",
       "SE Mean       0.278528\n",
       "LCL Mean      0.619465\n",
       "UCL Mean      1.714529\n",
       "Variance     31.651673\n",
       "Stdev         5.625982\n",
       "Skewness     -0.836133\n",
       "Kurtosis      5.242452\n",
       "\n",
       "$sp\n",
       "            X..newX..i\n",
       "nobs        408.000000\n",
       "NAs           0.000000\n",
       "Minimum     -24.542750\n",
       "Maximum      12.378013\n",
       "1. Quartile  -1.778115\n",
       "3. Quartile   3.535194\n",
       "Mean          0.631937\n",
       "Median        0.998548\n",
       "Sum         257.830396\n",
       "SE Mean       0.217942\n",
       "LCL Mean      0.203505\n",
       "UCL Mean      1.060369\n",
       "Variance     19.379422\n",
       "Stdev         4.402206\n",
       "Skewness     -0.854843\n",
       "Kurtosis      3.334693\n"
      ]
     },
     "metadata": {},
     "output_type": "display_data"
    }
   ],
   "source": [
    "apply(lrtn*100, 2, basicStats)"
   ]
  },
  {
   "cell_type": "markdown",
   "id": "3be0117a",
   "metadata": {},
   "source": [
    "## (d)\n",
    "$$\\frac{\\sqrt{T}\\hat{\\mu}_x}{\\hat{\\sigma}_x}$$"
   ]
  },
  {
   "cell_type": "code",
   "execution_count": 30,
   "id": "a879b247",
   "metadata": {
    "ExecuteTime": {
     "end_time": "2024-02-13T06:58:51.827608Z",
     "start_time": "2024-02-13T06:58:51.808Z"
    },
    "scrolled": true
   },
   "outputs": [
    {
     "data": {
      "text/plain": [
       "$gm\n",
       "\n",
       "\tOne Sample t-test\n",
       "\n",
       "data:  newX[, i]\n",
       "t = 0.23206, df = 407, p-value = 0.8166\n",
       "alternative hypothesis: true mean is not equal to 0\n",
       "95 percent confidence interval:\n",
       " -0.008231636  0.010435276\n",
       "sample estimates:\n",
       " mean of x \n",
       "0.00110182 \n",
       "\n",
       "\n",
       "$vw\n",
       "\n",
       "\tOne Sample t-test\n",
       "\n",
       "data:  newX[, i]\n",
       "t = 4.0064, df = 407, p-value = 7.332e-05\n",
       "alternative hypothesis: true mean is not equal to 0\n",
       "95 percent confidence interval:\n",
       " 0.004607213 0.013484127\n",
       "sample estimates:\n",
       " mean of x \n",
       "0.00904567 \n",
       "\n",
       "\n",
       "$ew\n",
       "\n",
       "\tOne Sample t-test\n",
       "\n",
       "data:  newX[, i]\n",
       "t = 4.1899, df = 407, p-value = 3.425e-05\n",
       "alternative hypothesis: true mean is not equal to 0\n",
       "95 percent confidence interval:\n",
       " 0.006194647 0.017145293\n",
       "sample estimates:\n",
       " mean of x \n",
       "0.01166997 \n",
       "\n",
       "\n",
       "$sp\n",
       "\n",
       "\tOne Sample t-test\n",
       "\n",
       "data:  newX[, i]\n",
       "t = 2.8996, df = 407, p-value = 0.003939\n",
       "alternative hypothesis: true mean is not equal to 0\n",
       "95 percent confidence interval:\n",
       " 0.002035053 0.010603692\n",
       "sample estimates:\n",
       "  mean of x \n",
       "0.006319372 \n",
       "\n"
      ]
     },
     "metadata": {},
     "output_type": "display_data"
    }
   ],
   "source": [
    "apply(lrtn, 2, t.test)"
   ]
  },
  {
   "cell_type": "markdown",
   "id": "050ab15f",
   "metadata": {},
   "source": [
    "# 1-3"
   ]
  },
  {
   "cell_type": "code",
   "execution_count": 7,
   "id": "078f4ba1",
   "metadata": {
    "ExecuteTime": {
     "end_time": "2024-02-14T07:58:05.003324Z",
     "start_time": "2024-02-14T07:58:04.969Z"
    },
    "scrolled": true
   },
   "outputs": [
    {
     "data": {
      "text/html": [
       "<table class=\"dataframe\">\n",
       "<caption>A data.frame: 5 × 5</caption>\n",
       "<thead>\n",
       "\t<tr><th></th><th scope=col>date</th><th scope=col>gm</th><th scope=col>vw</th><th scope=col>ew</th><th scope=col>sp</th></tr>\n",
       "\t<tr><th></th><th scope=col>&lt;int&gt;</th><th scope=col>&lt;dbl&gt;</th><th scope=col>&lt;dbl&gt;</th><th scope=col>&lt;dbl&gt;</th><th scope=col>&lt;dbl&gt;</th></tr>\n",
       "</thead>\n",
       "<tbody>\n",
       "\t<tr><th scope=row>1</th><td>19750131</td><td>0.252033</td><td>0.141600</td><td>0.299260</td><td>0.122812</td></tr>\n",
       "\t<tr><th scope=row>2</th><td>19750228</td><td>0.028571</td><td>0.058411</td><td>0.053918</td><td>0.059886</td></tr>\n",
       "\t<tr><th scope=row>3</th><td>19750331</td><td>0.054487</td><td>0.030191</td><td>0.081497</td><td>0.021694</td></tr>\n",
       "\t<tr><th scope=row>4</th><td>19750430</td><td>0.045593</td><td>0.046497</td><td>0.031093</td><td>0.047265</td></tr>\n",
       "\t<tr><th scope=row>5</th><td>19750530</td><td>0.037209</td><td>0.055140</td><td>0.072876</td><td>0.044101</td></tr>\n",
       "</tbody>\n",
       "</table>\n"
      ],
      "text/latex": [
       "A data.frame: 5 × 5\n",
       "\\begin{tabular}{r|lllll}\n",
       "  & date & gm & vw & ew & sp\\\\\n",
       "  & <int> & <dbl> & <dbl> & <dbl> & <dbl>\\\\\n",
       "\\hline\n",
       "\t1 & 19750131 & 0.252033 & 0.141600 & 0.299260 & 0.122812\\\\\n",
       "\t2 & 19750228 & 0.028571 & 0.058411 & 0.053918 & 0.059886\\\\\n",
       "\t3 & 19750331 & 0.054487 & 0.030191 & 0.081497 & 0.021694\\\\\n",
       "\t4 & 19750430 & 0.045593 & 0.046497 & 0.031093 & 0.047265\\\\\n",
       "\t5 & 19750530 & 0.037209 & 0.055140 & 0.072876 & 0.044101\\\\\n",
       "\\end{tabular}\n"
      ],
      "text/markdown": [
       "\n",
       "A data.frame: 5 × 5\n",
       "\n",
       "| <!--/--> | date &lt;int&gt; | gm &lt;dbl&gt; | vw &lt;dbl&gt; | ew &lt;dbl&gt; | sp &lt;dbl&gt; |\n",
       "|---|---|---|---|---|---|\n",
       "| 1 | 19750131 | 0.252033 | 0.141600 | 0.299260 | 0.122812 |\n",
       "| 2 | 19750228 | 0.028571 | 0.058411 | 0.053918 | 0.059886 |\n",
       "| 3 | 19750331 | 0.054487 | 0.030191 | 0.081497 | 0.021694 |\n",
       "| 4 | 19750430 | 0.045593 | 0.046497 | 0.031093 | 0.047265 |\n",
       "| 5 | 19750530 | 0.037209 | 0.055140 | 0.072876 | 0.044101 |\n",
       "\n"
      ],
      "text/plain": [
       "  date     gm       vw       ew       sp      \n",
       "1 19750131 0.252033 0.141600 0.299260 0.122812\n",
       "2 19750228 0.028571 0.058411 0.053918 0.059886\n",
       "3 19750331 0.054487 0.030191 0.081497 0.021694\n",
       "4 19750430 0.045593 0.046497 0.031093 0.047265\n",
       "5 19750530 0.037209 0.055140 0.072876 0.044101"
      ]
     },
     "metadata": {},
     "output_type": "display_data"
    }
   ],
   "source": [
    "da = read.table(\"../AFTS_sol/data/m-gm3dx7508.txt\", header = T)\n",
    "da[1:5,]"
   ]
  },
  {
   "cell_type": "code",
   "execution_count": 34,
   "id": "3fda7b7f",
   "metadata": {
    "ExecuteTime": {
     "end_time": "2024-02-13T07:01:53.934972Z",
     "start_time": "2024-02-13T07:01:53.922Z"
    }
   },
   "outputs": [],
   "source": [
    "lsp = log(1 + da[, 'sp'])"
   ]
  },
  {
   "cell_type": "markdown",
   "id": "a8d677c9",
   "metadata": {},
   "source": [
    "## (a)"
   ]
  },
  {
   "cell_type": "code",
   "execution_count": 46,
   "id": "48a9d169",
   "metadata": {
    "ExecuteTime": {
     "end_time": "2024-02-13T07:05:16.058000Z",
     "start_time": "2024-02-13T07:05:16.045Z"
    }
   },
   "outputs": [],
   "source": [
    "r_yr = mean(lsp) * 12"
   ]
  },
  {
   "cell_type": "code",
   "execution_count": 55,
   "id": "4bf9228a",
   "metadata": {
    "ExecuteTime": {
     "end_time": "2024-02-13T07:10:24.164649Z",
     "start_time": "2024-02-13T07:10:24.144Z"
    }
   },
   "outputs": [
    {
     "name": "stdout",
     "output_type": "stream",
     "text": [
      "r_yr = 0.07583247 \n"
     ]
    }
   ],
   "source": [
    "cat(\"r_yr =\", r, \"\\n\")"
   ]
  },
  {
   "cell_type": "markdown",
   "id": "8f4f73ed",
   "metadata": {},
   "source": [
    "## (b)"
   ]
  },
  {
   "cell_type": "code",
   "execution_count": 48,
   "id": "8146ebc8",
   "metadata": {
    "ExecuteTime": {
     "end_time": "2024-02-13T07:05:23.755533Z",
     "start_time": "2024-02-13T07:05:23.742Z"
    }
   },
   "outputs": [],
   "source": [
    "V = exp(r_yr*(2008-1975+1))"
   ]
  },
  {
   "cell_type": "code",
   "execution_count": 56,
   "id": "3e95f4ec",
   "metadata": {
    "ExecuteTime": {
     "end_time": "2024-02-13T07:10:28.518066Z",
     "start_time": "2024-02-13T07:10:28.504Z"
    }
   },
   "outputs": [
    {
     "name": "stdout",
     "output_type": "stream",
     "text": [
      "V = 13.17477 \n"
     ]
    }
   ],
   "source": [
    "cat(\"V =\", V, \"\\n\")"
   ]
  },
  {
   "cell_type": "markdown",
   "id": "79ac904e",
   "metadata": {},
   "source": [
    "# 1-4"
   ]
  },
  {
   "cell_type": "code",
   "execution_count": 8,
   "id": "efbea436",
   "metadata": {
    "ExecuteTime": {
     "end_time": "2024-02-14T07:58:14.217538Z",
     "start_time": "2024-02-14T07:58:14.183Z"
    },
    "scrolled": true
   },
   "outputs": [
    {
     "data": {
      "text/html": [
       "<table class=\"dataframe\">\n",
       "<caption>A data.frame: 5 × 4</caption>\n",
       "<thead>\n",
       "\t<tr><th></th><th scope=col>date</th><th scope=col>axp</th><th scope=col>cat</th><th scope=col>sbux</th></tr>\n",
       "\t<tr><th></th><th scope=col>&lt;int&gt;</th><th scope=col>&lt;dbl&gt;</th><th scope=col>&lt;dbl&gt;</th><th scope=col>&lt;dbl&gt;</th></tr>\n",
       "</thead>\n",
       "<tbody>\n",
       "\t<tr><th scope=row>1</th><td>19990104</td><td>-0.009756</td><td> 0.029891</td><td>-0.040089</td></tr>\n",
       "\t<tr><th scope=row>2</th><td>19990105</td><td>-0.019089</td><td>-0.002639</td><td>-0.034803</td></tr>\n",
       "\t<tr><th scope=row>3</th><td>19990106</td><td> 0.043063</td><td> 0.026455</td><td>-0.008413</td></tr>\n",
       "\t<tr><th scope=row>4</th><td>19990107</td><td> 0.012063</td><td> 0.009021</td><td> 0.003636</td></tr>\n",
       "\t<tr><th scope=row>5</th><td>19990108</td><td> 0.030393</td><td> 0.042146</td><td> 0.021739</td></tr>\n",
       "</tbody>\n",
       "</table>\n"
      ],
      "text/latex": [
       "A data.frame: 5 × 4\n",
       "\\begin{tabular}{r|llll}\n",
       "  & date & axp & cat & sbux\\\\\n",
       "  & <int> & <dbl> & <dbl> & <dbl>\\\\\n",
       "\\hline\n",
       "\t1 & 19990104 & -0.009756 &  0.029891 & -0.040089\\\\\n",
       "\t2 & 19990105 & -0.019089 & -0.002639 & -0.034803\\\\\n",
       "\t3 & 19990106 &  0.043063 &  0.026455 & -0.008413\\\\\n",
       "\t4 & 19990107 &  0.012063 &  0.009021 &  0.003636\\\\\n",
       "\t5 & 19990108 &  0.030393 &  0.042146 &  0.021739\\\\\n",
       "\\end{tabular}\n"
      ],
      "text/markdown": [
       "\n",
       "A data.frame: 5 × 4\n",
       "\n",
       "| <!--/--> | date &lt;int&gt; | axp &lt;dbl&gt; | cat &lt;dbl&gt; | sbux &lt;dbl&gt; |\n",
       "|---|---|---|---|---|\n",
       "| 1 | 19990104 | -0.009756 |  0.029891 | -0.040089 |\n",
       "| 2 | 19990105 | -0.019089 | -0.002639 | -0.034803 |\n",
       "| 3 | 19990106 |  0.043063 |  0.026455 | -0.008413 |\n",
       "| 4 | 19990107 |  0.012063 |  0.009021 |  0.003636 |\n",
       "| 5 | 19990108 |  0.030393 |  0.042146 |  0.021739 |\n",
       "\n"
      ],
      "text/plain": [
       "  date     axp       cat       sbux     \n",
       "1 19990104 -0.009756  0.029891 -0.040089\n",
       "2 19990105 -0.019089 -0.002639 -0.034803\n",
       "3 19990106  0.043063  0.026455 -0.008413\n",
       "4 19990107  0.012063  0.009021  0.003636\n",
       "5 19990108  0.030393  0.042146  0.021739"
      ]
     },
     "metadata": {},
     "output_type": "display_data"
    }
   ],
   "source": [
    "da = read.table(\"../AFTS_sol/data/d-3stocks9908.txt\", header = T)\n",
    "da[1:5,]"
   ]
  },
  {
   "cell_type": "code",
   "execution_count": 37,
   "id": "e302adcc",
   "metadata": {
    "ExecuteTime": {
     "end_time": "2024-02-13T07:49:54.851813Z",
     "start_time": "2024-02-13T07:49:54.834Z"
    }
   },
   "outputs": [
    {
     "data": {
      "text/html": [
       "2515"
      ],
      "text/latex": [
       "2515"
      ],
      "text/markdown": [
       "2515"
      ],
      "text/plain": [
       "[1] 2515"
      ]
     },
     "metadata": {},
     "output_type": "display_data"
    }
   ],
   "source": [
    "T = length(da[, 'date'])\n",
    "T"
   ]
  },
  {
   "cell_type": "code",
   "execution_count": 38,
   "id": "99e467a0",
   "metadata": {
    "ExecuteTime": {
     "end_time": "2024-02-13T07:49:56.620469Z",
     "start_time": "2024-02-13T07:49:56.607Z"
    }
   },
   "outputs": [],
   "source": [
    "lrtn = log(1+da[, 'axp'])"
   ]
  },
  {
   "cell_type": "markdown",
   "id": "b3799894",
   "metadata": {},
   "source": [
    "## (a)\n",
    "$$ \\frac{\\hat{S}(r)}{\\sqrt{6/T}}$$"
   ]
  },
  {
   "cell_type": "code",
   "execution_count": 52,
   "id": "c019acc1",
   "metadata": {
    "ExecuteTime": {
     "end_time": "2024-02-13T07:08:52.559309Z",
     "start_time": "2024-02-13T07:08:52.538Z"
    }
   },
   "outputs": [
    {
     "data": {
      "text/html": [
       "'package:fBasics'"
      ],
      "text/latex": [
       "'package:fBasics'"
      ],
      "text/markdown": [
       "'package:fBasics'"
      ],
      "text/plain": [
       "[1] \"package:fBasics\""
      ]
     },
     "metadata": {},
     "output_type": "display_data"
    }
   ],
   "source": [
    "find(\"skewness\")"
   ]
  },
  {
   "cell_type": "code",
   "execution_count": 40,
   "id": "6db53c5f",
   "metadata": {
    "ExecuteTime": {
     "end_time": "2024-02-13T07:51:20.490525Z",
     "start_time": "2024-02-13T07:51:20.478Z"
    }
   },
   "outputs": [],
   "source": [
    "print_test_res <- function(pv, tname, thre=0.05) {\n",
    "    if (pv > thre) {\n",
    "        cat(\"p-value =\", pv, \" > \", thre, \", cannot reject the null hypothesis, so that\", tname, \"is zero\\n\")\n",
    "    } else {\n",
    "        cat(\"p-value =\", pv, \"<=\", thre, \", reject the null hypothesis, so that\", tname, \"is not zero\\n\")\n",
    "    }\n",
    "}"
   ]
  },
  {
   "cell_type": "code",
   "execution_count": 41,
   "id": "32fdb8a6",
   "metadata": {
    "ExecuteTime": {
     "end_time": "2024-02-13T07:51:21.634128Z",
     "start_time": "2024-02-13T07:51:21.614Z"
    }
   },
   "outputs": [
    {
     "name": "stdout",
     "output_type": "stream",
     "text": [
      "p-value = 5.657474e-12 <= 0.05 , reject the null hypothesis, so that skewness is not zero\n"
     ]
    }
   ],
   "source": [
    "s3 = skewness(lrtn)\n",
    "t3 = s3 / sqrt(6 / T)\n",
    "p3 = 2 * (1 - pnorm(abs(t3)))\n",
    "print_test_res(p3, \"skewness\")"
   ]
  },
  {
   "cell_type": "markdown",
   "id": "dfb70b67",
   "metadata": {},
   "source": [
    "## (b)\n",
    "$$\\frac{\\hat{K}(r) - 3}{\\sqrt{24/T}}$$"
   ]
  },
  {
   "cell_type": "code",
   "execution_count": 42,
   "id": "85e2bacb",
   "metadata": {
    "ExecuteTime": {
     "end_time": "2024-02-13T07:52:11.751956Z",
     "start_time": "2024-02-13T07:52:11.718Z"
    }
   },
   "outputs": [
    {
     "name": "stdout",
     "output_type": "stream",
     "text": [
      "p-value = 0 <= 0.05 , reject the null hypothesis, so that kurtosis is not zero\n"
     ]
    }
   ],
   "source": [
    "s4 = kurtosis(lrtn)\n",
    "t4 = s4 / sqrt(24 / T)\n",
    "p4 = 2 * (1 - pnorm(abs(t4)))\n",
    "print_test_res(p4, \"kurtosis\")"
   ]
  },
  {
   "cell_type": "markdown",
   "id": "55a9a784",
   "metadata": {},
   "source": [
    "# 1-5"
   ]
  },
  {
   "cell_type": "code",
   "execution_count": 9,
   "id": "2346f9a2",
   "metadata": {
    "ExecuteTime": {
     "end_time": "2024-02-14T07:58:21.045351Z",
     "start_time": "2024-02-14T07:58:21.017Z"
    },
    "scrolled": true
   },
   "outputs": [
    {
     "data": {
      "text/html": [
       "<table class=\"dataframe\">\n",
       "<caption>A data.frame: 5 × 4</caption>\n",
       "<thead>\n",
       "\t<tr><th></th><th scope=col>year</th><th scope=col>mon</th><th scope=col>day</th><th scope=col>rate</th></tr>\n",
       "\t<tr><th></th><th scope=col>&lt;int&gt;</th><th scope=col>&lt;int&gt;</th><th scope=col>&lt;int&gt;</th><th scope=col>&lt;dbl&gt;</th></tr>\n",
       "</thead>\n",
       "<tbody>\n",
       "\t<tr><th scope=row>1</th><td>2000</td><td>1</td><td> 4</td><td>1.4518</td></tr>\n",
       "\t<tr><th scope=row>2</th><td>2000</td><td>1</td><td> 5</td><td>1.4518</td></tr>\n",
       "\t<tr><th scope=row>3</th><td>2000</td><td>1</td><td> 6</td><td>1.4571</td></tr>\n",
       "\t<tr><th scope=row>4</th><td>2000</td><td>1</td><td> 7</td><td>1.4505</td></tr>\n",
       "\t<tr><th scope=row>5</th><td>2000</td><td>1</td><td>10</td><td>1.4568</td></tr>\n",
       "</tbody>\n",
       "</table>\n"
      ],
      "text/latex": [
       "A data.frame: 5 × 4\n",
       "\\begin{tabular}{r|llll}\n",
       "  & year & mon & day & rate\\\\\n",
       "  & <int> & <int> & <int> & <dbl>\\\\\n",
       "\\hline\n",
       "\t1 & 2000 & 1 &  4 & 1.4518\\\\\n",
       "\t2 & 2000 & 1 &  5 & 1.4518\\\\\n",
       "\t3 & 2000 & 1 &  6 & 1.4571\\\\\n",
       "\t4 & 2000 & 1 &  7 & 1.4505\\\\\n",
       "\t5 & 2000 & 1 & 10 & 1.4568\\\\\n",
       "\\end{tabular}\n"
      ],
      "text/markdown": [
       "\n",
       "A data.frame: 5 × 4\n",
       "\n",
       "| <!--/--> | year &lt;int&gt; | mon &lt;int&gt; | day &lt;int&gt; | rate &lt;dbl&gt; |\n",
       "|---|---|---|---|---|\n",
       "| 1 | 2000 | 1 |  4 | 1.4518 |\n",
       "| 2 | 2000 | 1 |  5 | 1.4518 |\n",
       "| 3 | 2000 | 1 |  6 | 1.4571 |\n",
       "| 4 | 2000 | 1 |  7 | 1.4505 |\n",
       "| 5 | 2000 | 1 | 10 | 1.4568 |\n",
       "\n"
      ],
      "text/plain": [
       "  year mon day rate  \n",
       "1 2000 1    4  1.4518\n",
       "2 2000 1    5  1.4518\n",
       "3 2000 1    6  1.4571\n",
       "4 2000 1    7  1.4505\n",
       "5 2000 1   10  1.4568"
      ]
     },
     "metadata": {},
     "output_type": "display_data"
    }
   ],
   "source": [
    "da_caus = read.table(\"../AFTS_sol/data/d-caus.txt\", header = T)\n",
    "da_caus[1:5,]"
   ]
  },
  {
   "cell_type": "code",
   "execution_count": 10,
   "id": "5d7c9f8a",
   "metadata": {
    "ExecuteTime": {
     "end_time": "2024-02-14T07:58:23.591720Z",
     "start_time": "2024-02-14T07:58:23.559Z"
    },
    "scrolled": true
   },
   "outputs": [
    {
     "data": {
      "text/html": [
       "<table class=\"dataframe\">\n",
       "<caption>A data.frame: 5 × 4</caption>\n",
       "<thead>\n",
       "\t<tr><th></th><th scope=col>Date</th><th scope=col>Mon</th><th scope=col>Day</th><th scope=col>Value</th></tr>\n",
       "\t<tr><th></th><th scope=col>&lt;int&gt;</th><th scope=col>&lt;int&gt;</th><th scope=col>&lt;int&gt;</th><th scope=col>&lt;dbl&gt;</th></tr>\n",
       "</thead>\n",
       "<tbody>\n",
       "\t<tr><th scope=row>1</th><td>2000</td><td>1</td><td> 4</td><td>1.0309</td></tr>\n",
       "\t<tr><th scope=row>2</th><td>2000</td><td>1</td><td> 5</td><td>1.0335</td></tr>\n",
       "\t<tr><th scope=row>3</th><td>2000</td><td>1</td><td> 6</td><td>1.0324</td></tr>\n",
       "\t<tr><th scope=row>4</th><td>2000</td><td>1</td><td> 7</td><td>1.0294</td></tr>\n",
       "\t<tr><th scope=row>5</th><td>2000</td><td>1</td><td>10</td><td>1.0252</td></tr>\n",
       "</tbody>\n",
       "</table>\n"
      ],
      "text/latex": [
       "A data.frame: 5 × 4\n",
       "\\begin{tabular}{r|llll}\n",
       "  & Date & Mon & Day & Value\\\\\n",
       "  & <int> & <int> & <int> & <dbl>\\\\\n",
       "\\hline\n",
       "\t1 & 2000 & 1 &  4 & 1.0309\\\\\n",
       "\t2 & 2000 & 1 &  5 & 1.0335\\\\\n",
       "\t3 & 2000 & 1 &  6 & 1.0324\\\\\n",
       "\t4 & 2000 & 1 &  7 & 1.0294\\\\\n",
       "\t5 & 2000 & 1 & 10 & 1.0252\\\\\n",
       "\\end{tabular}\n"
      ],
      "text/markdown": [
       "\n",
       "A data.frame: 5 × 4\n",
       "\n",
       "| <!--/--> | Date &lt;int&gt; | Mon &lt;int&gt; | Day &lt;int&gt; | Value &lt;dbl&gt; |\n",
       "|---|---|---|---|---|\n",
       "| 1 | 2000 | 1 |  4 | 1.0309 |\n",
       "| 2 | 2000 | 1 |  5 | 1.0335 |\n",
       "| 3 | 2000 | 1 |  6 | 1.0324 |\n",
       "| 4 | 2000 | 1 |  7 | 1.0294 |\n",
       "| 5 | 2000 | 1 | 10 | 1.0252 |\n",
       "\n"
      ],
      "text/plain": [
       "  Date Mon Day Value \n",
       "1 2000 1    4  1.0309\n",
       "2 2000 1    5  1.0335\n",
       "3 2000 1    6  1.0324\n",
       "4 2000 1    7  1.0294\n",
       "5 2000 1   10  1.0252"
      ]
     },
     "metadata": {},
     "output_type": "display_data"
    }
   ],
   "source": [
    "da_useu = read.table(\"../AFTS_sol/data/d-useu.txt\", header = T)\n",
    "da_useu[1:5,]"
   ]
  },
  {
   "cell_type": "code",
   "execution_count": 11,
   "id": "48a1c3c6",
   "metadata": {
    "ExecuteTime": {
     "end_time": "2024-02-14T07:58:27.185632Z",
     "start_time": "2024-02-14T07:58:27.152Z"
    },
    "scrolled": true
   },
   "outputs": [
    {
     "data": {
      "text/html": [
       "<table class=\"dataframe\">\n",
       "<caption>A data.frame: 5 × 4</caption>\n",
       "<thead>\n",
       "\t<tr><th></th><th scope=col>year</th><th scope=col>mon</th><th scope=col>day</th><th scope=col>value</th></tr>\n",
       "\t<tr><th></th><th scope=col>&lt;int&gt;</th><th scope=col>&lt;int&gt;</th><th scope=col>&lt;int&gt;</th><th scope=col>&lt;dbl&gt;</th></tr>\n",
       "</thead>\n",
       "<tbody>\n",
       "\t<tr><th scope=row>1</th><td>2000</td><td>1</td><td> 4</td><td>103.09</td></tr>\n",
       "\t<tr><th scope=row>2</th><td>2000</td><td>1</td><td> 5</td><td>103.77</td></tr>\n",
       "\t<tr><th scope=row>3</th><td>2000</td><td>1</td><td> 6</td><td>105.19</td></tr>\n",
       "\t<tr><th scope=row>4</th><td>2000</td><td>1</td><td> 7</td><td>105.17</td></tr>\n",
       "\t<tr><th scope=row>5</th><td>2000</td><td>1</td><td>10</td><td>105.28</td></tr>\n",
       "</tbody>\n",
       "</table>\n"
      ],
      "text/latex": [
       "A data.frame: 5 × 4\n",
       "\\begin{tabular}{r|llll}\n",
       "  & year & mon & day & value\\\\\n",
       "  & <int> & <int> & <int> & <dbl>\\\\\n",
       "\\hline\n",
       "\t1 & 2000 & 1 &  4 & 103.09\\\\\n",
       "\t2 & 2000 & 1 &  5 & 103.77\\\\\n",
       "\t3 & 2000 & 1 &  6 & 105.19\\\\\n",
       "\t4 & 2000 & 1 &  7 & 105.17\\\\\n",
       "\t5 & 2000 & 1 & 10 & 105.28\\\\\n",
       "\\end{tabular}\n"
      ],
      "text/markdown": [
       "\n",
       "A data.frame: 5 × 4\n",
       "\n",
       "| <!--/--> | year &lt;int&gt; | mon &lt;int&gt; | day &lt;int&gt; | value &lt;dbl&gt; |\n",
       "|---|---|---|---|---|\n",
       "| 1 | 2000 | 1 |  4 | 103.09 |\n",
       "| 2 | 2000 | 1 |  5 | 103.77 |\n",
       "| 3 | 2000 | 1 |  6 | 105.19 |\n",
       "| 4 | 2000 | 1 |  7 | 105.17 |\n",
       "| 5 | 2000 | 1 | 10 | 105.28 |\n",
       "\n"
      ],
      "text/plain": [
       "  year mon day value \n",
       "1 2000 1    4  103.09\n",
       "2 2000 1    5  103.77\n",
       "3 2000 1    6  105.19\n",
       "4 2000 1    7  105.17\n",
       "5 2000 1   10  105.28"
      ]
     },
     "metadata": {},
     "output_type": "display_data"
    }
   ],
   "source": [
    "da_jpus = read.table(\"../AFTS_sol/data/d-jpus.txt\", header = T)\n",
    "da_jpus[1:5,]"
   ]
  },
  {
   "cell_type": "code",
   "execution_count": 12,
   "id": "3117eb54",
   "metadata": {
    "ExecuteTime": {
     "end_time": "2024-02-14T07:58:29.695894Z",
     "start_time": "2024-02-14T07:58:29.647Z"
    },
    "scrolled": true
   },
   "outputs": [
    {
     "data": {
      "text/html": [
       "<table class=\"dataframe\">\n",
       "<caption>A data.frame: 5 × 4</caption>\n",
       "<thead>\n",
       "\t<tr><th></th><th scope=col>date</th><th scope=col>mon</th><th scope=col>day</th><th scope=col>value</th></tr>\n",
       "\t<tr><th></th><th scope=col>&lt;int&gt;</th><th scope=col>&lt;int&gt;</th><th scope=col>&lt;int&gt;</th><th scope=col>&lt;dbl&gt;</th></tr>\n",
       "</thead>\n",
       "<tbody>\n",
       "\t<tr><th scope=row>1</th><td>2000</td><td>1</td><td> 4</td><td>1.6370</td></tr>\n",
       "\t<tr><th scope=row>2</th><td>2000</td><td>1</td><td> 5</td><td>1.6415</td></tr>\n",
       "\t<tr><th scope=row>3</th><td>2000</td><td>1</td><td> 6</td><td>1.6475</td></tr>\n",
       "\t<tr><th scope=row>4</th><td>2000</td><td>1</td><td> 7</td><td>1.6384</td></tr>\n",
       "\t<tr><th scope=row>5</th><td>2000</td><td>1</td><td>10</td><td>1.6374</td></tr>\n",
       "</tbody>\n",
       "</table>\n"
      ],
      "text/latex": [
       "A data.frame: 5 × 4\n",
       "\\begin{tabular}{r|llll}\n",
       "  & date & mon & day & value\\\\\n",
       "  & <int> & <int> & <int> & <dbl>\\\\\n",
       "\\hline\n",
       "\t1 & 2000 & 1 &  4 & 1.6370\\\\\n",
       "\t2 & 2000 & 1 &  5 & 1.6415\\\\\n",
       "\t3 & 2000 & 1 &  6 & 1.6475\\\\\n",
       "\t4 & 2000 & 1 &  7 & 1.6384\\\\\n",
       "\t5 & 2000 & 1 & 10 & 1.6374\\\\\n",
       "\\end{tabular}\n"
      ],
      "text/markdown": [
       "\n",
       "A data.frame: 5 × 4\n",
       "\n",
       "| <!--/--> | date &lt;int&gt; | mon &lt;int&gt; | day &lt;int&gt; | value &lt;dbl&gt; |\n",
       "|---|---|---|---|---|\n",
       "| 1 | 2000 | 1 |  4 | 1.6370 |\n",
       "| 2 | 2000 | 1 |  5 | 1.6415 |\n",
       "| 3 | 2000 | 1 |  6 | 1.6475 |\n",
       "| 4 | 2000 | 1 |  7 | 1.6384 |\n",
       "| 5 | 2000 | 1 | 10 | 1.6374 |\n",
       "\n"
      ],
      "text/plain": [
       "  date mon day value \n",
       "1 2000 1    4  1.6370\n",
       "2 2000 1    5  1.6415\n",
       "3 2000 1    6  1.6475\n",
       "4 2000 1    7  1.6384\n",
       "5 2000 1   10  1.6374"
      ]
     },
     "metadata": {},
     "output_type": "display_data"
    }
   ],
   "source": [
    "da_usuk = read.table(\"../AFTS_sol/data/d-usuk.txt\", header = T)\n",
    "da_usuk[1:5,]"
   ]
  },
  {
   "cell_type": "markdown",
   "id": "145bc7eb",
   "metadata": {},
   "source": [
    "## (a)"
   ]
  },
  {
   "cell_type": "code",
   "execution_count": 13,
   "id": "32fabb0f",
   "metadata": {
    "ExecuteTime": {
     "end_time": "2024-02-13T07:33:06.245839Z",
     "start_time": "2024-02-13T07:33:06.219Z"
    }
   },
   "outputs": [
    {
     "data": {
      "text/html": [
       "'package:base'"
      ],
      "text/latex": [
       "'package:base'"
      ],
      "text/markdown": [
       "'package:base'"
      ],
      "text/plain": [
       "[1] \"package:base\""
      ]
     },
     "metadata": {},
     "output_type": "display_data"
    }
   ],
   "source": [
    "find(\"diff\")"
   ]
  },
  {
   "cell_type": "code",
   "execution_count": 15,
   "id": "6239a644",
   "metadata": {
    "ExecuteTime": {
     "end_time": "2024-02-13T07:33:17.390609Z",
     "start_time": "2024-02-13T07:33:17.251Z"
    }
   },
   "outputs": [],
   "source": [
    "help(diff)"
   ]
  },
  {
   "cell_type": "code",
   "execution_count": 10,
   "id": "dc2b89d6",
   "metadata": {
    "ExecuteTime": {
     "end_time": "2024-02-13T07:26:02.430563Z",
     "start_time": "2024-02-13T07:26:02.414Z"
    }
   },
   "outputs": [],
   "source": [
    "diff_caus = diff(log(da_caus$rate))\n",
    "diff_useu = diff(log(da_useu$Value))\n",
    "diff_jpus = diff(log(da_jpus$value))\n",
    "diff_usuk = diff(log(da_usuk$value))"
   ]
  },
  {
   "cell_type": "code",
   "execution_count": 21,
   "id": "f078a58e",
   "metadata": {
    "ExecuteTime": {
     "end_time": "2024-02-13T07:35:35.761869Z",
     "start_time": "2024-02-13T07:35:35.741Z"
    }
   },
   "outputs": [
    {
     "data": {
      "text/html": [
       "2322"
      ],
      "text/latex": [
       "2322"
      ],
      "text/markdown": [
       "2322"
      ],
      "text/plain": [
       "[1] 2322"
      ]
     },
     "metadata": {},
     "output_type": "display_data"
    },
    {
     "data": {
      "text/html": [
       "<style>\n",
       ".list-inline {list-style: none; margin:0; padding: 0}\n",
       ".list-inline>li {display: inline-block}\n",
       ".list-inline>li:not(:last-child)::after {content: \"\\00b7\"; padding: 0 .5ex}\n",
       "</style>\n",
       "<ol class=list-inline><li>2323</li><li>4</li></ol>\n"
      ],
      "text/latex": [
       "\\begin{enumerate*}\n",
       "\\item 2323\n",
       "\\item 4\n",
       "\\end{enumerate*}\n"
      ],
      "text/markdown": [
       "1. 2323\n",
       "2. 4\n",
       "\n",
       "\n"
      ],
      "text/plain": [
       "[1] 2323    4"
      ]
     },
     "metadata": {},
     "output_type": "display_data"
    }
   ],
   "source": [
    "length(diff_caus); dim(da_caus)"
   ]
  },
  {
   "cell_type": "markdown",
   "id": "8bcdf434",
   "metadata": {},
   "source": [
    "## (b)"
   ]
  },
  {
   "cell_type": "code",
   "execution_count": 11,
   "id": "d0178af0",
   "metadata": {
    "ExecuteTime": {
     "end_time": "2024-02-13T07:26:24.328695Z",
     "start_time": "2024-02-13T07:26:24.293Z"
    }
   },
   "outputs": [
    {
     "data": {
      "text/html": [
       "<table class=\"dataframe\">\n",
       "<caption>A data.frame: 16 × 1</caption>\n",
       "<thead>\n",
       "\t<tr><th></th><th scope=col>diff_caus</th></tr>\n",
       "\t<tr><th></th><th scope=col>&lt;dbl&gt;</th></tr>\n",
       "</thead>\n",
       "<tbody>\n",
       "\t<tr><th scope=row>nobs</th><td>2322.000000</td></tr>\n",
       "\t<tr><th scope=row>NAs</th><td>   0.000000</td></tr>\n",
       "\t<tr><th scope=row>Minimum</th><td>  -0.050716</td></tr>\n",
       "\t<tr><th scope=row>Maximum</th><td>   0.038070</td></tr>\n",
       "\t<tr><th scope=row>1. Quartile</th><td>  -0.003097</td></tr>\n",
       "\t<tr><th scope=row>3. Quartile</th><td>   0.002816</td></tr>\n",
       "\t<tr><th scope=row>Mean</th><td>  -0.000068</td></tr>\n",
       "\t<tr><th scope=row>Median</th><td>  -0.000070</td></tr>\n",
       "\t<tr><th scope=row>Sum</th><td>  -0.158338</td></tr>\n",
       "\t<tr><th scope=row>SE Mean</th><td>   0.000122</td></tr>\n",
       "\t<tr><th scope=row>LCL Mean</th><td>  -0.000307</td></tr>\n",
       "\t<tr><th scope=row>UCL Mean</th><td>   0.000171</td></tr>\n",
       "\t<tr><th scope=row>Variance</th><td>   0.000035</td></tr>\n",
       "\t<tr><th scope=row>Stdev</th><td>   0.005876</td></tr>\n",
       "\t<tr><th scope=row>Skewness</th><td>  -0.238885</td></tr>\n",
       "\t<tr><th scope=row>Kurtosis</th><td>   8.245334</td></tr>\n",
       "</tbody>\n",
       "</table>\n"
      ],
      "text/latex": [
       "A data.frame: 16 × 1\n",
       "\\begin{tabular}{r|l}\n",
       "  & diff\\_caus\\\\\n",
       "  & <dbl>\\\\\n",
       "\\hline\n",
       "\tnobs & 2322.000000\\\\\n",
       "\tNAs &    0.000000\\\\\n",
       "\tMinimum &   -0.050716\\\\\n",
       "\tMaximum &    0.038070\\\\\n",
       "\t1. Quartile &   -0.003097\\\\\n",
       "\t3. Quartile &    0.002816\\\\\n",
       "\tMean &   -0.000068\\\\\n",
       "\tMedian &   -0.000070\\\\\n",
       "\tSum &   -0.158338\\\\\n",
       "\tSE Mean &    0.000122\\\\\n",
       "\tLCL Mean &   -0.000307\\\\\n",
       "\tUCL Mean &    0.000171\\\\\n",
       "\tVariance &    0.000035\\\\\n",
       "\tStdev &    0.005876\\\\\n",
       "\tSkewness &   -0.238885\\\\\n",
       "\tKurtosis &    8.245334\\\\\n",
       "\\end{tabular}\n"
      ],
      "text/markdown": [
       "\n",
       "A data.frame: 16 × 1\n",
       "\n",
       "| <!--/--> | diff_caus &lt;dbl&gt; |\n",
       "|---|---|\n",
       "| nobs | 2322.000000 |\n",
       "| NAs |    0.000000 |\n",
       "| Minimum |   -0.050716 |\n",
       "| Maximum |    0.038070 |\n",
       "| 1. Quartile |   -0.003097 |\n",
       "| 3. Quartile |    0.002816 |\n",
       "| Mean |   -0.000068 |\n",
       "| Median |   -0.000070 |\n",
       "| Sum |   -0.158338 |\n",
       "| SE Mean |    0.000122 |\n",
       "| LCL Mean |   -0.000307 |\n",
       "| UCL Mean |    0.000171 |\n",
       "| Variance |    0.000035 |\n",
       "| Stdev |    0.005876 |\n",
       "| Skewness |   -0.238885 |\n",
       "| Kurtosis |    8.245334 |\n",
       "\n"
      ],
      "text/plain": [
       "            diff_caus  \n",
       "nobs        2322.000000\n",
       "NAs            0.000000\n",
       "Minimum       -0.050716\n",
       "Maximum        0.038070\n",
       "1. Quartile   -0.003097\n",
       "3. Quartile    0.002816\n",
       "Mean          -0.000068\n",
       "Median        -0.000070\n",
       "Sum           -0.158338\n",
       "SE Mean        0.000122\n",
       "LCL Mean      -0.000307\n",
       "UCL Mean       0.000171\n",
       "Variance       0.000035\n",
       "Stdev          0.005876\n",
       "Skewness      -0.238885\n",
       "Kurtosis       8.245334"
      ]
     },
     "metadata": {},
     "output_type": "display_data"
    }
   ],
   "source": [
    "basicStats(diff_caus)"
   ]
  },
  {
   "cell_type": "code",
   "execution_count": 12,
   "id": "fa244020",
   "metadata": {
    "ExecuteTime": {
     "end_time": "2024-02-13T07:27:17.535062Z",
     "start_time": "2024-02-13T07:27:17.508Z"
    }
   },
   "outputs": [
    {
     "data": {
      "text/html": [
       "<table class=\"dataframe\">\n",
       "<caption>A data.frame: 16 × 1</caption>\n",
       "<thead>\n",
       "\t<tr><th></th><th scope=col>diff_useu</th></tr>\n",
       "\t<tr><th></th><th scope=col>&lt;dbl&gt;</th></tr>\n",
       "</thead>\n",
       "<tbody>\n",
       "\t<tr><th scope=row>nobs</th><td>2322.000000</td></tr>\n",
       "\t<tr><th scope=row>NAs</th><td>   0.000000</td></tr>\n",
       "\t<tr><th scope=row>Minimum</th><td>  -0.030031</td></tr>\n",
       "\t<tr><th scope=row>Maximum</th><td>   0.046208</td></tr>\n",
       "\t<tr><th scope=row>1. Quartile</th><td>  -0.003397</td></tr>\n",
       "\t<tr><th scope=row>3. Quartile</th><td>   0.003795</td></tr>\n",
       "\t<tr><th scope=row>Mean</th><td>   0.000110</td></tr>\n",
       "\t<tr><th scope=row>Median</th><td>   0.000075</td></tr>\n",
       "\t<tr><th scope=row>Sum</th><td>   0.255198</td></tr>\n",
       "\t<tr><th scope=row>SE Mean</th><td>   0.000136</td></tr>\n",
       "\t<tr><th scope=row>LCL Mean</th><td>  -0.000156</td></tr>\n",
       "\t<tr><th scope=row>UCL Mean</th><td>   0.000376</td></tr>\n",
       "\t<tr><th scope=row>Variance</th><td>   0.000043</td></tr>\n",
       "\t<tr><th scope=row>Stdev</th><td>   0.006539</td></tr>\n",
       "\t<tr><th scope=row>Skewness</th><td>   0.125932</td></tr>\n",
       "\t<tr><th scope=row>Kurtosis</th><td>   2.804500</td></tr>\n",
       "</tbody>\n",
       "</table>\n"
      ],
      "text/latex": [
       "A data.frame: 16 × 1\n",
       "\\begin{tabular}{r|l}\n",
       "  & diff\\_useu\\\\\n",
       "  & <dbl>\\\\\n",
       "\\hline\n",
       "\tnobs & 2322.000000\\\\\n",
       "\tNAs &    0.000000\\\\\n",
       "\tMinimum &   -0.030031\\\\\n",
       "\tMaximum &    0.046208\\\\\n",
       "\t1. Quartile &   -0.003397\\\\\n",
       "\t3. Quartile &    0.003795\\\\\n",
       "\tMean &    0.000110\\\\\n",
       "\tMedian &    0.000075\\\\\n",
       "\tSum &    0.255198\\\\\n",
       "\tSE Mean &    0.000136\\\\\n",
       "\tLCL Mean &   -0.000156\\\\\n",
       "\tUCL Mean &    0.000376\\\\\n",
       "\tVariance &    0.000043\\\\\n",
       "\tStdev &    0.006539\\\\\n",
       "\tSkewness &    0.125932\\\\\n",
       "\tKurtosis &    2.804500\\\\\n",
       "\\end{tabular}\n"
      ],
      "text/markdown": [
       "\n",
       "A data.frame: 16 × 1\n",
       "\n",
       "| <!--/--> | diff_useu &lt;dbl&gt; |\n",
       "|---|---|\n",
       "| nobs | 2322.000000 |\n",
       "| NAs |    0.000000 |\n",
       "| Minimum |   -0.030031 |\n",
       "| Maximum |    0.046208 |\n",
       "| 1. Quartile |   -0.003397 |\n",
       "| 3. Quartile |    0.003795 |\n",
       "| Mean |    0.000110 |\n",
       "| Median |    0.000075 |\n",
       "| Sum |    0.255198 |\n",
       "| SE Mean |    0.000136 |\n",
       "| LCL Mean |   -0.000156 |\n",
       "| UCL Mean |    0.000376 |\n",
       "| Variance |    0.000043 |\n",
       "| Stdev |    0.006539 |\n",
       "| Skewness |    0.125932 |\n",
       "| Kurtosis |    2.804500 |\n",
       "\n"
      ],
      "text/plain": [
       "            diff_useu  \n",
       "nobs        2322.000000\n",
       "NAs            0.000000\n",
       "Minimum       -0.030031\n",
       "Maximum        0.046208\n",
       "1. Quartile   -0.003397\n",
       "3. Quartile    0.003795\n",
       "Mean           0.000110\n",
       "Median         0.000075\n",
       "Sum            0.255198\n",
       "SE Mean        0.000136\n",
       "LCL Mean      -0.000156\n",
       "UCL Mean       0.000376\n",
       "Variance       0.000043\n",
       "Stdev          0.006539\n",
       "Skewness       0.125932\n",
       "Kurtosis       2.804500"
      ]
     },
     "metadata": {},
     "output_type": "display_data"
    }
   ],
   "source": [
    "basicStats(diff_useu)"
   ]
  },
  {
   "cell_type": "code",
   "execution_count": 22,
   "id": "7f590214",
   "metadata": {
    "ExecuteTime": {
     "end_time": "2024-02-13T07:35:46.052908Z",
     "start_time": "2024-02-13T07:35:46.027Z"
    }
   },
   "outputs": [
    {
     "data": {
      "text/html": [
       "<table class=\"dataframe\">\n",
       "<caption>A data.frame: 16 × 1</caption>\n",
       "<thead>\n",
       "\t<tr><th></th><th scope=col>diff_jpus</th></tr>\n",
       "\t<tr><th></th><th scope=col>&lt;dbl&gt;</th></tr>\n",
       "</thead>\n",
       "<tbody>\n",
       "\t<tr><th scope=row>nobs</th><td>2322.000000</td></tr>\n",
       "\t<tr><th scope=row>NAs</th><td>   0.000000</td></tr>\n",
       "\t<tr><th scope=row>Minimum</th><td>  -0.052156</td></tr>\n",
       "\t<tr><th scope=row>Maximum</th><td>   0.027084</td></tr>\n",
       "\t<tr><th scope=row>1. Quartile</th><td>  -0.003570</td></tr>\n",
       "\t<tr><th scope=row>3. Quartile</th><td>   0.003888</td></tr>\n",
       "\t<tr><th scope=row>Mean</th><td>  -0.000022</td></tr>\n",
       "\t<tr><th scope=row>Median</th><td>   0.000083</td></tr>\n",
       "\t<tr><th scope=row>Sum</th><td>  -0.050737</td></tr>\n",
       "\t<tr><th scope=row>SE Mean</th><td>   0.000138</td></tr>\n",
       "\t<tr><th scope=row>LCL Mean</th><td>  -0.000292</td></tr>\n",
       "\t<tr><th scope=row>UCL Mean</th><td>   0.000248</td></tr>\n",
       "\t<tr><th scope=row>Variance</th><td>   0.000044</td></tr>\n",
       "\t<tr><th scope=row>Stdev</th><td>   0.006632</td></tr>\n",
       "\t<tr><th scope=row>Skewness</th><td>  -0.670617</td></tr>\n",
       "\t<tr><th scope=row>Kurtosis</th><td>   4.580879</td></tr>\n",
       "</tbody>\n",
       "</table>\n"
      ],
      "text/latex": [
       "A data.frame: 16 × 1\n",
       "\\begin{tabular}{r|l}\n",
       "  & diff\\_jpus\\\\\n",
       "  & <dbl>\\\\\n",
       "\\hline\n",
       "\tnobs & 2322.000000\\\\\n",
       "\tNAs &    0.000000\\\\\n",
       "\tMinimum &   -0.052156\\\\\n",
       "\tMaximum &    0.027084\\\\\n",
       "\t1. Quartile &   -0.003570\\\\\n",
       "\t3. Quartile &    0.003888\\\\\n",
       "\tMean &   -0.000022\\\\\n",
       "\tMedian &    0.000083\\\\\n",
       "\tSum &   -0.050737\\\\\n",
       "\tSE Mean &    0.000138\\\\\n",
       "\tLCL Mean &   -0.000292\\\\\n",
       "\tUCL Mean &    0.000248\\\\\n",
       "\tVariance &    0.000044\\\\\n",
       "\tStdev &    0.006632\\\\\n",
       "\tSkewness &   -0.670617\\\\\n",
       "\tKurtosis &    4.580879\\\\\n",
       "\\end{tabular}\n"
      ],
      "text/markdown": [
       "\n",
       "A data.frame: 16 × 1\n",
       "\n",
       "| <!--/--> | diff_jpus &lt;dbl&gt; |\n",
       "|---|---|\n",
       "| nobs | 2322.000000 |\n",
       "| NAs |    0.000000 |\n",
       "| Minimum |   -0.052156 |\n",
       "| Maximum |    0.027084 |\n",
       "| 1. Quartile |   -0.003570 |\n",
       "| 3. Quartile |    0.003888 |\n",
       "| Mean |   -0.000022 |\n",
       "| Median |    0.000083 |\n",
       "| Sum |   -0.050737 |\n",
       "| SE Mean |    0.000138 |\n",
       "| LCL Mean |   -0.000292 |\n",
       "| UCL Mean |    0.000248 |\n",
       "| Variance |    0.000044 |\n",
       "| Stdev |    0.006632 |\n",
       "| Skewness |   -0.670617 |\n",
       "| Kurtosis |    4.580879 |\n",
       "\n"
      ],
      "text/plain": [
       "            diff_jpus  \n",
       "nobs        2322.000000\n",
       "NAs            0.000000\n",
       "Minimum       -0.052156\n",
       "Maximum        0.027084\n",
       "1. Quartile   -0.003570\n",
       "3. Quartile    0.003888\n",
       "Mean          -0.000022\n",
       "Median         0.000083\n",
       "Sum           -0.050737\n",
       "SE Mean        0.000138\n",
       "LCL Mean      -0.000292\n",
       "UCL Mean       0.000248\n",
       "Variance       0.000044\n",
       "Stdev          0.006632\n",
       "Skewness      -0.670617\n",
       "Kurtosis       4.580879"
      ]
     },
     "metadata": {},
     "output_type": "display_data"
    }
   ],
   "source": [
    "basicStats(diff_jpus)"
   ]
  },
  {
   "cell_type": "code",
   "execution_count": 23,
   "id": "9633f38f",
   "metadata": {
    "ExecuteTime": {
     "end_time": "2024-02-13T07:35:57.722287Z",
     "start_time": "2024-02-13T07:35:57.696Z"
    }
   },
   "outputs": [
    {
     "data": {
      "text/html": [
       "<table class=\"dataframe\">\n",
       "<caption>A data.frame: 16 × 1</caption>\n",
       "<thead>\n",
       "\t<tr><th></th><th scope=col>diff_usuk</th></tr>\n",
       "\t<tr><th></th><th scope=col>&lt;dbl&gt;</th></tr>\n",
       "</thead>\n",
       "<tbody>\n",
       "\t<tr><th scope=row>nobs</th><td>2322.000000</td></tr>\n",
       "\t<tr><th scope=row>NAs</th><td>   0.000000</td></tr>\n",
       "\t<tr><th scope=row>Minimum</th><td>  -0.049662</td></tr>\n",
       "\t<tr><th scope=row>Maximum</th><td>   0.044349</td></tr>\n",
       "\t<tr><th scope=row>1. Quartile</th><td>  -0.003158</td></tr>\n",
       "\t<tr><th scope=row>3. Quartile</th><td>   0.003300</td></tr>\n",
       "\t<tr><th scope=row>Mean</th><td>  -0.000057</td></tr>\n",
       "\t<tr><th scope=row>Median</th><td>   0.000105</td></tr>\n",
       "\t<tr><th scope=row>Sum</th><td>  -0.133444</td></tr>\n",
       "\t<tr><th scope=row>SE Mean</th><td>   0.000128</td></tr>\n",
       "\t<tr><th scope=row>LCL Mean</th><td>  -0.000309</td></tr>\n",
       "\t<tr><th scope=row>UCL Mean</th><td>   0.000194</td></tr>\n",
       "\t<tr><th scope=row>Variance</th><td>   0.000038</td></tr>\n",
       "\t<tr><th scope=row>Stdev</th><td>   0.006177</td></tr>\n",
       "\t<tr><th scope=row>Skewness</th><td>  -0.394828</td></tr>\n",
       "\t<tr><th scope=row>Kurtosis</th><td>   7.061154</td></tr>\n",
       "</tbody>\n",
       "</table>\n"
      ],
      "text/latex": [
       "A data.frame: 16 × 1\n",
       "\\begin{tabular}{r|l}\n",
       "  & diff\\_usuk\\\\\n",
       "  & <dbl>\\\\\n",
       "\\hline\n",
       "\tnobs & 2322.000000\\\\\n",
       "\tNAs &    0.000000\\\\\n",
       "\tMinimum &   -0.049662\\\\\n",
       "\tMaximum &    0.044349\\\\\n",
       "\t1. Quartile &   -0.003158\\\\\n",
       "\t3. Quartile &    0.003300\\\\\n",
       "\tMean &   -0.000057\\\\\n",
       "\tMedian &    0.000105\\\\\n",
       "\tSum &   -0.133444\\\\\n",
       "\tSE Mean &    0.000128\\\\\n",
       "\tLCL Mean &   -0.000309\\\\\n",
       "\tUCL Mean &    0.000194\\\\\n",
       "\tVariance &    0.000038\\\\\n",
       "\tStdev &    0.006177\\\\\n",
       "\tSkewness &   -0.394828\\\\\n",
       "\tKurtosis &    7.061154\\\\\n",
       "\\end{tabular}\n"
      ],
      "text/markdown": [
       "\n",
       "A data.frame: 16 × 1\n",
       "\n",
       "| <!--/--> | diff_usuk &lt;dbl&gt; |\n",
       "|---|---|\n",
       "| nobs | 2322.000000 |\n",
       "| NAs |    0.000000 |\n",
       "| Minimum |   -0.049662 |\n",
       "| Maximum |    0.044349 |\n",
       "| 1. Quartile |   -0.003158 |\n",
       "| 3. Quartile |    0.003300 |\n",
       "| Mean |   -0.000057 |\n",
       "| Median |    0.000105 |\n",
       "| Sum |   -0.133444 |\n",
       "| SE Mean |    0.000128 |\n",
       "| LCL Mean |   -0.000309 |\n",
       "| UCL Mean |    0.000194 |\n",
       "| Variance |    0.000038 |\n",
       "| Stdev |    0.006177 |\n",
       "| Skewness |   -0.394828 |\n",
       "| Kurtosis |    7.061154 |\n",
       "\n"
      ],
      "text/plain": [
       "            diff_usuk  \n",
       "nobs        2322.000000\n",
       "NAs            0.000000\n",
       "Minimum       -0.049662\n",
       "Maximum        0.044349\n",
       "1. Quartile   -0.003158\n",
       "3. Quartile    0.003300\n",
       "Mean          -0.000057\n",
       "Median         0.000105\n",
       "Sum           -0.133444\n",
       "SE Mean        0.000128\n",
       "LCL Mean      -0.000309\n",
       "UCL Mean       0.000194\n",
       "Variance       0.000038\n",
       "Stdev          0.006177\n",
       "Skewness      -0.394828\n",
       "Kurtosis       7.061154"
      ]
     },
     "metadata": {},
     "output_type": "display_data"
    }
   ],
   "source": [
    "basicStats(diff_usuk)"
   ]
  },
  {
   "cell_type": "markdown",
   "id": "ba2abd51",
   "metadata": {},
   "source": [
    "## (c)"
   ]
  },
  {
   "cell_type": "code",
   "execution_count": 30,
   "id": "3bd18a94",
   "metadata": {
    "ExecuteTime": {
     "end_time": "2024-02-13T07:42:36.712817Z",
     "start_time": "2024-02-13T07:42:36.699Z"
    }
   },
   "outputs": [],
   "source": [
    "plot_den <- function(lrtn, title) {\n",
    "    par(bg = \"white\")\n",
    "    den = density(lrtn)\n",
    "    plot(den$x, den$y, type = 'l', main = title, xlab = 'log-rtn', ylab = 'density')\n",
    "}"
   ]
  },
  {
   "cell_type": "code",
   "execution_count": 31,
   "id": "2aae6568",
   "metadata": {
    "ExecuteTime": {
     "end_time": "2024-02-13T07:42:56.802556Z",
     "start_time": "2024-02-13T07:42:56.763Z"
    }
   },
   "outputs": [
    {
     "data": {
      "image/png": "[encoded data removed]",
      "text/plain": [
       "Plot with title “caus”"
      ]
     },
     "metadata": {
      "image/png": {
       "height": 420,
       "width": 420
      }
     },
     "output_type": "display_data"
    }
   ],
   "source": [
    "plot_den(diff_caus, 'caus')"
   ]
  },
  {
   "cell_type": "code",
   "execution_count": 32,
   "id": "ddd170b5",
   "metadata": {
    "ExecuteTime": {
     "end_time": "2024-02-13T07:43:15.263362Z",
     "start_time": "2024-02-13T07:43:15.227Z"
    }
   },
   "outputs": [
    {
     "data": {
      "image/png": "[encoded data removed]",
      "text/plain": [
       "Plot with title “useu”"
      ]
     },
     "metadata": {
      "image/png": {
       "height": 420,
       "width": 420
      }
     },
     "output_type": "display_data"
    }
   ],
   "source": [
    "plot_den(diff_useu, 'useu')"
   ]
  },
  {
   "cell_type": "code",
   "execution_count": 33,
   "id": "d210a3f2",
   "metadata": {
    "ExecuteTime": {
     "end_time": "2024-02-13T07:43:25.866699Z",
     "start_time": "2024-02-13T07:43:25.834Z"
    }
   },
   "outputs": [
    {
     "data": {
      "image/png": "[encoded data removed]",
      "text/plain": [
       "Plot with title “jpus”"
      ]
     },
     "metadata": {
      "image/png": {
       "height": 420,
       "width": 420
      }
     },
     "output_type": "display_data"
    }
   ],
   "source": [
    "plot_den(diff_jpus, 'jpus')"
   ]
  },
  {
   "cell_type": "code",
   "execution_count": 34,
   "id": "bab64f6c",
   "metadata": {
    "ExecuteTime": {
     "end_time": "2024-02-13T07:43:36.718924Z",
     "start_time": "2024-02-13T07:43:36.687Z"
    }
   },
   "outputs": [
    {
     "data": {
      "image/png": "[encoded data removed]",
      "text/plain": [
       "Plot with title “usuk”"
      ]
     },
     "metadata": {
      "image/png": {
       "height": 420,
       "width": 420
      }
     },
     "output_type": "display_data"
    }
   ],
   "source": [
    "plot_den(diff_usuk, 'usuk')"
   ]
  },
  {
   "cell_type": "markdown",
   "id": "ef363f49",
   "metadata": {},
   "source": [
    "## (d)\n",
    "$$\\frac{\\sqrt{T}\\hat{\\mu}_x}{\\hat{\\sigma}_x}$$"
   ]
  },
  {
   "cell_type": "code",
   "execution_count": 43,
   "id": "90b35dd8",
   "metadata": {
    "ExecuteTime": {
     "end_time": "2024-02-13T07:53:40.550952Z",
     "start_time": "2024-02-13T07:53:40.538Z"
    }
   },
   "outputs": [],
   "source": [
    "do_t_test <- function(lrtn) {\n",
    "    res = t.test(lrtn)\n",
    "    p = res$p.value\n",
    "    print_test_res(p, 'mean')\n",
    "}"
   ]
  },
  {
   "cell_type": "code",
   "execution_count": 44,
   "id": "cbe68fc9",
   "metadata": {
    "ExecuteTime": {
     "end_time": "2024-02-13T07:53:49.206337Z",
     "start_time": "2024-02-13T07:53:49.187Z"
    }
   },
   "outputs": [
    {
     "name": "stdout",
     "output_type": "stream",
     "text": [
      "p-value = 0.5761053  >  0.05 , cannot reject the null hypothesis, so that mean is zero\n"
     ]
    }
   ],
   "source": [
    "do_t_test(diff_caus)"
   ]
  },
  {
   "cell_type": "code",
   "execution_count": 45,
   "id": "f5745ac8",
   "metadata": {
    "ExecuteTime": {
     "end_time": "2024-02-13T07:54:10.031783Z",
     "start_time": "2024-02-13T07:54:10.011Z"
    }
   },
   "outputs": [
    {
     "name": "stdout",
     "output_type": "stream",
     "text": [
      "p-value = 0.4181081  >  0.05 , cannot reject the null hypothesis, so that mean is zero\n"
     ]
    }
   ],
   "source": [
    "do_t_test(diff_useu)"
   ]
  },
  {
   "cell_type": "code",
   "execution_count": 46,
   "id": "fd18c454",
   "metadata": {
    "ExecuteTime": {
     "end_time": "2024-02-13T07:54:20.786148Z",
     "start_time": "2024-02-13T07:54:20.773Z"
    }
   },
   "outputs": [
    {
     "name": "stdout",
     "output_type": "stream",
     "text": [
      "p-value = 0.8738755  >  0.05 , cannot reject the null hypothesis, so that mean is zero\n"
     ]
    }
   ],
   "source": [
    "do_t_test(diff_jpus)"
   ]
  },
  {
   "cell_type": "code",
   "execution_count": 47,
   "id": "06e7ebab",
   "metadata": {
    "ExecuteTime": {
     "end_time": "2024-02-13T07:54:29.401299Z",
     "start_time": "2024-02-13T07:54:29.387Z"
    }
   },
   "outputs": [
    {
     "name": "stdout",
     "output_type": "stream",
     "text": [
      "p-value = 0.6539422  >  0.05 , cannot reject the null hypothesis, so that mean is zero\n"
     ]
    }
   ],
   "source": [
    "do_t_test(diff_usuk)"
   ]
  },
  {
   "cell_type": "code",
   "execution_count": null,
   "id": "0538b576",
   "metadata": {},
   "outputs": [],
   "source": []
  }
 ],
 "metadata": {
  "kernelspec": {
   "display_name": "R",
   "language": "R",
   "name": "ir"
  },
  "language_info": {
   "codemirror_mode": "r",
   "file_extension": ".r",
   "mimetype": "text/x-r-source",
   "name": "R",
   "pygments_lexer": "r",
   "version": "4.3.1"
  },
  "toc": {
   "base_numbering": 1,
   "nav_menu": {},
   "number_sections": true,
   "sideBar": true,
   "skip_h1_title": false,
   "title_cell": "Table of Contents",
   "title_sidebar": "Contents",
   "toc_cell": true,
   "toc_position": {
    "height": "calc(100% - 180px)",
    "left": "10px",
    "top": "150px",
    "width": "203.496px"
   },
   "toc_section_display": true,
   "toc_window_display": true
  }
 },
 "nbformat": 4,
 "nbformat_minor": 5
}
